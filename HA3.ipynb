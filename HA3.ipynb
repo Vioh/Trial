{
 "cells": [
  {
   "cell_type": "markdown",
   "metadata": {},
   "source": [
    "# Home Assignment 3\n",
    "This home assignment will focus on reinforcement learning and deep reinforcement learning. The first part will cover value-table reinforcement learning techniques, and the second part will include neural networks as function approximators, i.e. deep reinforcement learning. \n",
    "\n",
    "When handing in this assignment, make sure that you're handing in the correct version, and more importantly, *that you do no clear any output from your cells*. We'll use these outputs to aid us when grading your assignment."
   ]
  },
  {
   "cell_type": "markdown",
   "metadata": {},
   "source": [
    "## Task 1: Gridworld\n",
    "\n",
    "In this task, you will implement Value Iteration to solve for the optimal policy, $\\pi^*$, and the corresponding state value function, $V^*$.\n",
    "\n",
    "The MDP you will work with in this assignment is illustrated in the figure below\n",
    "\n",
    "![title](./grid_world.png) "
   ]
  },
  {
   "cell_type": "markdown",
   "metadata": {},
   "source": [
    "The agent starts in one of the squares shown in the above figure, and then proceeds to take actions. The available actions at any time step are: **North, West, South,** and **East**. If an action would make the agent bump into a wall, or one of the black (unreachable) states, it instead does nothing, leaving the agent at the same place it was before.\n",
    "\n",
    "The reward $R_s^a$ of being in state $s$ and performing actions $a$ is zero for all states, regardless of the action taken, with the exception of the green and the red squares. For the green square, the reward is always 1, and for the red square, always -1, regardless of the action.\n",
    "\n",
    "When the agent is either in the green or the red square, it will be transported to the terminal state in the next time step, regardless of the action taken. The terminal state is shown as the white square with the \"T\" inside.\n",
    "\n",
    "#### State representation\n",
    "The notations used to define the states are illustrated in the table below\n",
    "\n",
    "| $S_0$ | $S_1$ | $S_2$ | $S_3$ | $S_4$ |    |\n",
    "|-------|-------|-------|-------|-------|----|\n",
    "| $S_5$ | $S_6$ | $S_7$ | $S_8$ | $S_9$ |    |\n",
    "| $S_{10}$ | $S_{11}$ | $S_{12}$ | $S_{13}$ | $S_{14}$ | $S_{15}$|\n",
    "\n",
    "where $S_{10}$ corresponds to the initial state of the environment, $S_4$ and $S_9$ to the green and red states of the environment, and $S_{15}$ to the terminal state."
   ]
  },
  {
   "cell_type": "markdown",
   "metadata": {},
   "source": [
    "\n",
    "### Task 1.a: Solve for $V^*(s)$ and $Q^*(s,a)$\n",
    "For this task all transition probabilities are assumed to be 1 (that is, trying to move in a certain direction will definitely move the agent in the chosen direction), and a discount factor of .9, i.e. $\\gamma=.9$."
   ]
  },
  {
   "cell_type": "markdown",
   "metadata": {},
   "source": [
    "* Solve for $V^*(S_{10})$ \n",
    "\n",
    "**Your answer:** 0.59049"
   ]
  },
  {
   "cell_type": "markdown",
   "metadata": {},
   "source": [
    "* Solve $Q^*(S_{10},a)$ for all actions\n",
    "\n",
    "**Your answer:** \n",
    "$Q^*(S_{10},\\mathrm{west}) = 0.9\\cdot{}0.59049$,\n",
    "$Q^*(S_{10},\\mathrm{south}) = 0.9\\cdot{}0.59049$,\n",
    "$Q^*(S_{10},\\mathrm{north}) = 0.9\\cdot{}0.6561$,\n",
    "$Q^*(S_{10},\\mathrm{east}) = 0.9\\cdot{}0.6561$\n",
    "\n"
   ]
  },
  {
   "cell_type": "markdown",
   "metadata": {},
   "source": [
    "\n",
    "\n",
    "### Task 1.b Write a mathematical expression relating $V^\\pi(s)$ to $Q^\\pi(s,a)$ and $\\pi(a|s)$\n"
   ]
  },
  {
   "cell_type": "markdown",
   "metadata": {},
   "source": [
    "**Your answer:** $V^\\pi(s) = \\sum_{a\\in\\mathcal{A}}\\pi(a|s)Q^\\pi(s,a)$"
   ]
  },
  {
   "cell_type": "markdown",
   "metadata": {},
   "source": [
    "\n",
    "###  Task 1.c: Value Iteration\n",
    "For this task, the transitions are no longer deterministic. Instead, there is a 0.2 probability that the agent will try to travel in an orthogonal direction of the chosen action (0.1 probability for each of the two orthogonal directions). Note that the Markov decision process is still known and does not have to be learned from experience.\n",
    "\n",
    "Your task is to implement value iteration and solve for the\n",
    "* optimal greedy policy $\\pi^*(s)$ \n",
    "* $V^*(s)$"
   ]
  },
  {
   "cell_type": "markdown",
   "metadata": {},
   "source": [
    "#### The value iteration algorithm\n",
    "Value iteration is an iterative algorithm used to compute the optimal value function $V^*(s)$. Each iteration starts with a guess of what the value function is and then uses the Bellman equations to improve this guess iteratively. We can describe one iteration of the algorithm as\n",
    "\n",
    "$\n",
    "\\textbf{For} \\quad s \\in {\\cal S}:\\qquad  \\\\\n",
    "\\quad \\textbf{For} \\quad \\, a \\in {\\cal A}: \\\\\n",
    "\\qquad Q(s,a) = \\sum_{s'\\in S} T(s,a,s')\\left(R(s,a,s') + \\gamma V(s') \\right)\\\\ \n",
    "\\quad V(s) = \\underset{a}{\\text{max}}~ Q(s,a)\n",
    "$\n",
    "\n",
    "where $T(s, a, s')={\\mathrm Pr}[S'=s'\\big|S=s,A=a]$ is the probability to transition state $s$ to $s'$ given action $a$.\n",
    "\n",
    "\n",
    "#### The MDP Python class\n",
    "The Markov Decision Process you will work with is defined in `gridworld_mpd.py`. In the implementation, the actions are represented by integers as, North = 0, West = 1, South = 2, and East = 3.\n",
    "To interact with the MDP, you need to instantiate an object as: \n",
    "\n",
    "\n",
    "```python\n",
    "mdp = GridWorldMDP()\n",
    "```\n",
    "\n",
    "At your disposal there are a number of instance-functions implemented for you, and presented below:"
   ]
  },
  {
   "cell_type": "code",
   "execution_count": 1,
   "metadata": {},
   "outputs": [
    {
     "name": "stdout",
     "output_type": "stream",
     "text": [
      "Help on function get_states in module gridworld_mdp:\n",
      "\n",
      "get_states(self)\n",
      "    Returns complete set of states for the MDP\n",
      "    :return: numpy array of shape [num states,]\n",
      "\n"
     ]
    }
   ],
   "source": [
    "from gridworld_mdp import *\n",
    "import numpy as np\n",
    "import random\n",
    "\n",
    "help(GridWorldMDP.get_states)"
   ]
  },
  {
   "cell_type": "code",
   "execution_count": 2,
   "metadata": {},
   "outputs": [
    {
     "name": "stdout",
     "output_type": "stream",
     "text": [
      "Help on function __init__ in module gridworld_mdp:\n",
      "\n",
      "__init__(self, trans_prob=0.8)\n",
      "    Initializes an instance of the GridWorldMDP class\n",
      "    :param trans_prob: transition probabilities (e.g. =1 for deterministic MDP)\n",
      "\n"
     ]
    }
   ],
   "source": [
    "# The constructor\n",
    "help(GridWorldMDP.__init__)"
   ]
  },
  {
   "cell_type": "code",
   "execution_count": 3,
   "metadata": {},
   "outputs": [
    {
     "name": "stdout",
     "output_type": "stream",
     "text": [
      "Help on function get_actions in module gridworld_mdp:\n",
      "\n",
      "get_actions(self)\n",
      "    Returns complete set of actions for the MDP\n",
      "    :return: numpy array of shape [num actions,]\n",
      "\n"
     ]
    }
   ],
   "source": [
    "help(GridWorldMDP.get_actions)"
   ]
  },
  {
   "cell_type": "code",
   "execution_count": 4,
   "metadata": {},
   "outputs": [
    {
     "name": "stdout",
     "output_type": "stream",
     "text": [
      "Help on function state_transition_func in module gridworld_mdp:\n",
      "\n",
      "state_transition_func(self, s, a)\n",
      "    Returns the transition probabilities to all states given current state and action\n",
      "    :param state: current state as integer\n",
      "    :param action: selected action as integer\n",
      "    :return: state-transition probabilities, i.e.\n",
      "     [P[S_0| S=s, A_t=a], P[S_1| S=s, A=a], ..., P[S_14| S=s, A=a]]\n",
      "\n"
     ]
    }
   ],
   "source": [
    "help(GridWorldMDP.state_transition_func)"
   ]
  },
  {
   "cell_type": "code",
   "execution_count": 14,
   "metadata": {},
   "outputs": [
    {
     "name": "stdout",
     "output_type": "stream",
     "text": [
      "Help on function reward_function in module gridworld_mdp:\n",
      "\n",
      "reward_function(self, s, a)\n",
      "    Returns the reward r(s,a)\n",
      "    :param state: current state as integer\n",
      "    :param action: selected action as integer\n",
      "    :return: r(s,a)\n",
      "\n"
     ]
    }
   ],
   "source": [
    "help(GridWorldMDP.reward_function)"
   ]
  },
  {
   "cell_type": "markdown",
   "metadata": {},
   "source": [
    "We also provide two helper functions for visualizing the value function and the policies you obtain:"
   ]
  },
  {
   "cell_type": "code",
   "execution_count": 5,
   "metadata": {},
   "outputs": [],
   "source": [
    "# Function for printing a policy pi\n",
    "def print_policy(pi):\n",
    "    print('Policy for non-terminal states: ')\n",
    "    indencies = np.arange(1, 16)\n",
    "    txt = '| '\n",
    "    hor_delimiter = '---------------------'\n",
    "    print(hor_delimiter)\n",
    "    for a, i in zip(pi, indencies):\n",
    "        txt += mdp.act_to_char_dict[a] + ' | '\n",
    "        if i % 5 == 0:\n",
    "            print(txt + '\\n' + hor_delimiter)\n",
    "            txt = '| '\n",
    "    print('                            ---')\n",
    "    print('Policy for terminal state: |', mdp.act_to_char_dict[pi[15]],'|')\n",
    "    print('                            ---')            \n",
    "\n",
    "# Function for printing a table with of the value function\n",
    "def print_value_table(values, num_iterations=None):            \n",
    "    if num_iterations:\n",
    "        print('Values for non-terminal states after: ', num_iterations, 'iterations \\n', np.reshape(values, [3, 5]), '\\n')\n",
    "        print('Value for terminal state:', terminal_value, '\\n')\n",
    "    else: \n",
    "        terminal_value = values[-1]\n",
    "        print('Values for non-terminal states: \\n', np.reshape(values[:-1], [3, 5]))\n",
    "        print('Value for terminal state:', terminal_value, '\\n')"
   ]
  },
  {
   "cell_type": "markdown",
   "metadata": {},
   "source": [
    "Now it's time for you to implement your own version of value iteration to solve for the greedy policy and $V^*(s)$."
   ]
  },
  {
   "cell_type": "code",
   "execution_count": 6,
   "metadata": {},
   "outputs": [],
   "source": [
    "def value_iteration(gamma, mdp):\n",
    "    V = np.zeros([16]) # state value table\n",
    "    Q = np.zeros([16, 4]) # state action value table\n",
    "    pi = np.zeros([16]) # greedy policy table\n",
    "\n",
    "    # Complete this function\n",
    "    import copy\n",
    "    \n",
    "    \n",
    "    # Get  the states\n",
    "    states = mdp.get_states()\n",
    "    \n",
    "    # Get the actions\n",
    "    actions = mdp.get_actions()\n",
    "    \n",
    "    while True:\n",
    "        v = np.copy(V)\n",
    "        Q = np.zeros([16, 4]) # state action value table\n",
    "        for s in states:\n",
    "            for a in actions:\n",
    "                T = mdp.state_transition_func(s,a)\n",
    "                for s_prime in states:\n",
    "                    Q[s,a] += T[s_prime]*(mdp.reward_function(s,a)+gamma*V[s_prime])\n",
    "\n",
    "            v[s] = np.max(Q[s,:])\n",
    "            pi[s] = np.argmax(Q[s,:])\n",
    "        if np.sum(np.abs(V-v)) < 1E-5:\n",
    "            break\n",
    "        else:\n",
    "            V = np.copy(v)\n",
    "\n",
    "    return V, pi"
   ]
  },
  {
   "cell_type": "markdown",
   "metadata": {},
   "source": [
    "Run your implementation for the deterministic version of our MDP. As a sanity check, compare your analytical solutions with the output from your implementation."
   ]
  },
  {
   "cell_type": "code",
   "execution_count": 17,
   "metadata": {},
   "outputs": [
    {
     "name": "stdout",
     "output_type": "stream",
     "text": [
      "Values for non-terminal states: \n",
      " [[ 0.6561    0.729     0.81      0.9       1.      ]\n",
      " [ 0.59049   0.        0.        0.81     -1.      ]\n",
      " [ 0.531441  0.59049   0.6561    0.729     0.6561  ]]\n",
      "Value for terminal state: 0.0 \n",
      "\n",
      "Policy for non-terminal states: \n",
      "---------------------\n",
      "| E | E | E | E | N | \n",
      "---------------------\n",
      "| N | N | N | N | N | \n",
      "---------------------\n",
      "| N | E | E | N | W | \n",
      "---------------------\n",
      "                            ---\n",
      "Policy for terminal state: | N |\n",
      "                            ---\n"
     ]
    }
   ],
   "source": [
    "mdp = GridWorldMDP(trans_prob=1)\n",
    "v, pi = value_iteration(.9, mdp)\n",
    "print_value_table(v)\n",
    "print_policy(pi)"
   ]
  },
  {
   "cell_type": "markdown",
   "metadata": {
    "collapsed": true
   },
   "source": [
    "Once your implementation passed the sanity check, run it for the stochastic case, where the probability of an action succeding is 0.8, and 0.2 of moving the agent in an orthogonal direction to the intended. Use $\\gamma = .99$."
   ]
  },
  {
   "cell_type": "code",
   "execution_count": 10,
   "metadata": {},
   "outputs": [
    {
     "name": "stdout",
     "output_type": "stream",
     "text": [
      "Values for non-terminal states: \n",
      " [[ 0.93861932  0.95193359  0.96395302  0.97612419  1.        ]\n",
      " [ 0.92691576  0.          0.          0.88371641 -1.        ]\n",
      " [ 0.91395136  0.90255534  0.89130139  0.88057545  0.79971275]]\n",
      "Value for terminal state: 0.0 \n",
      "\n",
      "Policy for non-terminal states: \n",
      "---------------------\n",
      "| E | E | E | E | N | \n",
      "---------------------\n",
      "| N | N | N | W | N | \n",
      "---------------------\n",
      "| N | W | W | W | S | \n",
      "---------------------\n",
      "                            ---\n",
      "Policy for terminal state: | N |\n",
      "                            ---\n"
     ]
    }
   ],
   "source": [
    "# Run for stochastic MDP, gamma = .99\n",
    "mdp = GridWorldMDP()\n",
    "v, pi = value_iteration(.99, mdp)\n",
    "print_value_table(v)\n",
    "print_policy(pi)"
   ]
  },
  {
   "cell_type": "markdown",
   "metadata": {},
   "source": [
    "Does the policy that the algorithm found looks reasonable? For instance, what's the policy for state $S_8$? Is that a good idea? Why?\n",
    "\n",
    "**Your answer**: Yes. Because the probability of moving in a orthogonal direction of the chosen action is 20%, it is safer to choose a action that can not give a negative reward. If its a good idea depends on what you want to do, its a good idea given the reward function and the discount factor. By changing the discount factor we can alter the way the agent values the imidiate reward compared to the future reward."
   ]
  },
  {
   "cell_type": "markdown",
   "metadata": {},
   "source": [
    "Test your implementation using this function."
   ]
  },
  {
   "cell_type": "code",
   "execution_count": 11,
   "metadata": {},
   "outputs": [
    {
     "name": "stdout",
     "output_type": "stream",
     "text": [
      "Passed: state-value test, for gamma=.99\n",
      "Passed: policy test, for gamma=.99\n"
     ]
    }
   ],
   "source": [
    "test_value_iteration(v, pi)"
   ]
  },
  {
   "cell_type": "markdown",
   "metadata": {},
   "source": [
    "Run value iteration for the same scenario as above, but now with $\\gamma=.9$"
   ]
  },
  {
   "cell_type": "code",
   "execution_count": 12,
   "metadata": {},
   "outputs": [
    {
     "name": "stdout",
     "output_type": "stream",
     "text": [
      "Values for non-terminal states: \n",
      " [[ 0.56631434  0.65360208  0.74438015  0.84776628  1.        ]\n",
      " [ 0.49725133  0.          0.          0.57185903 -1.        ]\n",
      " [ 0.43084105  0.37829274  0.41624434  0.47405629  0.27617627]]\n",
      "Value for terminal state: 0.0 \n",
      "\n",
      "Policy for non-terminal states: \n",
      "---------------------\n",
      "| E | E | E | E | N | \n",
      "---------------------\n",
      "| N | N | N | N | N | \n",
      "---------------------\n",
      "| N | W | E | N | W | \n",
      "---------------------\n",
      "                            ---\n",
      "Policy for terminal state: | N |\n",
      "                            ---\n"
     ]
    }
   ],
   "source": [
    "# Run for stochastic MDP, gamma = .9\n",
    "mdp = GridWorldMDP()\n",
    "v, pi = value_iteration(.9, mdp)\n",
    "print_value_table(v)\n",
    "print_policy(pi)"
   ]
  },
  {
   "cell_type": "markdown",
   "metadata": {},
   "source": [
    "Do you notice any difference between the greedy policy for the two different discount factors. If so, what's the difference, and why do you think this happened?"
   ]
  },
  {
   "cell_type": "markdown",
   "metadata": {},
   "source": [
    "**Your answer:** With gamma = 0.99 you can see the policy wants to take the \"safe path\" (going along the north wall) until it reaches state s8, while the policy with gamma = 9.0 will choose the \"risky path\" (along the south wall) after state s12. This is because of how much it will consider future states. with a lower gamma the policy will weight future values less, so when the \"safe path\" is too long, it will prioritize the shorter path instead. "
   ]
  },
  {
   "cell_type": "markdown",
   "metadata": {},
   "source": [
    "## Task 2: Q-learning\n",
    "\n",
    "In the previous task, you solved for $V^*(s)$ and the greedy policy $\\pi^*(s)$, with the entire model of the MDP being available to you. This is however not very practical since for most problems we are trying to solve, the model is not known, and estimating the model is quite often a very tedious process which often also requires a lot of simplifications. \n",
    "\n",
    "#### Q-learning algorithm\n",
    "$\n",
    "\\text{Initialize}~Q(s,a), ~ \\forall~ s \\in {\\cal S},~ a~\\in {\\cal A} \\\\\n",
    "\\textbf{Repeat}~\\text{(for each episode):}\\\\\n",
    "\\quad \\text{Initialize}~s\\\\\n",
    "\\qquad \\textbf{Repeat}~\\text{(for each step in episode):}\\\\\n",
    "\\qquad\\quad \\text{Chose $a$ from $s$ using poliy derived from $Q$ (e.g., $\\epsilon$-greedy)}\\\\\n",
    "\\qquad\\quad \\text{Take action a, observe r, s'}\\\\\n",
    "\\qquad\\quad Q(s,a) \\leftarrow Q(s,a) + \\alpha \\left(r + \\gamma~\\underset{a}{\\text{max}}~Q(s',a) - Q(s,a) \\right) \\\\\n",
    "\\qquad\\quad s \\leftarrow s' \\\\\n",
    "\\qquad \\text{Until s is terminal}\n",
    "$"
   ]
  },
  {
   "cell_type": "markdown",
   "metadata": {},
   "source": [
    "### Task 2.1 Model-free control\n",
    "Why is it that Q-learning does not require a model of the MDP to solve for it?  "
   ]
  },
  {
   "cell_type": "markdown",
   "metadata": {},
   "source": [
    "**Your answer:** Q-learning is a model free method because it only considers the value of a action given the state it is currently in. that value can be estimated using trial and error. "
   ]
  },
  {
   "cell_type": "markdown",
   "metadata": {},
   "source": [
    "### Task 2.2  Implement an $\\epsilon$-greedy policy\n",
    "The goal of the Q-learning algorithm is to find the optimal policy $\\pi^*$, by estimating the state action value function under the optimal policy, i.e. $Q^*(s, a)$. From $Q^*(s,a)$, the agent can follow $\\pi^*$, by choosing the action with that yields the largest expected value for each state, i.e. $\\underset{a}{\\text{argmax}}~Q^*(s, a)$.\n",
    "\n",
    "However, when training a Q-learning model, the agent typically follows another policy to explore the environment. In reinforcement learning this is known as off-policy learning. \n",
    "\n",
    "Your task is to implement a widely popular exploration policy, known as  the $\\epsilon$-greedy policy, in the cell below.\n",
    "\n",
    "An $\\epsilon$-Greedy policy should:\n",
    "* with probability $\\epsilon$ take an uniformly-random action.\n",
    "* otherwise choose the best action according to the estimated state action values."
   ]
  },
  {
   "cell_type": "code",
   "execution_count": 7,
   "metadata": {},
   "outputs": [],
   "source": [
    "def eps_greedy_policy(q_values, eps):\n",
    "    '''\n",
    "    Creates an epsilon-greedy policy\n",
    "    :param q_values: set of Q-values of shape (num actions,)\n",
    "    :param eps: probability of taking a uniform random action \n",
    "    :return: policy of shape (num actions,)\n",
    "    '''\n",
    "     \n",
    "    # Complete this function    \n",
    "    policy = np.zeros(q_values.shape)\n",
    "    \n",
    "    if random.uniform(0,1) > eps:\n",
    "        a = np.random.choice(np.flatnonzero(q_values == q_values.max()))\n",
    "        policy[a] = 1\n",
    "    else:\n",
    "        policy = 1.0 / len(q_values) * np.ones(q_values.shape)\n",
    "    \n",
    "    return policy    "
   ]
  },
  {
   "cell_type": "markdown",
   "metadata": {},
   "source": [
    "Run the cell below to test your implementation"
   ]
  },
  {
   "cell_type": "code",
   "execution_count": 8,
   "metadata": {},
   "outputs": [
    {
     "name": "stdout",
     "output_type": "stream",
     "text": [
      "Test passed, good job!\n"
     ]
    }
   ],
   "source": [
    "mdp = GridWorldMDP()\n",
    "\n",
    "# Test shape of output\n",
    "actions = mdp.get_actions()\n",
    "for eps in (0, 1):\n",
    "    foo = np.zeros([len(actions)])\n",
    "    foo[0] = 1.\n",
    "    eps_greedy = eps_greedy_policy(foo, eps)\n",
    "    assert foo.shape == eps_greedy.shape, \"wrong shape of output\"\n",
    "actions = [i for i in range(10)]\n",
    "for eps in (0, 1):\n",
    "    foo = np.zeros([len(actions)])\n",
    "    foo[0] = 1.\n",
    "    eps_greedy = eps_greedy_policy(foo, eps)\n",
    "    assert foo.shape == eps_greedy.shape, \"wrong shape of output\"\n",
    "\n",
    "# Test for greedy actions\n",
    "for a in actions:\n",
    "    foo = np.zeros([len(actions)])\n",
    "    foo[a] = 1.\n",
    "    eps_greedy = eps_greedy_policy(foo, 0)\n",
    "    assert np.array_equal(foo, eps_greedy), \"policy is not greedy\"\n",
    "\n",
    "# Test for uniform distribution, when eps=1\n",
    "eps_greedy = eps_greedy_policy(foo, 1)\n",
    "assert all(p==eps_greedy[0] for p in eps_greedy) and np.sum(eps_greedy)==1, \\\n",
    "\"policy does not return a uniform distribution for eps=1\"\n",
    "\n",
    "print('Test passed, good job!')"
   ]
  },
  {
   "cell_type": "markdown",
   "metadata": {},
   "source": [
    "### Task 2.2: Implement the Q-learning algorithm\n",
    "\n",
    "Now it's time to actually implement the Q-learning algorithm. Unlike the Value iteration where there is no direct interactions with the environment, the Q-learning algorithm builds up its estimations by interacting and exploring the environment. \n",
    "\n",
    "To enable the agent to explore the environment a set of helper functions are provided:"
   ]
  },
  {
   "cell_type": "code",
   "execution_count": 9,
   "metadata": {},
   "outputs": [
    {
     "name": "stdout",
     "output_type": "stream",
     "text": [
      "Help on function reset in module gridworld_mdp:\n",
      "\n",
      "reset(self)\n",
      "    Resets the environment and the agent is positioned in the initial state in the bottom left corner.\n",
      "    :return: state, reward, terminal\n",
      "\n"
     ]
    }
   ],
   "source": [
    "help(GridWorldMDP.reset)"
   ]
  },
  {
   "cell_type": "code",
   "execution_count": 10,
   "metadata": {},
   "outputs": [
    {
     "name": "stdout",
     "output_type": "stream",
     "text": [
      "Help on function step in module gridworld_mdp:\n",
      "\n",
      "step(self, action)\n",
      "    Takes one step in the environment using the selected action\n",
      "    :param action: action to execute, integer\n",
      "    :return: state, reward, terminal\n",
      "\n"
     ]
    }
   ],
   "source": [
    "help(GridWorldMDP.step)"
   ]
  },
  {
   "cell_type": "markdown",
   "metadata": {},
   "source": [
    "Implement your version of Q-learning in the cell below. \n",
    "\n",
    "**Hint:** It might be useful to study the pseudocode provided above. "
   ]
  },
  {
   "cell_type": "code",
   "execution_count": 19,
   "metadata": {},
   "outputs": [],
   "source": [
    "def q_learning(eps, gamma):\n",
    "    Q = np.zeros([16, 4]) # state action value table\n",
    "    pi = np.zeros([16]) # greedy policy table\n",
    "    alpha = .01\n",
    "\n",
    "    # Complete this function\n",
    "    for episode in range(0,7000):\n",
    "        state, _, _ = mdp.reset()\n",
    "\n",
    "        while True:\n",
    "            policy = eps_greedy_policy(Q[state,:],eps)\n",
    "            action = np.random.choice([0,1,2,3],p=policy)\n",
    "            stateNew, reward, terminal = mdp.step(action)\n",
    "            Q[state,action] += alpha*(reward + gamma*np.max(Q[stateNew,:])-Q[state,action])\n",
    "            state=stateNew\n",
    "            \n",
    "            if terminal == True:\n",
    "                break\n",
    "            \n",
    "    \n",
    "    states  = mdp.get_states()\n",
    "    for s in states:\n",
    "        pi[s] = np.argmax(Q[s,:])\n",
    "    \n",
    "    return pi, Q"
   ]
  },
  {
   "cell_type": "markdown",
   "metadata": {},
   "source": [
    "Run Q-learning with  $\\epsilon = 1$ for the MDP with $\\gamma=0.99$"
   ]
  },
  {
   "cell_type": "code",
   "execution_count": 18,
   "metadata": {},
   "outputs": [
    {
     "name": "stdout",
     "output_type": "stream",
     "text": [
      "Policy for non-terminal states: \n",
      "---------------------\n",
      "| E | E | E | E | W | \n",
      "---------------------\n",
      "| N | N | N | W | W | \n",
      "---------------------\n",
      "| N | W | W | W | S | \n",
      "---------------------\n",
      "                            ---\n",
      "Policy for terminal state: | N |\n",
      "                            ---\n"
     ]
    }
   ],
   "source": [
    "pi, Q = q_learning(1, .99)\n",
    "print_policy(pi)"
   ]
  },
  {
   "cell_type": "markdown",
   "metadata": {},
   "source": [
    "Test your implementation by running the cell below"
   ]
  },
  {
   "cell_type": "code",
   "execution_count": 19,
   "metadata": {},
   "outputs": [
    {
     "name": "stdout",
     "output_type": "stream",
     "text": [
      "Passed: policy test, for gamma=.99\n"
     ]
    }
   ],
   "source": [
    "test_q_learning(Q)"
   ]
  },
  {
   "cell_type": "markdown",
   "metadata": {},
   "source": [
    "Run Q-learning with $\\epsilon=0$"
   ]
  },
  {
   "cell_type": "code",
   "execution_count": 21,
   "metadata": {},
   "outputs": [
    {
     "name": "stdout",
     "output_type": "stream",
     "text": [
      "Policy for non-terminal states: \n",
      "---------------------\n",
      "| E | E | N | E | N | \n",
      "---------------------\n",
      "| N | N | N | W | W | \n",
      "---------------------\n",
      "| N | W | W | W | W | \n",
      "---------------------\n",
      "                            ---\n",
      "Policy for terminal state: | N |\n",
      "                            ---\n"
     ]
    }
   ],
   "source": [
    "pi, Q = q_learning(0, .99)\n",
    "print_policy(pi)"
   ]
  },
  {
   "cell_type": "markdown",
   "metadata": {},
   "source": [
    "You ran your implementation with $\\epsilon$ set to both 0 and 1. What are the results, and your conclusions?"
   ]
  },
  {
   "cell_type": "markdown",
   "metadata": {},
   "source": [
    "**Your answer:** With $\\epsilon=1$ we converge to the optimal policy, simply because we explore the entire space and find the best solution. With $\\epsilon=0$, we explore the randomly first (because $Q(s,a)=0, \\forall\\, s,a$), but as  soon as we find a reward/solution, we stop exploring. That's why state $S_3$ has the optimal action of going up/north, instead of going east, and why you have different policies when using $\\epsilon=0$."
   ]
  },
  {
   "cell_type": "markdown",
   "metadata": {},
   "source": [
    "# Task 3: Deep Double Q-learning (DDQN)\n",
    "For this task, you will implement a DDQN (double deep Q-learning network) to solve one of the problems of the OpenAI gym. Before we get into details about these type of networks, let's first review the simpler, DQN (deep Q-learning network) version. \n",
    "\n",
    "#### Deep Q Networks\n",
    "As we saw in the video lectures, using a neural network as a state action value approximator is a great idea. However, if one tries to use this approach with Q-learning, it's very likely that the optimization will be very unstable. To remediate this, two main ideas are used. First, we use experience replay, in order to decorrelate the experience samples we obtain when exploring the environment. Second, we use two networks instead of one, in order to fix the optimization targets. That is, for a given minibatch sampled from the replay buffer, we'll optimize the weights of only one of the networks (commonly denoted as the \"online\" network), using the gradients w.r.t a loss function. This loss function is computed as the mean squared error between the current action values, computed according to the **online** network, and the temporal difference (TD) targets, computed using the other, **fixed network** (which we'll refer to as the \"target\" network).\n",
    "\n",
    "That is, the loss function is \n",
    "\n",
    "$$ L(\\theta) = \\frac{1}{N}\\sum_{i=1}^N \\left(Q(s_i,a_i; \\theta\\right) - Y_i)^2~,$$\n",
    "\n",
    "where $N$ is the number of samples in your minibatch, $Q(s,a;\\theta)$ is the state action value estimate, according to the online network (with parameters $\\theta$), and $Y_t$ is the TD target, computed as\n",
    "\n",
    "$$ Y_i = r_i +  \\gamma ~\\underset{a}{\\text{max}}~Q(s_i', a; \\theta^-)~, $$\n",
    "\n",
    "where $Q(s', a;\\theta')$ is the action value estimate, according to the fixed network (with parameters $\\theta^-$).\n",
    "\n",
    "Finally, so that the offline parameters are also updated, we periodically change the roles of the networks, fixing the online one, and training the other.\n",
    "\n",
    "#### Double Deep Q Networks\n",
    "\n",
    "The idea explained above works well in practice, but later it was discovered that this approach is very prone to overestimating the state action values. The main reason for this is that the max operator, used to select the greedy action when computing the TD target, uses the same values both to select and to evaluate an action (this tends to prefer overestimated actions). In order to prevent this, we can decouple the selection from the evaluation, which is the idea that created DDQN. More concretely, the TD target for a DDQN is now \n",
    "\n",
    "$$ Y_i = r_i + \\gamma Q(s_i', \\underset{a}{\\text{argmax}}Q(s_i',a;\\theta); \\theta^-)~. $$\n",
    "\n",
    "Hence, we're using the **online** network to select which action is best, but we use the **fixed** network to evaluate the state action value for that chosen action in the next state. This is what makes DDQN not overestimate (as much) the state action values, which in turn helps us to train faster and obtain better policies.\n",
    "\n",
    "\n"
   ]
  },
  {
   "cell_type": "markdown",
   "metadata": {},
   "source": [
    "#### Environment\n",
    "\n",
    "The problem you will solve for this task is the inverted pendulum problem. \n",
    "On [Open AIs environment documentation](https://gym.openai.com/envs/CartPole-v0) , the following description is provided:\n",
    "\n",
    "*A pole is attached by an un-actuated joint to a cart, which moves along a frictionless track. The system is controlled by applying a force of +1 or -1 to the cart. The pendulum starts upright, and the goal is to prevent it from falling over. A reward of +1 is provided for every time step that the pole remains upright. The episode ends when the pole is more than 15 degrees from vertical, or the cart moves more than 2.4 units from the center.*\n",
    "\n",
    "![title](./cartpole.jpg) \n",
    "\n",
    "#### Implementation\n",
    "We'll solve this task using a DDQN. Most of the code is provided for you, in the file **ddqn_model.py**. This file contains the implementation of a neural network, which is described in the table below (feel free to experiment with different architectures).\n",
    "\n",
    "|Layer 1: units, activation | Layer 2: units, activation | Layer 3: units, activation | Cost function |\n",
    "|---------------------------|----------------------------|----------------------------|---------------|\n",
    "| 100, ReLu                 | 60, ReLu                   | number of actions, linear | MSE           |\n",
    "\n",
    "The only missing part of the code is the function that computes the TD targets for each minibatch of samples."
   ]
  },
  {
   "cell_type": "markdown",
   "metadata": {},
   "source": [
    "## Task 3.1:  Calculate TD-target\n",
    "\n",
    "For this task, you will calculate the temporal difference target used for the loss in the double Q-learning algorithm. Your implementation should follow precisely the equation defined above for the TD target of DDQNs, with one exception: when s' is terminal, the TD target for it should simply be $ Y_i = r_i$. Why is this necessary?\n",
    "\n",
    "**Your answer**: If this is not done, then the Q-value for an action that leads to a terminal state would be incorrectly estimated, and the policy will think its is possible to continue after the episode ends and accumulate a higher Q-value for each episode incorrectly. This will increase the mean q-value but decrease the accumated reward. \n",
    "\n",
    "Implement your function in the following cell."
   ]
  },
  {
   "cell_type": "code",
   "execution_count": 20,
   "metadata": {},
   "outputs": [],
   "source": [
    "def calculate_td_targets(q1_batch, q2_batch, r_batch, t_batch, gamma=.99):\n",
    "    '''\n",
    "    Calculates the TD-target used for the loss\n",
    "    : param q1_batch: Batch of Q(s', a) from online network, shape (N, num actions)\n",
    "    : param q2_batch: Batch of Q(s', a) from target network, shape (N, num actions)\n",
    "    : param r_batch: Batch of rewards, shape (N, 1)\n",
    "    : param t_batch: Batch of booleans indicating if state, s' is terminal, shape (N, 1)\n",
    "    : return: TD-target, shape (N, 1)\n",
    "    '''\n",
    "    \n",
    "    # Complete this function\n",
    "    Y = np.zeros(np.shape(r_batch))\n",
    "    for i in range(len(r_batch)):\n",
    "        if t_batch[i]:\n",
    "            Y[i] = r_batch[i]\n",
    "        else:\n",
    "            Y[i] = r_batch[i] + gamma * q2_batch[i, np.argmax(q1_batch[i,:])]\n",
    "    \n",
    "    return Y"
   ]
  },
  {
   "cell_type": "markdown",
   "metadata": {},
   "source": [
    "Test your implementation by trying to solve the reinforcement learning problem for the Cartpole environment. The following cell defines the `train_loop_ddqn` function, which will be called ahead,"
   ]
  },
  {
   "cell_type": "code",
   "execution_count": 29,
   "metadata": {},
   "outputs": [],
   "source": [
    "# Import dependencies\n",
    "import numpy as np\n",
    "import gym\n",
    "from keras.utils.np_utils import to_categorical as one_hot\n",
    "from collections import namedtuple\n",
    "from dqn_model import DoubleQLearningModel, ExperienceReplay\n",
    "\n",
    "def train_loop_ddqn(model, env, num_episodes, batch_size=64, gamma=.94):        \n",
    "    Transition = namedtuple(\"Transition\", [\"s\", \"a\", \"r\", \"next_s\", \"t\"])\n",
    "    eps = 1.\n",
    "    eps_end = .1 \n",
    "    eps_decay = .001\n",
    "    R_buffer = []\n",
    "    R_avg = []\n",
    "    for i in range(num_episodes):\n",
    "        state = env.reset() #reset to initial state\n",
    "        state = np.expand_dims(state, axis=0)/2\n",
    "\n",
    "        terminal = False # reset terminal flag\n",
    "        ep_reward = 0\n",
    "        q_buffer = []\n",
    "        steps = 0\n",
    "        while not terminal:\n",
    "            env.render() # comment this line out if ou don't want to render the environment\n",
    "            steps += 1\n",
    "            q_values = model.get_q_values(state)\n",
    "            q_buffer.append(q_values)\n",
    "            policy = eps_greedy_policy(q_values.squeeze(), eps) \n",
    "            action = np.random.choice(num_actions, p=policy) # sample action from epsilon-greedy policy\n",
    "            new_state, reward, terminal, _ = env.step(action) # take one step in the evironment\n",
    "            new_state = np.expand_dims(new_state, axis=0)/2\n",
    "            \n",
    "            # only use the terminal flag for ending the episode and not for training\n",
    "            # if the flag is set due to that the maximum amount of steps is reached \n",
    "            t_to_buffer = terminal if not steps == 200 else False\n",
    "            \n",
    "            # store data to replay buffer\n",
    "            replay_buffer.add(Transition(s=state, a=action, r=reward, next_s=new_state, t=t_to_buffer))\n",
    "            state = new_state\n",
    "            ep_reward += reward\n",
    "            \n",
    "            # if buffer contains more than 1000 samples, perform one training step\n",
    "            if replay_buffer.buffer_length > 1000:\n",
    "                s, a, r, s_, t = replay_buffer.sample_minibatch(batch_size) # sample a minibatch of transitions\n",
    "                q_1, q_2 = model.get_q_values_for_both_models(np.squeeze(s_))\n",
    "                td_target = calculate_td_targets(q_1, q_2, r, t, gamma)\n",
    "                model.update(s, td_target, a)    \n",
    "                \n",
    "        eps = max(eps - eps_decay, eps_end) # decrease epsilon        \n",
    "        R_buffer.append(ep_reward)\n",
    "        \n",
    "        # running average of episodic rewards\n",
    "        R_avg.append(.05 * R_buffer[i] + .95 * R_avg[i-1]) if i > 0 else R_avg.append(R_buffer[i])\n",
    "        print('Episode: ', i, 'Reward:', ep_reward, 'Epsilon', eps, 'mean q', np.mean(np.array(q_buffer)))\n",
    "        \n",
    "        # if running average > 195, the task is considerd solved\n",
    "        if R_avg[-1] > 195:\n",
    "            return R_buffer, R_avg\n",
    "    return R_buffer, R_avg"
   ]
  },
  {
   "cell_type": "markdown",
   "metadata": {},
   "source": [
    "and the next cell performs the actual training. \n",
    "\n",
    "A Working implementation should start to improve after 500 episodes. An episodic reward of around 200 is likely to be achieved after 800 episodes for a batchsize of 128, and 1000 episodes for a batchsize of 64. "
   ]
  },
  {
   "cell_type": "code",
   "execution_count": 30,
   "metadata": {
    "scrolled": true
   },
   "outputs": [
    {
     "name": "stdout",
     "output_type": "stream",
     "text": [
      "Episode:  0 Reward: 18.0 Epsilon 0.999 mean q 4.1924787e-07\n",
      "Episode:  1 Reward: 25.0 Epsilon 0.998 mean q 3.8061614e-07\n",
      "Episode:  2 Reward: 14.0 Epsilon 0.997 mean q -1.05949e-08\n",
      "Episode:  3 Reward: 15.0 Epsilon 0.996 mean q 6.5091115e-07\n",
      "Episode:  4 Reward: 21.0 Epsilon 0.995 mean q 1.7806025e-08\n",
      "Episode:  5 Reward: 12.0 Epsilon 0.994 mean q 6.7994785e-07\n",
      "Episode:  6 Reward: 12.0 Epsilon 0.993 mean q 8.1111267e-07\n",
      "Episode:  7 Reward: 13.0 Epsilon 0.992 mean q -4.611505e-08\n",
      "Episode:  8 Reward: 14.0 Epsilon 0.991 mean q 7.464454e-07\n",
      "Episode:  9 Reward: 25.0 Epsilon 0.99 mean q 5.1055724e-07\n",
      "Episode:  10 Reward: 14.0 Epsilon 0.989 mean q 6.015971e-07\n",
      "Episode:  11 Reward: 26.0 Epsilon 0.988 mean q 4.0919457e-07\n",
      "Episode:  12 Reward: 9.0 Epsilon 0.987 mean q 8.76917e-07\n",
      "Episode:  13 Reward: 37.0 Epsilon 0.986 mean q 1.36495e-07\n",
      "Episode:  14 Reward: 17.0 Epsilon 0.985 mean q 6.516264e-07\n",
      "Episode:  15 Reward: 15.0 Epsilon 0.984 mean q 6.372706e-07\n",
      "Episode:  16 Reward: 20.0 Epsilon 0.983 mean q -6.992421e-08\n",
      "Episode:  17 Reward: 26.0 Epsilon 0.982 mean q -4.0209077e-08\n",
      "Episode:  18 Reward: 15.0 Epsilon 0.981 mean q 5.342305e-07\n",
      "Episode:  19 Reward: 18.0 Epsilon 0.98 mean q 2.0596591e-08\n",
      "Episode:  20 Reward: 13.0 Epsilon 0.979 mean q 7.328984e-07\n",
      "Episode:  21 Reward: 26.0 Epsilon 0.978 mean q 3.3401537e-07\n",
      "Episode:  22 Reward: 12.0 Epsilon 0.977 mean q -9.5697466e-08\n",
      "Episode:  23 Reward: 19.0 Epsilon 0.976 mean q 3.5501208e-07\n",
      "Episode:  24 Reward: 27.0 Epsilon 0.975 mean q 1.0704998e-07\n",
      "Episode:  25 Reward: 18.0 Epsilon 0.974 mean q -4.3506056e-08\n",
      "Episode:  26 Reward: 14.0 Epsilon 0.973 mean q 5.4821743e-07\n",
      "Episode:  27 Reward: 17.0 Epsilon 0.972 mean q -2.5920322e-08\n",
      "Episode:  28 Reward: 19.0 Epsilon 0.971 mean q 4.782659e-07\n",
      "Episode:  29 Reward: 12.0 Epsilon 0.97 mean q -3.6783316e-08\n",
      "Episode:  30 Reward: 34.0 Epsilon 0.969 mean q 1.4956415e-09\n",
      "Episode:  31 Reward: 98.0 Epsilon 0.968 mean q 6.50087e-07\n",
      "Episode:  32 Reward: 29.0 Epsilon 0.967 mean q 2.9306813e-07\n",
      "Episode:  33 Reward: 21.0 Epsilon 0.966 mean q -8.213399e-09\n",
      "Episode:  34 Reward: 16.0 Epsilon 0.965 mean q 6.1517113e-07\n",
      "Episode:  35 Reward: 31.0 Epsilon 0.964 mean q 3.2773312e-07\n",
      "Episode:  36 Reward: 9.0 Epsilon 0.963 mean q 7.872815e-07\n",
      "Episode:  37 Reward: 14.0 Epsilon 0.962 mean q 5.1710526e-07\n",
      "Episode:  38 Reward: 54.0 Epsilon 0.961 mean q 2.8718558e-08\n",
      "Episode:  39 Reward: 28.0 Epsilon 0.96 mean q 6.9854e-08\n",
      "Episode:  40 Reward: 11.0 Epsilon 0.959 mean q -9.369749e-08\n",
      "Episode:  41 Reward: 22.0 Epsilon 0.958 mean q 4.0170062e-07\n",
      "Episode:  42 Reward: 10.0 Epsilon 0.957 mean q 8.3086525e-07\n",
      "Episode:  43 Reward: 16.0 Epsilon 0.956 mean q 5.4037264e-07\n",
      "Episode:  44 Reward: 41.0 Epsilon 0.955 mean q 2.3521146e-07\n",
      "Episode:  45 Reward: 15.0 Epsilon 0.954 mean q -9.754999e-08\n",
      "Episode:  46 Reward: 14.0 Epsilon 0.953 mean q 0.000781947\n",
      "Episode:  47 Reward: 19.0 Epsilon 0.952 mean q 0.0063912957\n",
      "Episode:  48 Reward: 9.0 Epsilon 0.951 mean q 0.014783199\n",
      "Episode:  49 Reward: 16.0 Epsilon 0.95 mean q 0.016100273\n",
      "Episode:  50 Reward: 22.0 Epsilon 0.949 mean q 0.017979993\n",
      "Episode:  51 Reward: 15.0 Epsilon 0.948 mean q 0.029204912\n",
      "Episode:  52 Reward: 14.0 Epsilon 0.947 mean q 0.034049593\n",
      "Episode:  53 Reward: 12.0 Epsilon 0.946 mean q 0.0439052\n",
      "Episode:  54 Reward: 16.0 Epsilon 0.945 mean q 0.053577926\n",
      "Episode:  55 Reward: 16.0 Epsilon 0.944 mean q 0.055122692\n",
      "Episode:  56 Reward: 21.0 Epsilon 0.943 mean q 0.06770451\n",
      "Episode:  57 Reward: 14.0 Epsilon 0.942 mean q 0.0831848\n",
      "Episode:  58 Reward: 14.0 Epsilon 0.941 mean q 0.09875689\n",
      "Episode:  59 Reward: 25.0 Epsilon 0.94 mean q 0.13039304\n",
      "Episode:  60 Reward: 17.0 Epsilon 0.939 mean q 0.11709766\n",
      "Episode:  61 Reward: 11.0 Epsilon 0.938 mean q 0.16015802\n",
      "Episode:  62 Reward: 25.0 Epsilon 0.9369999999999999 mean q 0.13692263\n",
      "Episode:  63 Reward: 11.0 Epsilon 0.9359999999999999 mean q 0.20707913\n",
      "Episode:  64 Reward: 13.0 Epsilon 0.9349999999999999 mean q 0.23481295\n",
      "Episode:  65 Reward: 29.0 Epsilon 0.9339999999999999 mean q 0.15296908\n",
      "Episode:  66 Reward: 24.0 Epsilon 0.9329999999999999 mean q 0.18168032\n",
      "Episode:  67 Reward: 15.0 Epsilon 0.9319999999999999 mean q 0.29380852\n",
      "Episode:  68 Reward: 11.0 Epsilon 0.9309999999999999 mean q 0.32640556\n",
      "Episode:  69 Reward: 35.0 Epsilon 0.9299999999999999 mean q 0.29542407\n",
      "Episode:  70 Reward: 20.0 Epsilon 0.9289999999999999 mean q 0.35083774\n",
      "Episode:  71 Reward: 15.0 Epsilon 0.9279999999999999 mean q 0.47644523\n",
      "Episode:  72 Reward: 17.0 Epsilon 0.9269999999999999 mean q 0.3889439\n",
      "Episode:  73 Reward: 23.0 Epsilon 0.9259999999999999 mean q 0.38527846\n",
      "Episode:  74 Reward: 28.0 Epsilon 0.9249999999999999 mean q 0.44163445\n",
      "Episode:  75 Reward: 11.0 Epsilon 0.9239999999999999 mean q 0.6256209\n",
      "Episode:  76 Reward: 15.0 Epsilon 0.9229999999999999 mean q 0.7832105\n",
      "Episode:  77 Reward: 20.0 Epsilon 0.9219999999999999 mean q 0.43710828\n",
      "Episode:  78 Reward: 29.0 Epsilon 0.9209999999999999 mean q 0.53739667\n",
      "Episode:  79 Reward: 23.0 Epsilon 0.9199999999999999 mean q 0.69356155\n",
      "Episode:  80 Reward: 20.0 Epsilon 0.9189999999999999 mean q 0.69147235\n",
      "Episode:  81 Reward: 34.0 Epsilon 0.9179999999999999 mean q 0.67668605\n",
      "Episode:  82 Reward: 16.0 Epsilon 0.9169999999999999 mean q 0.8989017\n",
      "Episode:  83 Reward: 15.0 Epsilon 0.9159999999999999 mean q 1.0612482\n",
      "Episode:  84 Reward: 14.0 Epsilon 0.9149999999999999 mean q 1.1753908\n",
      "Episode:  85 Reward: 23.0 Epsilon 0.9139999999999999 mean q 0.92510515\n",
      "Episode:  86 Reward: 47.0 Epsilon 0.9129999999999999 mean q 1.0440209\n",
      "Episode:  87 Reward: 16.0 Epsilon 0.9119999999999999 mean q 1.2073855\n",
      "Episode:  88 Reward: 14.0 Epsilon 0.9109999999999999 mean q 1.1345437\n",
      "Episode:  89 Reward: 13.0 Epsilon 0.9099999999999999 mean q 1.1131227\n",
      "Episode:  90 Reward: 33.0 Epsilon 0.9089999999999999 mean q 0.8772066\n",
      "Episode:  91 Reward: 13.0 Epsilon 0.9079999999999999 mean q 1.7158517\n",
      "Episode:  92 Reward: 20.0 Epsilon 0.9069999999999999 mean q 1.4999748\n",
      "Episode:  93 Reward: 12.0 Epsilon 0.9059999999999999 mean q 2.3547173\n",
      "Episode:  94 Reward: 18.0 Epsilon 0.9049999999999999 mean q 1.3755648\n",
      "Episode:  95 Reward: 14.0 Epsilon 0.9039999999999999 mean q 1.9954879\n",
      "Episode:  96 Reward: 21.0 Epsilon 0.9029999999999999 mean q 1.6022097\n",
      "Episode:  97 Reward: 9.0 Epsilon 0.9019999999999999 mean q 2.4967074\n",
      "Episode:  98 Reward: 12.0 Epsilon 0.9009999999999999 mean q 2.1090736\n",
      "Episode:  99 Reward: 37.0 Epsilon 0.8999999999999999 mean q 1.5385548\n",
      "Episode:  100 Reward: 14.0 Epsilon 0.8989999999999999 mean q 2.1370745\n",
      "Episode:  101 Reward: 21.0 Epsilon 0.8979999999999999 mean q 1.6441436\n",
      "Episode:  102 Reward: 11.0 Epsilon 0.8969999999999999 mean q 2.6786587\n",
      "Episode:  103 Reward: 23.0 Epsilon 0.8959999999999999 mean q 1.949868\n",
      "Episode:  104 Reward: 14.0 Epsilon 0.8949999999999999 mean q 2.8954566\n",
      "Episode:  105 Reward: 14.0 Epsilon 0.8939999999999999 mean q 2.5170987\n",
      "Episode:  106 Reward: 10.0 Epsilon 0.8929999999999999 mean q 3.628976\n",
      "Episode:  107 Reward: 14.0 Epsilon 0.8919999999999999 mean q 3.0458071\n",
      "Episode:  108 Reward: 25.0 Epsilon 0.8909999999999999 mean q 2.3248785\n",
      "Episode:  109 Reward: 20.0 Epsilon 0.8899999999999999 mean q 2.4847531\n",
      "Episode:  110 Reward: 16.0 Epsilon 0.8889999999999999 mean q 2.8325157\n",
      "Episode:  111 Reward: 15.0 Epsilon 0.8879999999999999 mean q 2.8537433\n",
      "Episode:  112 Reward: 33.0 Epsilon 0.8869999999999999 mean q 2.6251218\n",
      "Episode:  113 Reward: 17.0 Epsilon 0.8859999999999999 mean q 3.2239165\n",
      "Episode:  114 Reward: 13.0 Epsilon 0.8849999999999999 mean q 3.2603583\n",
      "Episode:  115 Reward: 12.0 Epsilon 0.8839999999999999 mean q 3.7059288\n",
      "Episode:  116 Reward: 19.0 Epsilon 0.8829999999999999 mean q 3.237251\n",
      "Episode:  117 Reward: 14.0 Epsilon 0.8819999999999999 mean q 3.1941872\n",
      "Episode:  118 Reward: 12.0 Epsilon 0.8809999999999999 mean q 3.5716028\n",
      "Episode:  119 Reward: 59.0 Epsilon 0.8799999999999999 mean q 2.5046592\n",
      "Episode:  120 Reward: 15.0 Epsilon 0.8789999999999999 mean q 4.17363\n",
      "Episode:  121 Reward: 14.0 Epsilon 0.8779999999999999 mean q 3.6576502\n",
      "Episode:  122 Reward: 15.0 Epsilon 0.8769999999999999 mean q 4.2922893\n",
      "Episode:  123 Reward: 15.0 Epsilon 0.8759999999999999 mean q 3.5087621\n",
      "Episode:  124 Reward: 24.0 Epsilon 0.8749999999999999 mean q 3.8793278\n",
      "Episode:  125 Reward: 70.0 Epsilon 0.8739999999999999 mean q 3.7929356\n",
      "Episode:  126 Reward: 18.0 Epsilon 0.8729999999999999 mean q 4.5501\n",
      "Episode:  127 Reward: 13.0 Epsilon 0.8719999999999999 mean q 4.8327613\n"
     ]
    },
    {
     "name": "stdout",
     "output_type": "stream",
     "text": [
      "Episode:  128 Reward: 19.0 Epsilon 0.8709999999999999 mean q 3.9034307\n",
      "Episode:  129 Reward: 12.0 Epsilon 0.8699999999999999 mean q 6.365026\n",
      "Episode:  130 Reward: 22.0 Epsilon 0.8689999999999999 mean q 4.1064367\n",
      "Episode:  131 Reward: 12.0 Epsilon 0.8679999999999999 mean q 5.0467525\n",
      "Episode:  132 Reward: 10.0 Epsilon 0.8669999999999999 mean q 5.4485908\n",
      "Episode:  133 Reward: 18.0 Epsilon 0.8659999999999999 mean q 5.0600553\n",
      "Episode:  134 Reward: 45.0 Epsilon 0.8649999999999999 mean q 5.3560023\n",
      "Episode:  135 Reward: 31.0 Epsilon 0.8639999999999999 mean q 3.9850276\n",
      "Episode:  136 Reward: 9.0 Epsilon 0.8629999999999999 mean q 6.6204085\n",
      "Episode:  137 Reward: 15.0 Epsilon 0.8619999999999999 mean q 5.84223\n",
      "Episode:  138 Reward: 13.0 Epsilon 0.8609999999999999 mean q 5.787804\n",
      "Episode:  139 Reward: 16.0 Epsilon 0.8599999999999999 mean q 5.759753\n",
      "Episode:  140 Reward: 15.0 Epsilon 0.8589999999999999 mean q 6.033888\n",
      "Episode:  141 Reward: 12.0 Epsilon 0.8579999999999999 mean q 7.1551266\n",
      "Episode:  142 Reward: 9.0 Epsilon 0.8569999999999999 mean q 7.781416\n",
      "Episode:  143 Reward: 38.0 Epsilon 0.8559999999999999 mean q 4.4076877\n",
      "Episode:  144 Reward: 11.0 Epsilon 0.8549999999999999 mean q 6.1425385\n",
      "Episode:  145 Reward: 10.0 Epsilon 0.8539999999999999 mean q 7.8229017\n",
      "Episode:  146 Reward: 13.0 Epsilon 0.8529999999999999 mean q 6.4157743\n",
      "Episode:  147 Reward: 21.0 Epsilon 0.8519999999999999 mean q 5.4728117\n",
      "Episode:  148 Reward: 11.0 Epsilon 0.8509999999999999 mean q 8.6995945\n",
      "Episode:  149 Reward: 17.0 Epsilon 0.8499999999999999 mean q 6.557484\n",
      "Episode:  150 Reward: 13.0 Epsilon 0.8489999999999999 mean q 5.338647\n",
      "Episode:  151 Reward: 35.0 Epsilon 0.8479999999999999 mean q 5.5177493\n",
      "Episode:  152 Reward: 14.0 Epsilon 0.8469999999999999 mean q 7.0850725\n",
      "Episode:  153 Reward: 39.0 Epsilon 0.8459999999999999 mean q 5.2970243\n",
      "Episode:  154 Reward: 22.0 Epsilon 0.8449999999999999 mean q 5.2180963\n",
      "Episode:  155 Reward: 27.0 Epsilon 0.8439999999999999 mean q 6.269448\n",
      "Episode:  156 Reward: 17.0 Epsilon 0.8429999999999999 mean q 6.589443\n",
      "Episode:  157 Reward: 13.0 Epsilon 0.8419999999999999 mean q 7.186139\n",
      "Episode:  158 Reward: 25.0 Epsilon 0.8409999999999999 mean q 6.2036834\n",
      "Episode:  159 Reward: 12.0 Epsilon 0.8399999999999999 mean q 7.7363496\n",
      "Episode:  160 Reward: 15.0 Epsilon 0.8389999999999999 mean q 7.0538507\n",
      "Episode:  161 Reward: 18.0 Epsilon 0.8379999999999999 mean q 7.3548985\n",
      "Episode:  162 Reward: 20.0 Epsilon 0.8369999999999999 mean q 7.583219\n",
      "Episode:  163 Reward: 11.0 Epsilon 0.8359999999999999 mean q 8.240528\n",
      "Episode:  164 Reward: 23.0 Epsilon 0.8349999999999999 mean q 6.7059836\n",
      "Episode:  165 Reward: 34.0 Epsilon 0.8339999999999999 mean q 8.170346\n",
      "Episode:  166 Reward: 12.0 Epsilon 0.8329999999999999 mean q 7.3071594\n",
      "Episode:  167 Reward: 17.0 Epsilon 0.8319999999999999 mean q 7.442551\n",
      "Episode:  168 Reward: 22.0 Epsilon 0.8309999999999998 mean q 6.770347\n",
      "Episode:  169 Reward: 67.0 Epsilon 0.8299999999999998 mean q 8.085761\n",
      "Episode:  170 Reward: 49.0 Epsilon 0.8289999999999998 mean q 8.622402\n",
      "Episode:  171 Reward: 21.0 Epsilon 0.8279999999999998 mean q 8.054205\n",
      "Episode:  172 Reward: 13.0 Epsilon 0.8269999999999998 mean q 8.481478\n",
      "Episode:  173 Reward: 9.0 Epsilon 0.8259999999999998 mean q 10.137355\n",
      "Episode:  174 Reward: 9.0 Epsilon 0.8249999999999998 mean q 9.979664\n",
      "Episode:  175 Reward: 13.0 Epsilon 0.8239999999999998 mean q 8.594357\n",
      "Episode:  176 Reward: 15.0 Epsilon 0.8229999999999998 mean q 8.390045\n",
      "Episode:  177 Reward: 10.0 Epsilon 0.8219999999999998 mean q 10.873682\n",
      "Episode:  178 Reward: 14.0 Epsilon 0.8209999999999998 mean q 8.946486\n",
      "Episode:  179 Reward: 14.0 Epsilon 0.8199999999999998 mean q 8.678428\n",
      "Episode:  180 Reward: 13.0 Epsilon 0.8189999999999998 mean q 9.521284\n",
      "Episode:  181 Reward: 18.0 Epsilon 0.8179999999999998 mean q 8.788316\n",
      "Episode:  182 Reward: 14.0 Epsilon 0.8169999999999998 mean q 8.9442835\n",
      "Episode:  183 Reward: 18.0 Epsilon 0.8159999999999998 mean q 8.506433\n",
      "Episode:  184 Reward: 17.0 Epsilon 0.8149999999999998 mean q 8.712246\n",
      "Episode:  185 Reward: 18.0 Epsilon 0.8139999999999998 mean q 7.42465\n",
      "Episode:  186 Reward: 14.0 Epsilon 0.8129999999999998 mean q 9.301116\n",
      "Episode:  187 Reward: 14.0 Epsilon 0.8119999999999998 mean q 9.341443\n",
      "Episode:  188 Reward: 22.0 Epsilon 0.8109999999999998 mean q 8.640799\n",
      "Episode:  189 Reward: 12.0 Epsilon 0.8099999999999998 mean q 9.1636915\n",
      "Episode:  190 Reward: 19.0 Epsilon 0.8089999999999998 mean q 9.200738\n",
      "Episode:  191 Reward: 17.0 Epsilon 0.8079999999999998 mean q 9.06224\n",
      "Episode:  192 Reward: 12.0 Epsilon 0.8069999999999998 mean q 10.043549\n",
      "Episode:  193 Reward: 16.0 Epsilon 0.8059999999999998 mean q 8.753628\n",
      "Episode:  194 Reward: 13.0 Epsilon 0.8049999999999998 mean q 9.909928\n",
      "Episode:  195 Reward: 10.0 Epsilon 0.8039999999999998 mean q 9.698281\n",
      "Episode:  196 Reward: 13.0 Epsilon 0.8029999999999998 mean q 10.017844\n",
      "Episode:  197 Reward: 11.0 Epsilon 0.8019999999999998 mean q 9.761916\n",
      "Episode:  198 Reward: 19.0 Epsilon 0.8009999999999998 mean q 9.062108\n",
      "Episode:  199 Reward: 19.0 Epsilon 0.7999999999999998 mean q 9.157204\n",
      "Episode:  200 Reward: 11.0 Epsilon 0.7989999999999998 mean q 9.561311\n",
      "Episode:  201 Reward: 13.0 Epsilon 0.7979999999999998 mean q 9.231345\n",
      "Episode:  202 Reward: 17.0 Epsilon 0.7969999999999998 mean q 9.61068\n",
      "Episode:  203 Reward: 17.0 Epsilon 0.7959999999999998 mean q 9.581695\n",
      "Episode:  204 Reward: 14.0 Epsilon 0.7949999999999998 mean q 10.239888\n",
      "Episode:  205 Reward: 10.0 Epsilon 0.7939999999999998 mean q 10.068724\n",
      "Episode:  206 Reward: 14.0 Epsilon 0.7929999999999998 mean q 10.153787\n",
      "Episode:  207 Reward: 13.0 Epsilon 0.7919999999999998 mean q 10.27822\n",
      "Episode:  208 Reward: 10.0 Epsilon 0.7909999999999998 mean q 11.382083\n",
      "Episode:  209 Reward: 11.0 Epsilon 0.7899999999999998 mean q 10.272573\n",
      "Episode:  210 Reward: 12.0 Epsilon 0.7889999999999998 mean q 11.166463\n",
      "Episode:  211 Reward: 14.0 Epsilon 0.7879999999999998 mean q 9.152934\n",
      "Episode:  212 Reward: 16.0 Epsilon 0.7869999999999998 mean q 10.673529\n",
      "Episode:  213 Reward: 15.0 Epsilon 0.7859999999999998 mean q 9.735486\n",
      "Episode:  214 Reward: 14.0 Epsilon 0.7849999999999998 mean q 10.583291\n",
      "Episode:  215 Reward: 11.0 Epsilon 0.7839999999999998 mean q 12.1251955\n",
      "Episode:  216 Reward: 16.0 Epsilon 0.7829999999999998 mean q 10.379826\n",
      "Episode:  217 Reward: 14.0 Epsilon 0.7819999999999998 mean q 10.651959\n",
      "Episode:  218 Reward: 19.0 Epsilon 0.7809999999999998 mean q 9.494287\n",
      "Episode:  219 Reward: 14.0 Epsilon 0.7799999999999998 mean q 10.2028675\n",
      "Episode:  220 Reward: 55.0 Epsilon 0.7789999999999998 mean q 10.246054\n",
      "Episode:  221 Reward: 11.0 Epsilon 0.7779999999999998 mean q 10.58767\n",
      "Episode:  222 Reward: 12.0 Epsilon 0.7769999999999998 mean q 10.560341\n",
      "Episode:  223 Reward: 16.0 Epsilon 0.7759999999999998 mean q 10.897942\n",
      "Episode:  224 Reward: 15.0 Epsilon 0.7749999999999998 mean q 10.502156\n",
      "Episode:  225 Reward: 20.0 Epsilon 0.7739999999999998 mean q 11.043535\n",
      "Episode:  226 Reward: 9.0 Epsilon 0.7729999999999998 mean q 12.164227\n",
      "Episode:  227 Reward: 16.0 Epsilon 0.7719999999999998 mean q 11.056242\n",
      "Episode:  228 Reward: 17.0 Epsilon 0.7709999999999998 mean q 10.087947\n",
      "Episode:  229 Reward: 9.0 Epsilon 0.7699999999999998 mean q 12.905272\n",
      "Episode:  230 Reward: 13.0 Epsilon 0.7689999999999998 mean q 10.555811\n",
      "Episode:  231 Reward: 9.0 Epsilon 0.7679999999999998 mean q 13.072481\n",
      "Episode:  232 Reward: 13.0 Epsilon 0.7669999999999998 mean q 11.951986\n",
      "Episode:  233 Reward: 19.0 Epsilon 0.7659999999999998 mean q 10.02972\n",
      "Episode:  234 Reward: 18.0 Epsilon 0.7649999999999998 mean q 11.568071\n",
      "Episode:  235 Reward: 54.0 Epsilon 0.7639999999999998 mean q 9.947375\n",
      "Episode:  236 Reward: 24.0 Epsilon 0.7629999999999998 mean q 9.957896\n",
      "Episode:  237 Reward: 12.0 Epsilon 0.7619999999999998 mean q 12.205762\n",
      "Episode:  238 Reward: 11.0 Epsilon 0.7609999999999998 mean q 13.513681\n",
      "Episode:  239 Reward: 26.0 Epsilon 0.7599999999999998 mean q 10.118731\n",
      "Episode:  240 Reward: 17.0 Epsilon 0.7589999999999998 mean q 11.037323\n",
      "Episode:  241 Reward: 23.0 Epsilon 0.7579999999999998 mean q 10.242446\n",
      "Episode:  242 Reward: 16.0 Epsilon 0.7569999999999998 mean q 11.601827\n",
      "Episode:  243 Reward: 12.0 Epsilon 0.7559999999999998 mean q 12.674679\n",
      "Episode:  244 Reward: 21.0 Epsilon 0.7549999999999998 mean q 10.47579\n"
     ]
    },
    {
     "name": "stdout",
     "output_type": "stream",
     "text": [
      "Episode:  245 Reward: 9.0 Epsilon 0.7539999999999998 mean q 13.690075\n",
      "Episode:  246 Reward: 12.0 Epsilon 0.7529999999999998 mean q 13.342045\n",
      "Episode:  247 Reward: 18.0 Epsilon 0.7519999999999998 mean q 11.95203\n",
      "Episode:  248 Reward: 12.0 Epsilon 0.7509999999999998 mean q 12.259155\n",
      "Episode:  249 Reward: 18.0 Epsilon 0.7499999999999998 mean q 12.358538\n",
      "Episode:  250 Reward: 10.0 Epsilon 0.7489999999999998 mean q 12.642927\n",
      "Episode:  251 Reward: 12.0 Epsilon 0.7479999999999998 mean q 12.443421\n",
      "Episode:  252 Reward: 16.0 Epsilon 0.7469999999999998 mean q 10.350426\n",
      "Episode:  253 Reward: 14.0 Epsilon 0.7459999999999998 mean q 12.588625\n",
      "Episode:  254 Reward: 27.0 Epsilon 0.7449999999999998 mean q 11.0184555\n",
      "Episode:  255 Reward: 11.0 Epsilon 0.7439999999999998 mean q 13.439185\n",
      "Episode:  256 Reward: 16.0 Epsilon 0.7429999999999998 mean q 11.568619\n",
      "Episode:  257 Reward: 23.0 Epsilon 0.7419999999999998 mean q 11.909116\n",
      "Episode:  258 Reward: 17.0 Epsilon 0.7409999999999998 mean q 12.48632\n",
      "Episode:  259 Reward: 13.0 Epsilon 0.7399999999999998 mean q 10.602431\n",
      "Episode:  260 Reward: 10.0 Epsilon 0.7389999999999998 mean q 12.758685\n",
      "Episode:  261 Reward: 26.0 Epsilon 0.7379999999999998 mean q 11.523784\n",
      "Episode:  262 Reward: 15.0 Epsilon 0.7369999999999998 mean q 12.815042\n",
      "Episode:  263 Reward: 15.0 Epsilon 0.7359999999999998 mean q 12.589232\n",
      "Episode:  264 Reward: 14.0 Epsilon 0.7349999999999998 mean q 12.921183\n",
      "Episode:  265 Reward: 20.0 Epsilon 0.7339999999999998 mean q 12.037627\n",
      "Episode:  266 Reward: 12.0 Epsilon 0.7329999999999998 mean q 10.959554\n",
      "Episode:  267 Reward: 13.0 Epsilon 0.7319999999999998 mean q 12.35016\n",
      "Episode:  268 Reward: 14.0 Epsilon 0.7309999999999998 mean q 11.936675\n",
      "Episode:  269 Reward: 13.0 Epsilon 0.7299999999999998 mean q 13.35887\n",
      "Episode:  270 Reward: 13.0 Epsilon 0.7289999999999998 mean q 12.295171\n",
      "Episode:  271 Reward: 16.0 Epsilon 0.7279999999999998 mean q 12.428097\n",
      "Episode:  272 Reward: 13.0 Epsilon 0.7269999999999998 mean q 10.719657\n",
      "Episode:  273 Reward: 19.0 Epsilon 0.7259999999999998 mean q 12.728493\n",
      "Episode:  274 Reward: 25.0 Epsilon 0.7249999999999998 mean q 11.991195\n",
      "Episode:  275 Reward: 11.0 Epsilon 0.7239999999999998 mean q 12.307047\n",
      "Episode:  276 Reward: 10.0 Epsilon 0.7229999999999998 mean q 14.772832\n",
      "Episode:  277 Reward: 18.0 Epsilon 0.7219999999999998 mean q 12.170139\n",
      "Episode:  278 Reward: 22.0 Epsilon 0.7209999999999998 mean q 12.2115135\n",
      "Episode:  279 Reward: 27.0 Epsilon 0.7199999999999998 mean q 10.882545\n",
      "Episode:  280 Reward: 17.0 Epsilon 0.7189999999999998 mean q 11.947273\n",
      "Episode:  281 Reward: 14.0 Epsilon 0.7179999999999997 mean q 13.039385\n",
      "Episode:  282 Reward: 13.0 Epsilon 0.7169999999999997 mean q 12.602723\n",
      "Episode:  283 Reward: 10.0 Epsilon 0.7159999999999997 mean q 10.919932\n",
      "Episode:  284 Reward: 17.0 Epsilon 0.7149999999999997 mean q 12.59343\n",
      "Episode:  285 Reward: 14.0 Epsilon 0.7139999999999997 mean q 13.327318\n",
      "Episode:  286 Reward: 20.0 Epsilon 0.7129999999999997 mean q 12.937805\n",
      "Episode:  287 Reward: 12.0 Epsilon 0.7119999999999997 mean q 11.168373\n",
      "Episode:  288 Reward: 13.0 Epsilon 0.7109999999999997 mean q 13.2171\n",
      "Episode:  289 Reward: 19.0 Epsilon 0.7099999999999997 mean q 12.36289\n",
      "Episode:  290 Reward: 16.0 Epsilon 0.7089999999999997 mean q 12.13026\n",
      "Episode:  291 Reward: 13.0 Epsilon 0.7079999999999997 mean q 13.343923\n",
      "Episode:  292 Reward: 20.0 Epsilon 0.7069999999999997 mean q 12.430638\n",
      "Episode:  293 Reward: 10.0 Epsilon 0.7059999999999997 mean q 13.911496\n",
      "Episode:  294 Reward: 10.0 Epsilon 0.7049999999999997 mean q 14.472731\n",
      "Episode:  295 Reward: 16.0 Epsilon 0.7039999999999997 mean q 10.750254\n",
      "Episode:  296 Reward: 15.0 Epsilon 0.7029999999999997 mean q 12.557632\n",
      "Episode:  297 Reward: 24.0 Epsilon 0.7019999999999997 mean q 12.288684\n",
      "Episode:  298 Reward: 16.0 Epsilon 0.7009999999999997 mean q 12.193113\n",
      "Episode:  299 Reward: 13.0 Epsilon 0.6999999999999997 mean q 13.720849\n",
      "Episode:  300 Reward: 50.0 Epsilon 0.6989999999999997 mean q 12.200587\n",
      "Episode:  301 Reward: 18.0 Epsilon 0.6979999999999997 mean q 11.090909\n",
      "Episode:  302 Reward: 12.0 Epsilon 0.6969999999999997 mean q 13.902413\n",
      "Episode:  303 Reward: 23.0 Epsilon 0.6959999999999997 mean q 13.012909\n",
      "Episode:  304 Reward: 12.0 Epsilon 0.6949999999999997 mean q 12.954192\n",
      "Episode:  305 Reward: 25.0 Epsilon 0.6939999999999997 mean q 12.55403\n",
      "Episode:  306 Reward: 16.0 Epsilon 0.6929999999999997 mean q 13.26535\n",
      "Episode:  307 Reward: 10.0 Epsilon 0.6919999999999997 mean q 13.421887\n",
      "Episode:  308 Reward: 9.0 Epsilon 0.6909999999999997 mean q 13.235639\n",
      "Episode:  309 Reward: 15.0 Epsilon 0.6899999999999997 mean q 12.354037\n",
      "Episode:  310 Reward: 12.0 Epsilon 0.6889999999999997 mean q 13.22601\n",
      "Episode:  311 Reward: 27.0 Epsilon 0.6879999999999997 mean q 12.091551\n",
      "Episode:  312 Reward: 10.0 Epsilon 0.6869999999999997 mean q 13.381083\n",
      "Episode:  313 Reward: 16.0 Epsilon 0.6859999999999997 mean q 12.505543\n",
      "Episode:  314 Reward: 16.0 Epsilon 0.6849999999999997 mean q 12.19388\n",
      "Episode:  315 Reward: 12.0 Epsilon 0.6839999999999997 mean q 12.344663\n",
      "Episode:  316 Reward: 12.0 Epsilon 0.6829999999999997 mean q 12.8728\n",
      "Episode:  317 Reward: 19.0 Epsilon 0.6819999999999997 mean q 10.990962\n",
      "Episode:  318 Reward: 33.0 Epsilon 0.6809999999999997 mean q 12.300371\n",
      "Episode:  319 Reward: 17.0 Epsilon 0.6799999999999997 mean q 11.95357\n",
      "Episode:  320 Reward: 22.0 Epsilon 0.6789999999999997 mean q 11.108062\n",
      "Episode:  321 Reward: 22.0 Epsilon 0.6779999999999997 mean q 12.13941\n",
      "Episode:  322 Reward: 10.0 Epsilon 0.6769999999999997 mean q 13.227651\n",
      "Episode:  323 Reward: 22.0 Epsilon 0.6759999999999997 mean q 12.10669\n",
      "Episode:  324 Reward: 12.0 Epsilon 0.6749999999999997 mean q 12.175565\n",
      "Episode:  325 Reward: 14.0 Epsilon 0.6739999999999997 mean q 12.384283\n",
      "Episode:  326 Reward: 21.0 Epsilon 0.6729999999999997 mean q 12.342958\n",
      "Episode:  327 Reward: 9.0 Epsilon 0.6719999999999997 mean q 13.065264\n",
      "Episode:  328 Reward: 12.0 Epsilon 0.6709999999999997 mean q 12.578403\n",
      "Episode:  329 Reward: 10.0 Epsilon 0.6699999999999997 mean q 13.019658\n",
      "Episode:  330 Reward: 11.0 Epsilon 0.6689999999999997 mean q 13.348419\n",
      "Episode:  331 Reward: 16.0 Epsilon 0.6679999999999997 mean q 11.948936\n",
      "Episode:  332 Reward: 12.0 Epsilon 0.6669999999999997 mean q 12.4103\n",
      "Episode:  333 Reward: 22.0 Epsilon 0.6659999999999997 mean q 11.932545\n",
      "Episode:  334 Reward: 53.0 Epsilon 0.6649999999999997 mean q 12.090763\n",
      "Episode:  335 Reward: 12.0 Epsilon 0.6639999999999997 mean q 12.033706\n",
      "Episode:  336 Reward: 14.0 Epsilon 0.6629999999999997 mean q 12.5121975\n",
      "Episode:  337 Reward: 28.0 Epsilon 0.6619999999999997 mean q 11.157968\n",
      "Episode:  338 Reward: 19.0 Epsilon 0.6609999999999997 mean q 11.796084\n",
      "Episode:  339 Reward: 13.0 Epsilon 0.6599999999999997 mean q 11.732504\n",
      "Episode:  340 Reward: 13.0 Epsilon 0.6589999999999997 mean q 11.816488\n",
      "Episode:  341 Reward: 29.0 Epsilon 0.6579999999999997 mean q 11.471924\n",
      "Episode:  342 Reward: 15.0 Epsilon 0.6569999999999997 mean q 11.3770485\n",
      "Episode:  343 Reward: 9.0 Epsilon 0.6559999999999997 mean q 11.959663\n",
      "Episode:  344 Reward: 11.0 Epsilon 0.6549999999999997 mean q 11.863134\n",
      "Episode:  345 Reward: 9.0 Epsilon 0.6539999999999997 mean q 12.105587\n",
      "Episode:  346 Reward: 16.0 Epsilon 0.6529999999999997 mean q 10.553034\n",
      "Episode:  347 Reward: 17.0 Epsilon 0.6519999999999997 mean q 11.621018\n",
      "Episode:  348 Reward: 11.0 Epsilon 0.6509999999999997 mean q 11.998038\n",
      "Episode:  349 Reward: 10.0 Epsilon 0.6499999999999997 mean q 10.516916\n",
      "Episode:  350 Reward: 10.0 Epsilon 0.6489999999999997 mean q 11.647205\n",
      "Episode:  351 Reward: 14.0 Epsilon 0.6479999999999997 mean q 11.131645\n",
      "Episode:  352 Reward: 12.0 Epsilon 0.6469999999999997 mean q 11.305729\n",
      "Episode:  353 Reward: 10.0 Epsilon 0.6459999999999997 mean q 11.369089\n",
      "Episode:  354 Reward: 11.0 Epsilon 0.6449999999999997 mean q 11.19491\n",
      "Episode:  355 Reward: 23.0 Epsilon 0.6439999999999997 mean q 10.798472\n",
      "Episode:  356 Reward: 12.0 Epsilon 0.6429999999999997 mean q 10.96314\n",
      "Episode:  357 Reward: 22.0 Epsilon 0.6419999999999997 mean q 10.940209\n",
      "Episode:  358 Reward: 14.0 Epsilon 0.6409999999999997 mean q 10.900024\n",
      "Episode:  359 Reward: 33.0 Epsilon 0.6399999999999997 mean q 10.6129\n",
      "Episode:  360 Reward: 12.0 Epsilon 0.6389999999999997 mean q 10.872573\n",
      "Episode:  361 Reward: 10.0 Epsilon 0.6379999999999997 mean q 10.884407\n"
     ]
    },
    {
     "name": "stdout",
     "output_type": "stream",
     "text": [
      "Episode:  362 Reward: 15.0 Epsilon 0.6369999999999997 mean q 10.873714\n",
      "Episode:  363 Reward: 16.0 Epsilon 0.6359999999999997 mean q 10.862734\n",
      "Episode:  364 Reward: 18.0 Epsilon 0.6349999999999997 mean q 10.706989\n",
      "Episode:  365 Reward: 9.0 Epsilon 0.6339999999999997 mean q 10.756618\n",
      "Episode:  366 Reward: 11.0 Epsilon 0.6329999999999997 mean q 10.966484\n",
      "Episode:  367 Reward: 11.0 Epsilon 0.6319999999999997 mean q 10.815675\n",
      "Episode:  368 Reward: 25.0 Epsilon 0.6309999999999997 mean q 10.760402\n",
      "Episode:  369 Reward: 24.0 Epsilon 0.6299999999999997 mean q 10.29702\n",
      "Episode:  370 Reward: 11.0 Epsilon 0.6289999999999997 mean q 10.48076\n",
      "Episode:  371 Reward: 12.0 Epsilon 0.6279999999999997 mean q 10.281071\n",
      "Episode:  372 Reward: 11.0 Epsilon 0.6269999999999997 mean q 10.227228\n",
      "Episode:  373 Reward: 15.0 Epsilon 0.6259999999999997 mean q 10.092346\n",
      "Episode:  374 Reward: 13.0 Epsilon 0.6249999999999997 mean q 10.248358\n",
      "Episode:  375 Reward: 13.0 Epsilon 0.6239999999999997 mean q 10.058817\n",
      "Episode:  376 Reward: 11.0 Epsilon 0.6229999999999997 mean q 10.033833\n",
      "Episode:  377 Reward: 16.0 Epsilon 0.6219999999999997 mean q 10.12895\n",
      "Episode:  378 Reward: 15.0 Epsilon 0.6209999999999997 mean q 10.016529\n",
      "Episode:  379 Reward: 20.0 Epsilon 0.6199999999999997 mean q 9.841463\n",
      "Episode:  380 Reward: 12.0 Epsilon 0.6189999999999997 mean q 9.963773\n",
      "Episode:  381 Reward: 13.0 Epsilon 0.6179999999999997 mean q 9.819353\n",
      "Episode:  382 Reward: 10.0 Epsilon 0.6169999999999997 mean q 9.531248\n",
      "Episode:  383 Reward: 13.0 Epsilon 0.6159999999999997 mean q 9.789806\n",
      "Episode:  384 Reward: 12.0 Epsilon 0.6149999999999997 mean q 9.805619\n",
      "Episode:  385 Reward: 18.0 Epsilon 0.6139999999999997 mean q 9.74792\n",
      "Episode:  386 Reward: 14.0 Epsilon 0.6129999999999997 mean q 9.781143\n",
      "Episode:  387 Reward: 11.0 Epsilon 0.6119999999999997 mean q 9.629247\n",
      "Episode:  388 Reward: 9.0 Epsilon 0.6109999999999997 mean q 9.449972\n",
      "Episode:  389 Reward: 19.0 Epsilon 0.6099999999999997 mean q 9.554033\n",
      "Episode:  390 Reward: 21.0 Epsilon 0.6089999999999997 mean q 9.498963\n",
      "Episode:  391 Reward: 10.0 Epsilon 0.6079999999999997 mean q 9.082079\n",
      "Episode:  392 Reward: 11.0 Epsilon 0.6069999999999997 mean q 9.3970585\n",
      "Episode:  393 Reward: 12.0 Epsilon 0.6059999999999997 mean q 9.247836\n",
      "Episode:  394 Reward: 9.0 Epsilon 0.6049999999999996 mean q 9.092298\n",
      "Episode:  395 Reward: 19.0 Epsilon 0.6039999999999996 mean q 9.304402\n",
      "Episode:  396 Reward: 16.0 Epsilon 0.6029999999999996 mean q 9.28138\n",
      "Episode:  397 Reward: 11.0 Epsilon 0.6019999999999996 mean q 9.023358\n",
      "Episode:  398 Reward: 15.0 Epsilon 0.6009999999999996 mean q 9.52577\n",
      "Episode:  399 Reward: 34.0 Epsilon 0.5999999999999996 mean q 9.355523\n",
      "Episode:  400 Reward: 15.0 Epsilon 0.5989999999999996 mean q 8.893617\n",
      "Episode:  401 Reward: 28.0 Epsilon 0.5979999999999996 mean q 9.096504\n",
      "Episode:  402 Reward: 14.0 Epsilon 0.5969999999999996 mean q 9.23305\n",
      "Episode:  403 Reward: 14.0 Epsilon 0.5959999999999996 mean q 8.628576\n",
      "Episode:  404 Reward: 8.0 Epsilon 0.5949999999999996 mean q 9.265394\n",
      "Episode:  405 Reward: 14.0 Epsilon 0.5939999999999996 mean q 9.413897\n",
      "Episode:  406 Reward: 17.0 Epsilon 0.5929999999999996 mean q 9.502734\n",
      "Episode:  407 Reward: 12.0 Epsilon 0.5919999999999996 mean q 9.196722\n",
      "Episode:  408 Reward: 11.0 Epsilon 0.5909999999999996 mean q 9.2547\n",
      "Episode:  409 Reward: 10.0 Epsilon 0.5899999999999996 mean q 9.258299\n",
      "Episode:  410 Reward: 14.0 Epsilon 0.5889999999999996 mean q 9.512098\n",
      "Episode:  411 Reward: 10.0 Epsilon 0.5879999999999996 mean q 8.602785\n",
      "Episode:  412 Reward: 20.0 Epsilon 0.5869999999999996 mean q 9.363373\n",
      "Episode:  413 Reward: 10.0 Epsilon 0.5859999999999996 mean q 9.18778\n",
      "Episode:  414 Reward: 18.0 Epsilon 0.5849999999999996 mean q 9.57221\n",
      "Episode:  415 Reward: 9.0 Epsilon 0.5839999999999996 mean q 9.265682\n",
      "Episode:  416 Reward: 13.0 Epsilon 0.5829999999999996 mean q 9.468892\n",
      "Episode:  417 Reward: 10.0 Epsilon 0.5819999999999996 mean q 9.233107\n",
      "Episode:  418 Reward: 17.0 Epsilon 0.5809999999999996 mean q 8.7670765\n",
      "Episode:  419 Reward: 10.0 Epsilon 0.5799999999999996 mean q 9.32424\n",
      "Episode:  420 Reward: 12.0 Epsilon 0.5789999999999996 mean q 9.369343\n",
      "Episode:  421 Reward: 16.0 Epsilon 0.5779999999999996 mean q 9.454375\n",
      "Episode:  422 Reward: 35.0 Epsilon 0.5769999999999996 mean q 9.6197\n",
      "Episode:  423 Reward: 15.0 Epsilon 0.5759999999999996 mean q 9.556818\n",
      "Episode:  424 Reward: 10.0 Epsilon 0.5749999999999996 mean q 9.626097\n",
      "Episode:  425 Reward: 18.0 Epsilon 0.5739999999999996 mean q 9.855149\n",
      "Episode:  426 Reward: 29.0 Epsilon 0.5729999999999996 mean q 9.986442\n",
      "Episode:  427 Reward: 12.0 Epsilon 0.5719999999999996 mean q 9.736207\n",
      "Episode:  428 Reward: 12.0 Epsilon 0.5709999999999996 mean q 9.744366\n",
      "Episode:  429 Reward: 11.0 Epsilon 0.5699999999999996 mean q 9.844563\n",
      "Episode:  430 Reward: 14.0 Epsilon 0.5689999999999996 mean q 9.729242\n",
      "Episode:  431 Reward: 9.0 Epsilon 0.5679999999999996 mean q 9.544572\n",
      "Episode:  432 Reward: 18.0 Epsilon 0.5669999999999996 mean q 9.349114\n",
      "Episode:  433 Reward: 15.0 Epsilon 0.5659999999999996 mean q 9.768489\n",
      "Episode:  434 Reward: 17.0 Epsilon 0.5649999999999996 mean q 9.733339\n",
      "Episode:  435 Reward: 16.0 Epsilon 0.5639999999999996 mean q 9.607493\n",
      "Episode:  436 Reward: 15.0 Epsilon 0.5629999999999996 mean q 9.668235\n",
      "Episode:  437 Reward: 13.0 Epsilon 0.5619999999999996 mean q 9.510511\n",
      "Episode:  438 Reward: 14.0 Epsilon 0.5609999999999996 mean q 9.534263\n",
      "Episode:  439 Reward: 19.0 Epsilon 0.5599999999999996 mean q 9.700936\n",
      "Episode:  440 Reward: 23.0 Epsilon 0.5589999999999996 mean q 9.631229\n",
      "Episode:  441 Reward: 27.0 Epsilon 0.5579999999999996 mean q 9.462861\n",
      "Episode:  442 Reward: 18.0 Epsilon 0.5569999999999996 mean q 9.556999\n",
      "Episode:  443 Reward: 9.0 Epsilon 0.5559999999999996 mean q 9.259984\n",
      "Episode:  444 Reward: 12.0 Epsilon 0.5549999999999996 mean q 9.451698\n",
      "Episode:  445 Reward: 14.0 Epsilon 0.5539999999999996 mean q 9.4037695\n",
      "Episode:  446 Reward: 11.0 Epsilon 0.5529999999999996 mean q 9.2308235\n",
      "Episode:  447 Reward: 12.0 Epsilon 0.5519999999999996 mean q 9.245469\n",
      "Episode:  448 Reward: 11.0 Epsilon 0.5509999999999996 mean q 8.987231\n",
      "Episode:  449 Reward: 13.0 Epsilon 0.5499999999999996 mean q 9.229096\n",
      "Episode:  450 Reward: 15.0 Epsilon 0.5489999999999996 mean q 9.377822\n",
      "Episode:  451 Reward: 12.0 Epsilon 0.5479999999999996 mean q 9.102906\n",
      "Episode:  452 Reward: 12.0 Epsilon 0.5469999999999996 mean q 9.499236\n",
      "Episode:  453 Reward: 17.0 Epsilon 0.5459999999999996 mean q 9.341248\n",
      "Episode:  454 Reward: 12.0 Epsilon 0.5449999999999996 mean q 9.347426\n",
      "Episode:  455 Reward: 10.0 Epsilon 0.5439999999999996 mean q 8.968154\n",
      "Episode:  456 Reward: 13.0 Epsilon 0.5429999999999996 mean q 8.8850155\n",
      "Episode:  457 Reward: 14.0 Epsilon 0.5419999999999996 mean q 8.94082\n",
      "Episode:  458 Reward: 29.0 Epsilon 0.5409999999999996 mean q 9.637683\n",
      "Episode:  459 Reward: 44.0 Epsilon 0.5399999999999996 mean q 9.361419\n",
      "Episode:  460 Reward: 22.0 Epsilon 0.5389999999999996 mean q 9.120909\n",
      "Episode:  461 Reward: 63.0 Epsilon 0.5379999999999996 mean q 9.467336\n",
      "Episode:  462 Reward: 35.0 Epsilon 0.5369999999999996 mean q 9.218762\n",
      "Episode:  463 Reward: 17.0 Epsilon 0.5359999999999996 mean q 9.246219\n",
      "Episode:  464 Reward: 34.0 Epsilon 0.5349999999999996 mean q 9.480941\n",
      "Episode:  465 Reward: 58.0 Epsilon 0.5339999999999996 mean q 9.670551\n",
      "Episode:  466 Reward: 43.0 Epsilon 0.5329999999999996 mean q 9.604316\n",
      "Episode:  467 Reward: 15.0 Epsilon 0.5319999999999996 mean q 9.200305\n",
      "Episode:  468 Reward: 13.0 Epsilon 0.5309999999999996 mean q 8.40983\n",
      "Episode:  469 Reward: 19.0 Epsilon 0.5299999999999996 mean q 9.281763\n",
      "Episode:  470 Reward: 24.0 Epsilon 0.5289999999999996 mean q 9.923506\n",
      "Episode:  471 Reward: 46.0 Epsilon 0.5279999999999996 mean q 10.144605\n",
      "Episode:  472 Reward: 36.0 Epsilon 0.5269999999999996 mean q 10.02528\n",
      "Episode:  473 Reward: 35.0 Epsilon 0.5259999999999996 mean q 10.028944\n",
      "Episode:  474 Reward: 49.0 Epsilon 0.5249999999999996 mean q 10.1257\n",
      "Episode:  475 Reward: 74.0 Epsilon 0.5239999999999996 mean q 10.323488\n",
      "Episode:  476 Reward: 50.0 Epsilon 0.5229999999999996 mean q 10.034456\n",
      "Episode:  477 Reward: 46.0 Epsilon 0.5219999999999996 mean q 10.523774\n",
      "Episode:  478 Reward: 64.0 Epsilon 0.5209999999999996 mean q 10.54215\n"
     ]
    },
    {
     "name": "stdout",
     "output_type": "stream",
     "text": [
      "Episode:  479 Reward: 103.0 Epsilon 0.5199999999999996 mean q 10.804008\n",
      "Episode:  480 Reward: 59.0 Epsilon 0.5189999999999996 mean q 10.685904\n",
      "Episode:  481 Reward: 65.0 Epsilon 0.5179999999999996 mean q 10.692356\n",
      "Episode:  482 Reward: 29.0 Epsilon 0.5169999999999996 mean q 10.645365\n",
      "Episode:  483 Reward: 12.0 Epsilon 0.5159999999999996 mean q 9.816423\n",
      "Episode:  484 Reward: 33.0 Epsilon 0.5149999999999996 mean q 11.181812\n",
      "Episode:  485 Reward: 72.0 Epsilon 0.5139999999999996 mean q 10.743123\n",
      "Episode:  486 Reward: 44.0 Epsilon 0.5129999999999996 mean q 11.518823\n",
      "Episode:  487 Reward: 54.0 Epsilon 0.5119999999999996 mean q 11.374681\n",
      "Episode:  488 Reward: 75.0 Epsilon 0.5109999999999996 mean q 11.737857\n",
      "Episode:  489 Reward: 33.0 Epsilon 0.5099999999999996 mean q 11.464841\n",
      "Episode:  490 Reward: 96.0 Epsilon 0.5089999999999996 mean q 11.471405\n",
      "Episode:  491 Reward: 59.0 Epsilon 0.5079999999999996 mean q 11.838922\n",
      "Episode:  492 Reward: 27.0 Epsilon 0.5069999999999996 mean q 11.677531\n",
      "Episode:  493 Reward: 48.0 Epsilon 0.5059999999999996 mean q 12.166476\n",
      "Episode:  494 Reward: 86.0 Epsilon 0.5049999999999996 mean q 12.420731\n",
      "Episode:  495 Reward: 21.0 Epsilon 0.5039999999999996 mean q 11.910017\n",
      "Episode:  496 Reward: 37.0 Epsilon 0.5029999999999996 mean q 12.57793\n",
      "Episode:  497 Reward: 48.0 Epsilon 0.5019999999999996 mean q 12.686036\n",
      "Episode:  498 Reward: 50.0 Epsilon 0.5009999999999996 mean q 12.532019\n",
      "Episode:  499 Reward: 50.0 Epsilon 0.49999999999999956 mean q 13.249708\n",
      "Episode:  500 Reward: 56.0 Epsilon 0.49899999999999956 mean q 12.497304\n",
      "Episode:  501 Reward: 59.0 Epsilon 0.49799999999999955 mean q 13.098552\n",
      "Episode:  502 Reward: 70.0 Epsilon 0.49699999999999955 mean q 13.229732\n",
      "Episode:  503 Reward: 63.0 Epsilon 0.49599999999999955 mean q 13.361043\n",
      "Episode:  504 Reward: 33.0 Epsilon 0.49499999999999955 mean q 13.076408\n",
      "Episode:  505 Reward: 46.0 Epsilon 0.49399999999999955 mean q 13.282502\n",
      "Episode:  506 Reward: 47.0 Epsilon 0.49299999999999955 mean q 13.328153\n",
      "Episode:  507 Reward: 23.0 Epsilon 0.49199999999999955 mean q 12.832197\n",
      "Episode:  508 Reward: 52.0 Epsilon 0.49099999999999955 mean q 13.264522\n",
      "Episode:  509 Reward: 70.0 Epsilon 0.48999999999999955 mean q 13.663438\n",
      "Episode:  510 Reward: 66.0 Epsilon 0.48899999999999955 mean q 13.572032\n",
      "Episode:  511 Reward: 17.0 Epsilon 0.48799999999999955 mean q 12.611958\n",
      "Episode:  512 Reward: 51.0 Epsilon 0.48699999999999954 mean q 13.735766\n",
      "Episode:  513 Reward: 70.0 Epsilon 0.48599999999999954 mean q 14.0558405\n",
      "Episode:  514 Reward: 27.0 Epsilon 0.48499999999999954 mean q 13.573623\n",
      "Episode:  515 Reward: 54.0 Epsilon 0.48399999999999954 mean q 13.97033\n",
      "Episode:  516 Reward: 57.0 Epsilon 0.48299999999999954 mean q 14.020456\n",
      "Episode:  517 Reward: 64.0 Epsilon 0.48199999999999954 mean q 14.09407\n",
      "Episode:  518 Reward: 44.0 Epsilon 0.48099999999999954 mean q 14.121765\n",
      "Episode:  519 Reward: 67.0 Epsilon 0.47999999999999954 mean q 14.204189\n",
      "Episode:  520 Reward: 51.0 Epsilon 0.47899999999999954 mean q 14.569462\n",
      "Episode:  521 Reward: 58.0 Epsilon 0.47799999999999954 mean q 14.41734\n",
      "Episode:  522 Reward: 52.0 Epsilon 0.47699999999999954 mean q 14.947741\n",
      "Episode:  523 Reward: 23.0 Epsilon 0.47599999999999953 mean q 13.392472\n",
      "Episode:  524 Reward: 30.0 Epsilon 0.47499999999999953 mean q 14.483973\n",
      "Episode:  525 Reward: 57.0 Epsilon 0.47399999999999953 mean q 14.486181\n",
      "Episode:  526 Reward: 52.0 Epsilon 0.47299999999999953 mean q 14.92383\n",
      "Episode:  527 Reward: 71.0 Epsilon 0.47199999999999953 mean q 14.415209\n",
      "Episode:  528 Reward: 40.0 Epsilon 0.47099999999999953 mean q 14.543401\n",
      "Episode:  529 Reward: 34.0 Epsilon 0.46999999999999953 mean q 14.808753\n",
      "Episode:  530 Reward: 65.0 Epsilon 0.46899999999999953 mean q 14.736692\n",
      "Episode:  531 Reward: 64.0 Epsilon 0.4679999999999995 mean q 14.627304\n",
      "Episode:  532 Reward: 54.0 Epsilon 0.4669999999999995 mean q 14.66331\n",
      "Episode:  533 Reward: 41.0 Epsilon 0.4659999999999995 mean q 13.926801\n",
      "Episode:  534 Reward: 31.0 Epsilon 0.4649999999999995 mean q 14.704693\n",
      "Episode:  535 Reward: 123.0 Epsilon 0.4639999999999995 mean q 14.451791\n",
      "Episode:  536 Reward: 67.0 Epsilon 0.4629999999999995 mean q 14.955076\n",
      "Episode:  537 Reward: 65.0 Epsilon 0.4619999999999995 mean q 14.957803\n",
      "Episode:  538 Reward: 53.0 Epsilon 0.4609999999999995 mean q 14.9067\n",
      "Episode:  539 Reward: 25.0 Epsilon 0.4599999999999995 mean q 13.581582\n",
      "Episode:  540 Reward: 51.0 Epsilon 0.4589999999999995 mean q 15.121883\n",
      "Episode:  541 Reward: 130.0 Epsilon 0.4579999999999995 mean q 14.735683\n",
      "Episode:  542 Reward: 41.0 Epsilon 0.4569999999999995 mean q 15.042032\n",
      "Episode:  543 Reward: 61.0 Epsilon 0.4559999999999995 mean q 15.2266445\n",
      "Episode:  544 Reward: 26.0 Epsilon 0.4549999999999995 mean q 14.588957\n",
      "Episode:  545 Reward: 59.0 Epsilon 0.4539999999999995 mean q 15.122568\n",
      "Episode:  546 Reward: 37.0 Epsilon 0.4529999999999995 mean q 15.20166\n",
      "Episode:  547 Reward: 71.0 Epsilon 0.4519999999999995 mean q 15.361497\n",
      "Episode:  548 Reward: 97.0 Epsilon 0.4509999999999995 mean q 15.512096\n",
      "Episode:  549 Reward: 43.0 Epsilon 0.4499999999999995 mean q 15.3796425\n",
      "Episode:  550 Reward: 47.0 Epsilon 0.4489999999999995 mean q 15.432983\n",
      "Episode:  551 Reward: 39.0 Epsilon 0.4479999999999995 mean q 15.822615\n",
      "Episode:  552 Reward: 61.0 Epsilon 0.4469999999999995 mean q 15.782747\n",
      "Episode:  553 Reward: 54.0 Epsilon 0.4459999999999995 mean q 15.147136\n",
      "Episode:  554 Reward: 78.0 Epsilon 0.4449999999999995 mean q 15.789795\n",
      "Episode:  555 Reward: 44.0 Epsilon 0.4439999999999995 mean q 15.594102\n",
      "Episode:  556 Reward: 69.0 Epsilon 0.4429999999999995 mean q 15.626111\n",
      "Episode:  557 Reward: 57.0 Epsilon 0.4419999999999995 mean q 15.507371\n",
      "Episode:  558 Reward: 50.0 Epsilon 0.4409999999999995 mean q 15.550244\n",
      "Episode:  559 Reward: 70.0 Epsilon 0.4399999999999995 mean q 15.657115\n",
      "Episode:  560 Reward: 88.0 Epsilon 0.4389999999999995 mean q 15.94382\n",
      "Episode:  561 Reward: 46.0 Epsilon 0.4379999999999995 mean q 15.421387\n",
      "Episode:  562 Reward: 51.0 Epsilon 0.4369999999999995 mean q 15.888883\n",
      "Episode:  563 Reward: 30.0 Epsilon 0.4359999999999995 mean q 15.463741\n",
      "Episode:  564 Reward: 55.0 Epsilon 0.4349999999999995 mean q 15.524759\n",
      "Episode:  565 Reward: 61.0 Epsilon 0.4339999999999995 mean q 15.507219\n",
      "Episode:  566 Reward: 45.0 Epsilon 0.4329999999999995 mean q 15.440892\n",
      "Episode:  567 Reward: 15.0 Epsilon 0.4319999999999995 mean q 13.977875\n",
      "Episode:  568 Reward: 51.0 Epsilon 0.4309999999999995 mean q 15.263685\n",
      "Episode:  569 Reward: 93.0 Epsilon 0.4299999999999995 mean q 15.597733\n",
      "Episode:  570 Reward: 98.0 Epsilon 0.4289999999999995 mean q 15.697213\n",
      "Episode:  571 Reward: 74.0 Epsilon 0.4279999999999995 mean q 15.335958\n",
      "Episode:  572 Reward: 63.0 Epsilon 0.4269999999999995 mean q 15.715821\n",
      "Episode:  573 Reward: 58.0 Epsilon 0.4259999999999995 mean q 15.509391\n",
      "Episode:  574 Reward: 38.0 Epsilon 0.4249999999999995 mean q 15.381767\n",
      "Episode:  575 Reward: 35.0 Epsilon 0.4239999999999995 mean q 15.68871\n",
      "Episode:  576 Reward: 47.0 Epsilon 0.4229999999999995 mean q 15.935888\n",
      "Episode:  577 Reward: 50.0 Epsilon 0.4219999999999995 mean q 15.67464\n",
      "Episode:  578 Reward: 25.0 Epsilon 0.4209999999999995 mean q 15.244802\n",
      "Episode:  579 Reward: 59.0 Epsilon 0.4199999999999995 mean q 15.844275\n",
      "Episode:  580 Reward: 56.0 Epsilon 0.4189999999999995 mean q 15.488691\n",
      "Episode:  581 Reward: 52.0 Epsilon 0.4179999999999995 mean q 15.805899\n",
      "Episode:  582 Reward: 16.0 Epsilon 0.4169999999999995 mean q 13.966173\n",
      "Episode:  583 Reward: 29.0 Epsilon 0.4159999999999995 mean q 15.028001\n",
      "Episode:  584 Reward: 66.0 Epsilon 0.4149999999999995 mean q 15.585542\n",
      "Episode:  585 Reward: 44.0 Epsilon 0.4139999999999995 mean q 15.480149\n",
      "Episode:  586 Reward: 39.0 Epsilon 0.4129999999999995 mean q 15.457541\n",
      "Episode:  587 Reward: 87.0 Epsilon 0.4119999999999995 mean q 15.644576\n",
      "Episode:  588 Reward: 49.0 Epsilon 0.4109999999999995 mean q 15.660258\n",
      "Episode:  589 Reward: 23.0 Epsilon 0.4099999999999995 mean q 15.088002\n",
      "Episode:  590 Reward: 82.0 Epsilon 0.4089999999999995 mean q 15.718887\n",
      "Episode:  591 Reward: 52.0 Epsilon 0.4079999999999995 mean q 15.477612\n",
      "Episode:  592 Reward: 76.0 Epsilon 0.4069999999999995 mean q 15.630073\n",
      "Episode:  593 Reward: 66.0 Epsilon 0.4059999999999995 mean q 15.683578\n",
      "Episode:  594 Reward: 87.0 Epsilon 0.40499999999999947 mean q 15.926028\n",
      "Episode:  595 Reward: 26.0 Epsilon 0.40399999999999947 mean q 15.070222\n"
     ]
    },
    {
     "name": "stdout",
     "output_type": "stream",
     "text": [
      "Episode:  596 Reward: 61.0 Epsilon 0.40299999999999947 mean q 15.829653\n",
      "Episode:  597 Reward: 86.0 Epsilon 0.40199999999999947 mean q 15.791788\n",
      "Episode:  598 Reward: 55.0 Epsilon 0.40099999999999947 mean q 15.258108\n",
      "Episode:  599 Reward: 45.0 Epsilon 0.39999999999999947 mean q 15.445695\n",
      "Episode:  600 Reward: 17.0 Epsilon 0.39899999999999947 mean q 14.259124\n",
      "Episode:  601 Reward: 56.0 Epsilon 0.39799999999999947 mean q 15.614587\n",
      "Episode:  602 Reward: 33.0 Epsilon 0.39699999999999946 mean q 15.475987\n",
      "Episode:  603 Reward: 43.0 Epsilon 0.39599999999999946 mean q 15.297206\n",
      "Episode:  604 Reward: 66.0 Epsilon 0.39499999999999946 mean q 15.6031275\n",
      "Episode:  605 Reward: 93.0 Epsilon 0.39399999999999946 mean q 15.923473\n",
      "Episode:  606 Reward: 99.0 Epsilon 0.39299999999999946 mean q 15.832409\n",
      "Episode:  607 Reward: 58.0 Epsilon 0.39199999999999946 mean q 15.585503\n",
      "Episode:  608 Reward: 72.0 Epsilon 0.39099999999999946 mean q 16.071514\n",
      "Episode:  609 Reward: 63.0 Epsilon 0.38999999999999946 mean q 15.751631\n",
      "Episode:  610 Reward: 61.0 Epsilon 0.38899999999999946 mean q 15.824039\n",
      "Episode:  611 Reward: 63.0 Epsilon 0.38799999999999946 mean q 15.789377\n",
      "Episode:  612 Reward: 62.0 Epsilon 0.38699999999999946 mean q 15.83321\n",
      "Episode:  613 Reward: 52.0 Epsilon 0.38599999999999945 mean q 15.737962\n",
      "Episode:  614 Reward: 64.0 Epsilon 0.38499999999999945 mean q 15.848995\n",
      "Episode:  615 Reward: 67.0 Epsilon 0.38399999999999945 mean q 15.6862755\n",
      "Episode:  616 Reward: 114.0 Epsilon 0.38299999999999945 mean q 15.765305\n",
      "Episode:  617 Reward: 59.0 Epsilon 0.38199999999999945 mean q 15.657622\n",
      "Episode:  618 Reward: 60.0 Epsilon 0.38099999999999945 mean q 15.589386\n",
      "Episode:  619 Reward: 49.0 Epsilon 0.37999999999999945 mean q 15.585741\n",
      "Episode:  620 Reward: 91.0 Epsilon 0.37899999999999945 mean q 15.669412\n",
      "Episode:  621 Reward: 52.0 Epsilon 0.37799999999999945 mean q 15.478745\n",
      "Episode:  622 Reward: 82.0 Epsilon 0.37699999999999945 mean q 15.481591\n",
      "Episode:  623 Reward: 43.0 Epsilon 0.37599999999999945 mean q 15.354813\n",
      "Episode:  624 Reward: 59.0 Epsilon 0.37499999999999944 mean q 15.2239275\n",
      "Episode:  625 Reward: 98.0 Epsilon 0.37399999999999944 mean q 15.738465\n",
      "Episode:  626 Reward: 64.0 Epsilon 0.37299999999999944 mean q 15.697796\n",
      "Episode:  627 Reward: 89.0 Epsilon 0.37199999999999944 mean q 15.582701\n",
      "Episode:  628 Reward: 48.0 Epsilon 0.37099999999999944 mean q 15.48455\n",
      "Episode:  629 Reward: 84.0 Epsilon 0.36999999999999944 mean q 15.434553\n",
      "Episode:  630 Reward: 100.0 Epsilon 0.36899999999999944 mean q 15.600098\n",
      "Episode:  631 Reward: 92.0 Epsilon 0.36799999999999944 mean q 15.463546\n",
      "Episode:  632 Reward: 77.0 Epsilon 0.36699999999999944 mean q 15.390815\n",
      "Episode:  633 Reward: 139.0 Epsilon 0.36599999999999944 mean q 15.843656\n",
      "Episode:  634 Reward: 68.0 Epsilon 0.36499999999999944 mean q 15.600385\n",
      "Episode:  635 Reward: 101.0 Epsilon 0.36399999999999944 mean q 15.483203\n",
      "Episode:  636 Reward: 40.0 Epsilon 0.36299999999999943 mean q 15.148053\n",
      "Episode:  637 Reward: 44.0 Epsilon 0.36199999999999943 mean q 15.151584\n",
      "Episode:  638 Reward: 96.0 Epsilon 0.36099999999999943 mean q 15.759549\n",
      "Episode:  639 Reward: 68.0 Epsilon 0.35999999999999943 mean q 15.594181\n",
      "Episode:  640 Reward: 54.0 Epsilon 0.35899999999999943 mean q 15.547062\n",
      "Episode:  641 Reward: 31.0 Epsilon 0.35799999999999943 mean q 15.002941\n",
      "Episode:  642 Reward: 52.0 Epsilon 0.35699999999999943 mean q 15.385823\n",
      "Episode:  643 Reward: 71.0 Epsilon 0.35599999999999943 mean q 15.329155\n",
      "Episode:  644 Reward: 59.0 Epsilon 0.3549999999999994 mean q 15.798848\n",
      "Episode:  645 Reward: 75.0 Epsilon 0.3539999999999994 mean q 15.6404915\n",
      "Episode:  646 Reward: 92.0 Epsilon 0.3529999999999994 mean q 15.480994\n",
      "Episode:  647 Reward: 55.0 Epsilon 0.3519999999999994 mean q 15.721779\n",
      "Episode:  648 Reward: 112.0 Epsilon 0.3509999999999994 mean q 15.970518\n",
      "Episode:  649 Reward: 45.0 Epsilon 0.3499999999999994 mean q 15.627296\n",
      "Episode:  650 Reward: 85.0 Epsilon 0.3489999999999994 mean q 15.827835\n",
      "Episode:  651 Reward: 43.0 Epsilon 0.3479999999999994 mean q 15.411184\n",
      "Episode:  652 Reward: 94.0 Epsilon 0.3469999999999994 mean q 16.010366\n",
      "Episode:  653 Reward: 81.0 Epsilon 0.3459999999999994 mean q 15.831058\n",
      "Episode:  654 Reward: 50.0 Epsilon 0.3449999999999994 mean q 15.408399\n",
      "Episode:  655 Reward: 29.0 Epsilon 0.3439999999999994 mean q 14.863518\n",
      "Episode:  656 Reward: 62.0 Epsilon 0.3429999999999994 mean q 15.908513\n",
      "Episode:  657 Reward: 76.0 Epsilon 0.3419999999999994 mean q 15.734057\n",
      "Episode:  658 Reward: 127.0 Epsilon 0.3409999999999994 mean q 16.183678\n",
      "Episode:  659 Reward: 123.0 Epsilon 0.3399999999999994 mean q 15.805664\n",
      "Episode:  660 Reward: 150.0 Epsilon 0.3389999999999994 mean q 15.767481\n",
      "Episode:  661 Reward: 57.0 Epsilon 0.3379999999999994 mean q 15.286269\n",
      "Episode:  662 Reward: 151.0 Epsilon 0.3369999999999994 mean q 15.704845\n",
      "Episode:  663 Reward: 86.0 Epsilon 0.3359999999999994 mean q 16.149704\n",
      "Episode:  664 Reward: 109.0 Epsilon 0.3349999999999994 mean q 15.677851\n",
      "Episode:  665 Reward: 80.0 Epsilon 0.3339999999999994 mean q 15.454535\n",
      "Episode:  666 Reward: 105.0 Epsilon 0.3329999999999994 mean q 15.612207\n",
      "Episode:  667 Reward: 146.0 Epsilon 0.3319999999999994 mean q 15.550868\n",
      "Episode:  668 Reward: 60.0 Epsilon 0.3309999999999994 mean q 15.688794\n",
      "Episode:  669 Reward: 113.0 Epsilon 0.3299999999999994 mean q 15.574094\n",
      "Episode:  670 Reward: 86.0 Epsilon 0.3289999999999994 mean q 15.176787\n",
      "Episode:  671 Reward: 44.0 Epsilon 0.3279999999999994 mean q 14.981152\n",
      "Episode:  672 Reward: 70.0 Epsilon 0.3269999999999994 mean q 15.24857\n",
      "Episode:  673 Reward: 110.0 Epsilon 0.3259999999999994 mean q 15.580277\n",
      "Episode:  674 Reward: 114.0 Epsilon 0.3249999999999994 mean q 15.43308\n",
      "Episode:  675 Reward: 69.0 Epsilon 0.3239999999999994 mean q 15.492506\n",
      "Episode:  676 Reward: 77.0 Epsilon 0.3229999999999994 mean q 15.788172\n",
      "Episode:  677 Reward: 122.0 Epsilon 0.3219999999999994 mean q 16.09721\n",
      "Episode:  678 Reward: 92.0 Epsilon 0.3209999999999994 mean q 15.931528\n",
      "Episode:  679 Reward: 125.0 Epsilon 0.3199999999999994 mean q 15.267815\n",
      "Episode:  680 Reward: 103.0 Epsilon 0.3189999999999994 mean q 15.974144\n",
      "Episode:  681 Reward: 111.0 Epsilon 0.3179999999999994 mean q 15.720129\n",
      "Episode:  682 Reward: 137.0 Epsilon 0.3169999999999994 mean q 15.755022\n",
      "Episode:  683 Reward: 39.0 Epsilon 0.3159999999999994 mean q 15.00509\n",
      "Episode:  684 Reward: 127.0 Epsilon 0.3149999999999994 mean q 15.2401285\n",
      "Episode:  685 Reward: 110.0 Epsilon 0.3139999999999994 mean q 15.679733\n",
      "Episode:  686 Reward: 113.0 Epsilon 0.3129999999999994 mean q 15.527309\n",
      "Episode:  687 Reward: 167.0 Epsilon 0.3119999999999994 mean q 15.437483\n",
      "Episode:  688 Reward: 79.0 Epsilon 0.3109999999999994 mean q 14.92355\n",
      "Episode:  689 Reward: 90.0 Epsilon 0.3099999999999994 mean q 15.9271345\n",
      "Episode:  690 Reward: 82.0 Epsilon 0.3089999999999994 mean q 14.880005\n",
      "Episode:  691 Reward: 169.0 Epsilon 0.3079999999999994 mean q 15.459486\n",
      "Episode:  692 Reward: 113.0 Epsilon 0.3069999999999994 mean q 15.318821\n",
      "Episode:  693 Reward: 81.0 Epsilon 0.3059999999999994 mean q 15.992743\n",
      "Episode:  694 Reward: 88.0 Epsilon 0.3049999999999994 mean q 16.115196\n",
      "Episode:  695 Reward: 132.0 Epsilon 0.3039999999999994 mean q 15.554396\n",
      "Episode:  696 Reward: 99.0 Epsilon 0.3029999999999994 mean q 16.170572\n",
      "Episode:  697 Reward: 151.0 Epsilon 0.3019999999999994 mean q 15.480983\n",
      "Episode:  698 Reward: 103.0 Epsilon 0.3009999999999994 mean q 16.44567\n",
      "Episode:  699 Reward: 108.0 Epsilon 0.2999999999999994 mean q 15.224921\n",
      "Episode:  700 Reward: 103.0 Epsilon 0.2989999999999994 mean q 15.259515\n",
      "Episode:  701 Reward: 53.0 Epsilon 0.2979999999999994 mean q 15.41638\n",
      "Episode:  702 Reward: 95.0 Epsilon 0.2969999999999994 mean q 15.908554\n",
      "Episode:  703 Reward: 115.0 Epsilon 0.2959999999999994 mean q 15.452007\n",
      "Episode:  704 Reward: 46.0 Epsilon 0.2949999999999994 mean q 15.420396\n",
      "Episode:  705 Reward: 109.0 Epsilon 0.2939999999999994 mean q 16.33537\n",
      "Episode:  706 Reward: 109.0 Epsilon 0.29299999999999937 mean q 16.136875\n",
      "Episode:  707 Reward: 98.0 Epsilon 0.29199999999999937 mean q 15.687049\n",
      "Episode:  708 Reward: 48.0 Epsilon 0.29099999999999937 mean q 14.361755\n",
      "Episode:  709 Reward: 121.0 Epsilon 0.28999999999999937 mean q 15.137044\n",
      "Episode:  710 Reward: 174.0 Epsilon 0.28899999999999937 mean q 15.566141\n"
     ]
    },
    {
     "name": "stdout",
     "output_type": "stream",
     "text": [
      "Episode:  711 Reward: 181.0 Epsilon 0.28799999999999937 mean q 15.456332\n",
      "Episode:  712 Reward: 131.0 Epsilon 0.28699999999999937 mean q 14.966648\n",
      "Episode:  713 Reward: 200.0 Epsilon 0.28599999999999937 mean q 16.452415\n",
      "Episode:  714 Reward: 197.0 Epsilon 0.28499999999999936 mean q 15.666698\n",
      "Episode:  715 Reward: 77.0 Epsilon 0.28399999999999936 mean q 16.0402\n",
      "Episode:  716 Reward: 200.0 Epsilon 0.28299999999999936 mean q 16.48401\n",
      "Episode:  717 Reward: 200.0 Epsilon 0.28199999999999936 mean q 17.119606\n",
      "Episode:  718 Reward: 148.0 Epsilon 0.28099999999999936 mean q 17.853226\n",
      "Episode:  719 Reward: 200.0 Epsilon 0.27999999999999936 mean q 15.9952345\n",
      "Episode:  720 Reward: 200.0 Epsilon 0.27899999999999936 mean q 16.024733\n",
      "Episode:  721 Reward: 177.0 Epsilon 0.27799999999999936 mean q 17.885252\n",
      "Episode:  722 Reward: 200.0 Epsilon 0.27699999999999936 mean q 16.252142\n",
      "Episode:  723 Reward: 200.0 Epsilon 0.27599999999999936 mean q 17.416052\n",
      "Episode:  724 Reward: 197.0 Epsilon 0.27499999999999936 mean q 17.707535\n",
      "Episode:  725 Reward: 166.0 Epsilon 0.27399999999999936 mean q 15.820336\n",
      "Episode:  726 Reward: 200.0 Epsilon 0.27299999999999935 mean q 16.488785\n",
      "Episode:  727 Reward: 200.0 Epsilon 0.27199999999999935 mean q 16.854979\n",
      "Episode:  728 Reward: 200.0 Epsilon 0.27099999999999935 mean q 16.811733\n",
      "Episode:  729 Reward: 192.0 Epsilon 0.26999999999999935 mean q 17.163576\n",
      "Episode:  730 Reward: 200.0 Epsilon 0.26899999999999935 mean q 16.936628\n",
      "Episode:  731 Reward: 200.0 Epsilon 0.26799999999999935 mean q 17.235172\n",
      "Episode:  732 Reward: 200.0 Epsilon 0.26699999999999935 mean q 17.011515\n",
      "Episode:  733 Reward: 200.0 Epsilon 0.26599999999999935 mean q 17.017746\n",
      "Episode:  734 Reward: 200.0 Epsilon 0.26499999999999935 mean q 17.40714\n",
      "Episode:  735 Reward: 200.0 Epsilon 0.26399999999999935 mean q 16.973059\n",
      "Episode:  736 Reward: 200.0 Epsilon 0.26299999999999935 mean q 17.271757\n",
      "Episode:  737 Reward: 200.0 Epsilon 0.26199999999999934 mean q 17.226252\n",
      "Episode:  738 Reward: 178.0 Epsilon 0.26099999999999934 mean q 17.000662\n",
      "Episode:  739 Reward: 200.0 Epsilon 0.25999999999999934 mean q 17.467056\n",
      "Episode:  740 Reward: 174.0 Epsilon 0.25899999999999934 mean q 16.845377\n",
      "Episode:  741 Reward: 200.0 Epsilon 0.25799999999999934 mean q 17.356592\n",
      "Episode:  742 Reward: 200.0 Epsilon 0.25699999999999934 mean q 17.241768\n",
      "Episode:  743 Reward: 200.0 Epsilon 0.25599999999999934 mean q 17.851128\n",
      "Episode:  744 Reward: 200.0 Epsilon 0.25499999999999934 mean q 18.167915\n",
      "Episode:  745 Reward: 200.0 Epsilon 0.25399999999999934 mean q 17.550182\n",
      "Episode:  746 Reward: 177.0 Epsilon 0.25299999999999934 mean q 16.701313\n",
      "Episode:  747 Reward: 200.0 Epsilon 0.25199999999999934 mean q 17.792603\n",
      "Episode:  748 Reward: 184.0 Epsilon 0.25099999999999933 mean q 16.634804\n",
      "Episode:  749 Reward: 200.0 Epsilon 0.24999999999999933 mean q 18.295326\n",
      "Episode:  750 Reward: 200.0 Epsilon 0.24899999999999933 mean q 18.308155\n",
      "Episode:  751 Reward: 200.0 Epsilon 0.24799999999999933 mean q 16.489178\n",
      "Episode:  752 Reward: 200.0 Epsilon 0.24699999999999933 mean q 18.041634\n",
      "Episode:  753 Reward: 200.0 Epsilon 0.24599999999999933 mean q 18.069574\n",
      "Episode:  754 Reward: 200.0 Epsilon 0.24499999999999933 mean q 18.05546\n",
      "Episode:  755 Reward: 200.0 Epsilon 0.24399999999999933 mean q 17.953856\n",
      "Episode:  756 Reward: 200.0 Epsilon 0.24299999999999933 mean q 16.580664\n",
      "Episode:  757 Reward: 200.0 Epsilon 0.24199999999999933 mean q 18.34288\n",
      "Episode:  758 Reward: 200.0 Epsilon 0.24099999999999933 mean q 17.26402\n",
      "Episode:  759 Reward: 164.0 Epsilon 0.23999999999999932 mean q 18.252674\n",
      "Episode:  760 Reward: 200.0 Epsilon 0.23899999999999932 mean q 18.51511\n",
      "Episode:  761 Reward: 200.0 Epsilon 0.23799999999999932 mean q 18.438437\n",
      "Episode:  762 Reward: 200.0 Epsilon 0.23699999999999932 mean q 18.729637\n",
      "Episode:  763 Reward: 200.0 Epsilon 0.23599999999999932 mean q 18.49304\n",
      "Episode:  764 Reward: 200.0 Epsilon 0.23499999999999932 mean q 18.166222\n",
      "Episode:  765 Reward: 200.0 Epsilon 0.23399999999999932 mean q 18.193827\n",
      "Episode:  766 Reward: 200.0 Epsilon 0.23299999999999932 mean q 18.585976\n",
      "Episode:  767 Reward: 200.0 Epsilon 0.23199999999999932 mean q 18.269527\n",
      "Episode:  768 Reward: 200.0 Epsilon 0.23099999999999932 mean q 17.629883\n",
      "Episode:  769 Reward: 200.0 Epsilon 0.22999999999999932 mean q 18.739632\n",
      "Episode:  770 Reward: 200.0 Epsilon 0.22899999999999932 mean q 18.638832\n",
      "Episode:  771 Reward: 200.0 Epsilon 0.22799999999999931 mean q 18.5988\n",
      "Episode:  772 Reward: 200.0 Epsilon 0.2269999999999993 mean q 18.642443\n",
      "Episode:  773 Reward: 200.0 Epsilon 0.2259999999999993 mean q 18.605665\n",
      "Episode:  774 Reward: 200.0 Epsilon 0.2249999999999993 mean q 18.80095\n",
      "Episode:  775 Reward: 200.0 Epsilon 0.2239999999999993 mean q 18.852879\n",
      "Episode:  776 Reward: 200.0 Epsilon 0.2229999999999993 mean q 18.683113\n",
      "Episode:  777 Reward: 200.0 Epsilon 0.2219999999999993 mean q 18.677107\n",
      "Episode:  778 Reward: 200.0 Epsilon 0.2209999999999993 mean q 18.674595\n",
      "Episode:  779 Reward: 200.0 Epsilon 0.2199999999999993 mean q 18.714422\n"
     ]
    }
   ],
   "source": [
    "# Create the environment\n",
    "env = gym.make(\"CartPole-v0\")\n",
    "\n",
    "# Initializations\n",
    "num_actions = env.action_space.n\n",
    "obs_dim = env.observation_space.shape[0]\n",
    "\n",
    "# Our Neural Netork model used to estimate the Q-values\n",
    "model = DoubleQLearningModel(state_dim=obs_dim, action_dim=num_actions, learning_rate=1e-4)\n",
    "\n",
    "# Create replay buffer, where experience in form of tuples <s,a,r,s',t>, gathered from the environment is stored \n",
    "# for training\n",
    "replay_buffer = ExperienceReplay(state_size=obs_dim)\n",
    "\n",
    "# Train\n",
    "num_episodes = 1200 \n",
    "batch_size = 128 \n",
    "R, R_avg = train_loop_ddqn(model, env, num_episodes, batch_size) "
   ]
  },
  {
   "cell_type": "code",
   "execution_count": 31,
   "metadata": {},
   "outputs": [],
   "source": [
    "# close window\n",
    "env.close()"
   ]
  },
  {
   "cell_type": "markdown",
   "metadata": {},
   "source": [
    "According to the code above, and the code in the provided .py file, answer the following questions:\n",
    "    \n",
    "What is the state for this problem?\n",
    "\n",
    "**Your answer**: Cart position, cart  velocity, pole angle,  pole velocity at tip\n",
    "\n",
    "When do we switch the networks (i.e. when does the online network become the fixed one, and vice-versa)?\n",
    "\n",
    "**Your answer**: We switch the online and fixed one with a 50% probability under the model.update() step. This only happens when our experience replay buffer is > 1000 in size."
   ]
  },
  {
   "cell_type": "markdown",
   "metadata": {},
   "source": [
    "Run the cell below to visualize your final policy in an episode from this environment."
   ]
  },
  {
   "cell_type": "code",
   "execution_count": 32,
   "metadata": {},
   "outputs": [],
   "source": [
    "import time\n",
    "num_episodes = 1\n",
    "env = gym.make(\"CartPole-v0\")\n",
    "\n",
    "for i in range(num_episodes):\n",
    "        state = env.reset() #reset to initial state\n",
    "        state = np.expand_dims(state, axis=0)/2\n",
    "        terminal = False # reset terminal flag\n",
    "        while not terminal:\n",
    "            env.render()\n",
    "            time.sleep(.05)\n",
    "            q_values = model.get_q_values(state)\n",
    "            policy = eps_greedy_policy(q_values.squeeze(), .1) # greedy policy\n",
    "            action = np.random.choice(num_actions, p=policy)\n",
    "            state, reward, terminal, _ = env.step(action) # take one step in the evironment\n",
    "            state = np.expand_dims(state, axis=0)/2\n",
    "# close window\n",
    "env.close();"
   ]
  },
  {
   "cell_type": "markdown",
   "metadata": {},
   "source": [
    "Plot the episodic rewards obtained throughout the optimization, together with a moving average of it (since the episodic reward is usually very noisy)."
   ]
  },
  {
   "cell_type": "code",
   "execution_count": 33,
   "metadata": {},
   "outputs": [
    {
     "data": {
      "image/png": "[encoded data removed]",
      "text/plain": [
       "<Figure size 432x288 with 1 Axes>"
      ]
     },
     "metadata": {
      "needs_background": "light"
     },
     "output_type": "display_data"
    }
   ],
   "source": [
    "%matplotlib inline\n",
    "import matplotlib.pyplot as plt\n",
    "\n",
    "rewards = plt.plot(R, alpha=.4, label='R')\n",
    "avg_rewards = plt.plot(R_avg,label='avg R')\n",
    "plt.legend(bbox_to_anchor=(1.01, 1), loc=2, borderaxespad=0.)\n",
    "plt.xlabel('Episode')\n",
    "plt.ylim(0, 210)\n",
    "plt.show()"
   ]
  },
  {
   "cell_type": "markdown",
   "metadata": {},
   "source": [
    "Congratulations, you have now successfully implemented the DDQN algorithm. You are encouraged to explore different problems. There are a lot of different environments ready for you to implement your algorithms in. A few of these resources are:\n",
    "* [OpenAI gym](https://github.com/openai/gym)\n",
    "* [OpenAI Universe](https://github.com/openai/universe)\n",
    "* [DeepMind Lab](https://deepmind.com/blog/open-sourcing-deepmind-lab/)\n",
    "\n",
    "The model you implemented in this lab can be extended to solve harder problems. A good starting-point is to try to solve the Acrobot-problem, by loading the environment as \n",
    "\n",
    "**gym.make(\"Acrobot-v1\")**.\n",
    "\n",
    "The problem might require some modifications to how you decay $\\epsilon$, but otherwise, the code you have written within this lab should be sufficient. "
   ]
  },
  {
   "cell_type": "markdown",
   "metadata": {},
   "source": [
    "### Task 3.2 Atari games\n",
    "\n",
    "A common benchmark for reinforcement learning algorithms is the old Atari games. For the Atari games, each observation consists of one screenshot of the current state of the game. Other than adding convolutional layers to your neural network, there is one more issue regarding the new input that needs to be solved. Name at least two solutions to the problem, and why it won't work without these changes. \n",
    "\n",
    "Hint:\n",
    "- Imagine the game of pong. What is important for the algorithm to predict? What is the input to the algorithm? Is it possible to predict what we want from the input given?"
   ]
  },
  {
   "cell_type": "markdown",
   "metadata": {},
   "source": [
    "**Your answer:** In the case of pong, a single screenshot would not contain information about the direction and velocity of the ball, hence making it impossible to predict where the ball will go. The image does not contain temporal information. This can be solved by storing screenshots through time and feeding it as input to the network. Another solution is to include a recurrent layer that can store and use faetures from previous time steps. "
   ]
  }
 ],
 "metadata": {
  "kernelspec": {
   "display_name": "Python 3",
   "language": "python",
   "name": "python3"
  },
  "language_info": {
   "codemirror_mode": {
    "name": "ipython",
    "version": 3
   },
   "file_extension": ".py",
   "mimetype": "text/x-python",
   "name": "python",
   "nbconvert_exporter": "python",
   "pygments_lexer": "ipython3",
   "version": "3.6.5"
  }
 },
 "nbformat": 4,
 "nbformat_minor": 1
}
