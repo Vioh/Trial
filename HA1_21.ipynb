{
 "cells": [
  {
   "cell_type": "markdown",
   "metadata": {},
   "source": [
    "### Checklist for submission\n",
    "\n",
    "It is extremely important to make sure that:\n",
    "\n",
    "1. Everything runs as expected (no bugs when running cells);\n",
    "2. The output from each cell corresponds to its code (don't change any cell's contents without rerunning it afterwards);\n",
    "3. All outputs are present (don't delete any of the outputs);\n",
    "4. Fill in all the places that say `YOUR CODE HERE`, or \"**Your answer:** (fill in here)\".\n",
    "5. You **ONLY** change the parts of the code we asked you to, nowhere else (change only the coding parts saying `# YOUR CODE HERE`, nothing else);\n",
    "6. Don't add any new cells to this notebook;\n",
    "7. Fill in your group number and the full names of the members in the cell below;\n",
    "8. Make sure that you are not running an old version of IPython (we provide you with a cell that checks this, make sure you can run it without errors).\n",
    "\n",
    "Failing to meet any of these requirements might lead to either a subtraction of POEs (at best) or a request for resubmission (at worst).\n",
    "\n",
    "We advise you the following steps before submission for ensuring that requirements 1, 2, and 3 are always met: **Restart the kernel** (in the menubar, select Kernel$\\rightarrow$Restart) and then **run all cells** (in the menubar, select Cell$\\rightarrow$Run All). This might require a bit of time, so plan ahead for this (and possibly use Google Cloud's GPU in HA1 and HA2 for this step). Finally press the \"Save and Checkout\" button before handing in, to make sure that all your changes are saved to this .ipynb file."
   ]
  },
  {
   "cell_type": "markdown",
   "metadata": {},
   "source": [
    "---\n",
    "\n",
    "Group number and member names:"
   ]
  },
  {
   "cell_type": "code",
   "execution_count": null,
   "metadata": {},
   "outputs": [],
   "source": [
    "GROUP = \"21\"\n",
    "NAME1 = \"Hai Dinh\"\n",
    "NAME2 = \"Zeeshan Dar\""
   ]
  },
  {
   "cell_type": "markdown",
   "metadata": {},
   "source": [
    "Make sure you can run the following cell without errors."
   ]
  },
  {
   "cell_type": "code",
   "execution_count": null,
   "metadata": {},
   "outputs": [],
   "source": [
    "import IPython\n",
    "assert IPython.version_info[0] >= 3, \"Your version of IPython is too old, please update it.\""
   ]
  },
  {
   "cell_type": "markdown",
   "metadata": {},
   "source": [
    "---"
   ]
  },
  {
   "cell_type": "markdown",
   "metadata": {
    "deletable": false,
    "editable": false,
    "nbgrader": {
     "checksum": "f0dd7cbad727dec0308b03071cff6d79",
     "grade": false,
     "grade_id": "cell-8092c3fd452a3245",
     "locked": true,
     "schema_version": 1,
     "solution": false
    }
   },
   "source": [
    "# HA1 - Cats and dogs"
   ]
  },
  {
   "cell_type": "markdown",
   "metadata": {
    "deletable": false,
    "editable": false,
    "nbgrader": {
     "checksum": "87ccf483a45725dd262468c44d2acbae",
     "grade": false,
     "grade_id": "cell-0235e816fc98b0f6",
     "locked": true,
     "schema_version": 1,
     "solution": false
    }
   },
   "source": [
    "<img src=\"http://lghttp.32478.nexcesscdn.net/80E972/organiclifestylemagazine/wp-content/uploads/2015/10/Cats-and-Dogs.jpg\" alt=\"Cats and dogs\" style=\"width: 5000px;\"/>"
   ]
  },
  {
   "cell_type": "markdown",
   "metadata": {
    "deletable": false,
    "editable": false,
    "nbgrader": {
     "checksum": "e42d5a9a7b415bb217a6b890b6f07c84",
     "grade": false,
     "grade_id": "cell-c4bb694612153106",
     "locked": true,
     "schema_version": 1,
     "solution": false
    }
   },
   "source": [
    "For this home assignment, we'll use the Kaggle dataset for the [Dogs vs. Cats competition](https://www.kaggle.com/c/dogs-vs-cats). It is comprised of 25k colored images of dogs and cats. Our goal with this dataset will be to create a classifier that can tell us if the input image is of a cat or a dog."
   ]
  },
  {
   "cell_type": "markdown",
   "metadata": {},
   "source": [
    "As a way of helping you speed up the training process, each group gets 6 hours of access to an instance in Google Cloud with a K80 GPU. Take a look at the [Instructions folder](https://github.com/JulianoLagana/deep-machine-learning/tree/master/Instructions) to understand how to connect to this instance and use our tools there. You're free to use this resource as you see fit, but if you run out of hours you'll need a late day to obtain more (and you can only do this once).\n",
    "\n",
    "In order to make the most out of your GPU hours, first try solving the initial part of this notebook (tasks 0-4) in your own computer (these tasks can be solved only on the CPU), and leave most of the available hours for solving tasks 5-6, and refining your best model further (and, if you have the spare hours, experiment a bit!)."
   ]
  },
  {
   "cell_type": "markdown",
   "metadata": {
    "deletable": false,
    "editable": false,
    "nbgrader": {
     "checksum": "ba437754e558ff25301e1526ca957f4b",
     "grade": false,
     "grade_id": "cell-f7371c24b57c153e",
     "locked": true,
     "schema_version": 1,
     "solution": false
    }
   },
   "source": [
    "Requirements:\n",
    "- Whenever we ask you to plot anything, be sure to add a title and label the axes. If you're plotting more than one curve in the same plot, also add a legend.\n",
    "- When we ask you to train an architecture, train it for a reasonable number of epochs. \"Reasonable\" here means you should be fairly confident that training for a higher number of epochs wouldn't impact your conclusions regarding the model's performance.\n",
    "\n",
    "Tips:\n",
    "- If you get errors saying you've exhausted the GPU resources, well, then you exhausted the GPU resources ;). However, sometimes that's because TensorFlow didn't release a part of the GPU's memory. If you think your CNN should fit in your memory during training, try restarting the kernel and directly training only that architecture.\n",
    "- Every group has enough credits on google cloud to complete this assignment. However, this statement assumes you'll use your resources judiciously (e.g. always try the code first in your machine and make sure everything works properly before starting your instances) and **won't forget to stop your instance after using it,**  otherwise you might run out of credits.\n",
    "- Before starting, take a look at the images we'll be using. This is a hard task, don't get discouraged if your first models perform poorly (several participants in the original competition didn't achieve an accuracy higher than 60%)."
   ]
  },
  {
   "cell_type": "markdown",
   "metadata": {
    "deletable": false,
    "editable": false,
    "nbgrader": {
     "checksum": "9f50e27a30d83bcebeb52a8ae43228e2",
     "grade": false,
     "grade_id": "cell-3ee6d24346a80d85",
     "locked": true,
     "schema_version": 1,
     "solution": false
    }
   },
   "source": [
    "---\n",
    "## 0. Imports\n",
    "\n",
    "In the following cell, add all the imports you'll use in this assignment."
   ]
  },
  {
   "cell_type": "code",
   "execution_count": 1,
   "metadata": {
    "deletable": false,
    "nbgrader": {
     "checksum": "0075c816ac7a24f2287d6fa9b8a81565",
     "grade": true,
     "grade_id": "cell-464a08ede00083a4",
     "locked": false,
     "points": 0,
     "schema_version": 1,
     "solution": true
    }
   },
   "outputs": [
    {
     "name": "stderr",
     "output_type": "stream",
     "text": [
      "Using TensorFlow backend.\n"
     ]
    }
   ],
   "source": [
    "import os\n",
    "import numpy as np\n",
    "import matplotlib.pyplot as plt\n",
    "from sklearn.metrics import confusion_matrix\n",
    "%matplotlib inline\n",
    "\n",
    "# For neural net architecture \n",
    "from keras.models import Sequential, load_model\n",
    "from keras.layers import Dense, Flatten, BatchNormalization, Dropout\n",
    "from keras.layers.convolutional import Conv2D, MaxPooling2D\n",
    "from keras.regularizers import l2\n",
    "from keras.applications.vgg16 import VGG16\n",
    "from keras.models import Model\n",
    "from keras.optimizers import adam\n",
    "\n",
    "# Callbacks for training\n",
    "from keras.callbacks import TensorBoard, EarlyStopping\n",
    "\n",
    "# For image processing\n",
    "from keras.preprocessing.image import ImageDataGenerator\n",
    "\n",
    "# Store the home path\n",
    "home_path = os.getcwd()"
   ]
  },
  {
   "cell_type": "markdown",
   "metadata": {
    "deletable": false,
    "editable": false,
    "nbgrader": {
     "checksum": "49bf801d5ced99ccf6f0c5cd12100230",
     "grade": false,
     "grade_id": "cell-4821dc273028d702",
     "locked": true,
     "schema_version": 1,
     "solution": false
    }
   },
   "source": [
    "---\n",
    "## 1. Loading the data and preprocessing"
   ]
  },
  {
   "cell_type": "markdown",
   "metadata": {
    "deletable": false,
    "editable": false,
    "nbgrader": {
     "checksum": "d1d586c0063030cd1a3b04fe87e189f0",
     "grade": false,
     "grade_id": "cell-2ea049dea4713494",
     "locked": true,
     "schema_version": 1,
     "solution": false
    }
   },
   "source": [
    "The first step is to head to the [Kaggle website for the cats and dogs competition](https://www.kaggle.com/c/dogs-vs-cats) and download the data from there. You should download both the test and train folders together in one zip file (by clicking the download all button). The split ratio between training and validation has not been made, you'll need to do it yourself. The `test.zip` file contains unlabeled data, so that participants in the contest are not able to train on this set.\n",
    "\n",
    "For this assignment you should use [data generators](https://keras.io/preprocessing/image/) to load the images to your CPU/GPU memory. Because of this, your folder structure for the data should conform to the folder structure expected by the data generators (i.e. the samples should be separated into one folder for each class). Furthermore, we ask you to first start with a smaller subset of the data (1/5 of the number of samples), in order to test different models faster.\n",
    "\n",
    "This means that you should create a folder structure that resembles the following (obviously, the folder names are up to you):\n",
    "\n",
    "\n",
    "         small_train             small_val                train                   val\n",
    "              |                      |                      |                      |\n",
    "              |                      |                      |                      |\n",
    "        -------------          -------------          -------------          -------------\n",
    "        |           |          |           |          |           |          |           |\n",
    "        |           |          |           |          |           |          |           |\n",
    "      Cats        Dogs       Cats        Dogs       Cats        Dogs       Cats        Dogs\n",
    "\n",
    "The `small_train` and `small_val` folders have the training and validation samples for your smaller subset of the data, while the `train` and `val` folders contain all the samples you extracted from Kaggle's `train.zip`. We provide you a notebook that shows how to achieve this (\"Create project structure.ipynb\"), starting from the original `all.zip` file that you download from Kaggle. If you do use that notebook, we encourage you to understand how each step is being done, so you can generalize this knowledge to new datasets you'll encounter.\n",
    "\n",
    "We advise you to use 30% of the data as validation data in the smaller dataset. However, for the larger dataset, you should decide how to split between training and validation. Please specify your splits in the following cells."
   ]
  },
  {
   "cell_type": "markdown",
   "metadata": {
    "deletable": false,
    "editable": false,
    "nbgrader": {
     "checksum": "21f8c413dbd2a629e479abc65e02c1a1",
     "grade": false,
     "grade_id": "cell-89ba19509b952af2",
     "locked": true,
     "schema_version": 1,
     "solution": false
    }
   },
   "source": [
    "For the larger subset, what was the training/validation split that you decided to use?"
   ]
  },
  {
   "cell_type": "markdown",
   "metadata": {
    "deletable": false,
    "editable": false,
    "nbgrader": {
     "checksum": "b5740099dceee0e312b1711006e99c1f",
     "grade": false,
     "grade_id": "cell-b0efa9a80e35cb50",
     "locked": true,
     "schema_version": 1,
     "solution": false
    }
   },
   "source": [
    "**% Samples in the training set:**"
   ]
  },
  {
   "cell_type": "code",
   "execution_count": 2,
   "metadata": {
    "deletable": false,
    "nbgrader": {
     "checksum": "0345d9abbe8e41a3d79a43e58cf61bbd",
     "grade": true,
     "grade_id": "cell-7f3b0dfbd90a14c1",
     "locked": false,
     "points": 0.25,
     "schema_version": 1,
     "solution": true
    }
   },
   "outputs": [
    {
     "name": "stdout",
     "output_type": "stream",
     "text": [
      "Train set with 10000 images of cats.\n",
      "Train set with 10000 images of dogs.\n",
      "Train set with total 20000 images.\n",
      "Percentage of samples for the training samples is 80.0%.\n"
     ]
    }
   ],
   "source": [
    "# Counting images\n",
    "os.chdir(home_path + '/data/train/cats')\n",
    "n_train_cats = len(os.listdir())\n",
    "os.chdir(home_path + '/data/train/dogs')\n",
    "n_train_dogs = len(os.listdir())\n",
    "os.chdir(home_path + '/data/val/cats')\n",
    "n_val_cats = len(os.listdir())\n",
    "os.chdir(home_path + '/data/val/dogs')\n",
    "n_val_dogs = len(os.listdir())\n",
    "\n",
    "# Sum up the images\n",
    "n_val = n_val_cats + n_val_dogs\n",
    "n_train = n_train_cats + n_train_dogs\n",
    "n_total = n_val + n_train\n",
    "\n",
    "# Print output for the training set\n",
    "print('Train set with {} images of cats.'.format(n_train_cats))\n",
    "print('Train set with {} images of dogs.'.format(n_train_dogs))\n",
    "print('Train set with total {} images.'.format(n_train))\n",
    "print('Percentage of samples for the training samples is {}%.'.format(100*n_train/n_total))"
   ]
  },
  {
   "cell_type": "markdown",
   "metadata": {
    "deletable": false,
    "editable": false,
    "nbgrader": {
     "checksum": "2ddce1febefd28de63c23277971779d3",
     "grade": false,
     "grade_id": "cell-c23e59a345aa4071",
     "locked": true,
     "schema_version": 1,
     "solution": false
    }
   },
   "source": [
    "**% Samples in the validation set:**"
   ]
  },
  {
   "cell_type": "code",
   "execution_count": 3,
   "metadata": {
    "deletable": false,
    "nbgrader": {
     "checksum": "b8cd8215973c0496aaed775aa00d9052",
     "grade": true,
     "grade_id": "cell-515a15da68038afe",
     "locked": false,
     "points": 0.25,
     "schema_version": 1,
     "solution": true
    }
   },
   "outputs": [
    {
     "name": "stdout",
     "output_type": "stream",
     "text": [
      "Validation set with 2500 images of cats.\n",
      "Validation set with 2500 images of dogs.\n",
      "Validation set with total 5000 images.\n",
      "Percentage of samples for the validation set is 20.0%.\n"
     ]
    }
   ],
   "source": [
    "# Print output for the validation set\n",
    "print('Validation set with {} images of cats.'.format(n_val_cats))\n",
    "print('Validation set with {} images of dogs.'.format(n_val_dogs))\n",
    "print('Validation set with total {} images.'.format(n_val))\n",
    "print('Percentage of samples for the validation set is {}%.'.format(100*n_val/n_total))"
   ]
  },
  {
   "cell_type": "markdown",
   "metadata": {
    "deletable": false,
    "editable": false,
    "nbgrader": {
     "checksum": "f907f0a06aa01c1087ab6e18710c2fbe",
     "grade": false,
     "grade_id": "cell-876ca7df88c9311f",
     "locked": true,
     "schema_version": 1,
     "solution": false
    }
   },
   "source": [
    "Fill in the dataset paths (to be used later by your data generators):"
   ]
  },
  {
   "cell_type": "code",
   "execution_count": 14,
   "metadata": {
    "deletable": false,
    "nbgrader": {
     "checksum": "99224aa0ced417acf27d271313ab4ca2",
     "grade": true,
     "grade_id": "cell-1b1314f2ab1b1d6b",
     "locked": false,
     "points": 0,
     "schema_version": 1,
     "solution": true
    }
   },
   "outputs": [],
   "source": [
    "os.chdir(home_path)\n",
    "train_path = home_path + '/data/small_train'\n",
    "val_path = home_path + '/data/small_val'"
   ]
  },
  {
   "cell_type": "markdown",
   "metadata": {
    "deletable": false,
    "editable": false,
    "nbgrader": {
     "checksum": "b5cab872fd6c9d35842bc8b3708e1b7c",
     "grade": false,
     "grade_id": "cell-1d6ea64bca94a4ef",
     "locked": true,
     "schema_version": 1,
     "solution": false
    }
   },
   "source": [
    "---\n",
    "Once you have the expected folder structure, create two data generators for automatically generating batches from the images in your smaller subset of data. Don't use any [data augmentation](https://cartesianfaith.com/2016/10/06/what-you-need-to-know-about-data-augmentation-for-machine-learning/), but feel free to preprocess the data as you see fit. After instantiating them, run the `flow_from_directory` method with the desired arguments.\n",
    "\n",
    "Hints:\n",
    "- The specified `batch_size` should be chosen so that your don't run out of memory.\n",
    "- When feeding the images to your CNN, you'll probably want all of them to have the same spatial size, even though the .jpeg files differ in this. If so, take a look at the argument `target_size` for the `flow_from_directory` method of data generators.\n",
    "- Resizing the images to a smaller size while loading them can be beneficial."
   ]
  },
  {
   "cell_type": "code",
   "execution_count": 15,
   "metadata": {
    "deletable": false,
    "nbgrader": {
     "checksum": "ccd3d3780bee365018f2a96b8022d56b",
     "grade": true,
     "grade_id": "cell-ed8f5ab8d5cc0d6c",
     "locked": false,
     "points": 1.5,
     "schema_version": 1,
     "solution": true
    }
   },
   "outputs": [
    {
     "name": "stdout",
     "output_type": "stream",
     "text": [
      "Found 3500 images belonging to 2 classes.\n",
      "Found 1500 images belonging to 2 classes.\n"
     ]
    }
   ],
   "source": [
    "train_datagen = ImageDataGenerator(rescale=1./255)\n",
    "val_datagen = ImageDataGenerator(rescale=1./255)\n",
    "image_shape = (128, 128, 3)\n",
    "\n",
    "train_generator = train_datagen.flow_from_directory(\n",
    "        train_path,\n",
    "        target_size=(128, 128),\n",
    "        color_mode=\"rgb\",\n",
    "        batch_size=32,\n",
    "        class_mode='binary')\n",
    "\n",
    "val_generator = val_datagen.flow_from_directory(\n",
    "        val_path,\n",
    "        target_size=(128, 128),\n",
    "        color_mode=\"rgb\",\n",
    "        batch_size=32,\n",
    "        class_mode='binary')"
   ]
  },
  {
   "cell_type": "markdown",
   "metadata": {
    "deletable": false,
    "editable": false,
    "nbgrader": {
     "checksum": "9e39d5fb0e38a44e07a4519f4db98583",
     "grade": false,
     "grade_id": "cell-c0bfc1ac7fadfcc7",
     "locked": true,
     "schema_version": 1,
     "solution": false
    }
   },
   "source": [
    "---\n",
    "## 2. Training"
   ]
  },
  {
   "cell_type": "markdown",
   "metadata": {
    "deletable": false,
    "editable": false,
    "nbgrader": {
     "checksum": "41dd6aa5a0bc2a35b880c6e72db8e130",
     "grade": false,
     "grade_id": "cell-2c2425121bcacf34",
     "locked": true,
     "schema_version": 1,
     "solution": false
    }
   },
   "source": [
    "Create your first CNN architecture for this task. Start with something as simple as possible, that you're almost sure can get an accuracy better than 50% (we'll improve upon it later).\n",
    "\n",
    "Tip:\n",
    "- If Tensorflow is your backend, your `input_shape` is always `(img_width, img_height, 3)` (i.e. channels **last**)"
   ]
  },
  {
   "cell_type": "code",
   "execution_count": 6,
   "metadata": {},
   "outputs": [],
   "source": [
    "def modelA():\n",
    "    model = Sequential()\n",
    "    model.add(Conv2D(16, (5, 5), activation='relu', input_shape=image_shape))\n",
    "    model.add(MaxPooling2D(pool_size=(2, 2)))\n",
    "    model.add(Flatten())\n",
    "    model.add(Dense(16, activation='relu'))\n",
    "    model.add(Dense(1, activation='sigmoid'))\n",
    "    model.compile(loss='binary_crossentropy', optimizer='adam', metrics=['accuracy'])\n",
    "    return model"
   ]
  },
  {
   "cell_type": "markdown",
   "metadata": {
    "deletable": false,
    "editable": false,
    "nbgrader": {
     "checksum": "5210173277189c7bc5d5c18621a1ef8c",
     "grade": false,
     "grade_id": "cell-cb6fc78116ad6b75",
     "locked": true,
     "schema_version": 1,
     "solution": false
    }
   },
   "source": [
    "Train your model using the `fit_generator` method and the two data generators you created earlier. Train for a reasonable amount of epochs, so as to get a good sense of how well this architecture performs.\n",
    "\n",
    "Tips:\n",
    "- Usually the bottleneck is when loading the images from the disk. To speed up training, make sure to take a look at the arguments `workers` and `use_multiprocessing` of `fit_generator`.\n",
    "- You don't have to set the argument `steps_per_epoch` to the number of batches in an epoch. Instead, you can choose a lower number to obtain more frequent prints about the current loss and accuracy of your model (but then have in mind that you're not actually training for the number of epochs you specify in `epochs`)."
   ]
  },
  {
   "cell_type": "code",
   "execution_count": 7,
   "metadata": {
    "deletable": false,
    "nbgrader": {
     "checksum": "865326597e6d487caaaa64ba30cf1abe",
     "grade": true,
     "grade_id": "cell-bb1fcd878f3bea9a",
     "locked": false,
     "points": 1,
     "schema_version": 1,
     "solution": true
    }
   },
   "outputs": [
    {
     "name": "stdout",
     "output_type": "stream",
     "text": [
      "Epoch 1/15\n",
      "110/110 [==============================] - 23s 213ms/step - loss: 0.7093 - acc: 0.5346 - val_loss: 0.6604 - val_acc: 0.5900\n",
      "Epoch 2/15\n",
      "110/110 [==============================] - 21s 191ms/step - loss: 0.6350 - acc: 0.6426 - val_loss: 0.6129 - val_acc: 0.6847\n",
      "Epoch 3/15\n",
      "110/110 [==============================] - 20s 185ms/step - loss: 0.5292 - acc: 0.7438 - val_loss: 0.5808 - val_acc: 0.6920\n",
      "Epoch 4/15\n",
      "110/110 [==============================] - 21s 189ms/step - loss: 0.4066 - acc: 0.8248 - val_loss: 0.5912 - val_acc: 0.6973\n",
      "Epoch 5/15\n",
      "110/110 [==============================] - 21s 189ms/step - loss: 0.3087 - acc: 0.8817 - val_loss: 0.6647 - val_acc: 0.6860\n",
      "Epoch 6/15\n",
      "110/110 [==============================] - 21s 191ms/step - loss: 0.2280 - acc: 0.9149 - val_loss: 0.7379 - val_acc: 0.6827\n",
      "Epoch 7/15\n",
      "110/110 [==============================] - 21s 187ms/step - loss: 0.1463 - acc: 0.9561 - val_loss: 0.8471 - val_acc: 0.6707\n",
      "Epoch 8/15\n",
      "110/110 [==============================] - 21s 189ms/step - loss: 0.0963 - acc: 0.9778 - val_loss: 0.9826 - val_acc: 0.6673\n",
      "Epoch 9/15\n",
      "110/110 [==============================] - 21s 194ms/step - loss: 0.0557 - acc: 0.9903 - val_loss: 1.0186 - val_acc: 0.6747\n",
      "Epoch 10/15\n",
      "110/110 [==============================] - 21s 190ms/step - loss: 0.0411 - acc: 0.9952 - val_loss: 1.1091 - val_acc: 0.6647\n",
      "Epoch 11/15\n",
      "Epoch 10/15\n",
      "110/110 [==============================] - 21s 190ms/step - loss: 0.0257 - acc: 0.9974 - val_loss: 1.2292 - val_acc: 0.6740\n",
      "Epoch 12/15\n",
      "110/110 [==============================] - 21s 192ms/step - loss: 0.0139 - acc: 0.9989 - val_loss: 1.3166 - val_acc: 0.6693\n",
      "Epoch 13/15\n",
      "110/110 [==============================] - 22s 200ms/step - loss: 0.0095 - acc: 0.9997 - val_loss: 1.4089 - val_acc: 0.6700\n",
      "Epoch 14/15\n",
      "110/110 [==============================] - 20s 182ms/step - loss: 0.0061 - acc: 0.9997 - val_loss: 1.4409 - val_acc: 0.6700\n",
      "Epoch 15/15\n",
      "110/110 [==============================] - 20s 183ms/step - loss: 0.0041 - acc: 0.9997 - val_loss: 1.5043 - val_acc: 0.6727\n"
     ]
    }
   ],
   "source": [
    "modelA = modelA()\n",
    "hist_modelA = modelA.fit_generator(train_generator,\n",
    "                                  validation_data=val_generator,\n",
    "                                  epochs=15,\n",
    "                                  use_multiprocessing=True,\n",
    "                                  workers=4)"
   ]
  },
  {
   "cell_type": "markdown",
   "metadata": {
    "deletable": false,
    "editable": false,
    "nbgrader": {
     "checksum": "2f494d53c5c891008921b85679b9aaa7",
     "grade": false,
     "grade_id": "cell-4d42c86687697a67",
     "locked": true,
     "schema_version": 1,
     "solution": false
    }
   },
   "source": [
    "Create one figure with two axes. In one of them, plot the loss in the training and the validation datasets. In the other one, plot the accuracy in the training and validation datasets.\n",
    "\n",
    "Hint:\n",
    "- The `fit_generator` method returns a `history` object."
   ]
  },
  {
   "cell_type": "code",
   "execution_count": 14,
   "metadata": {
    "deletable": false,
    "nbgrader": {
     "checksum": "e71729e832321272983178b41b90f874",
     "grade": true,
     "grade_id": "cell-fa81712e1e27432a",
     "locked": false,
     "points": 0,
     "schema_version": 1,
     "solution": true
    }
   },
   "outputs": [
    {
     "data": {
      "image/png": "[encoded data removed]",
      "text/plain": [
       "<Figure size 1296x360 with 2 Axes>"
      ]
     },
     "metadata": {
      "needs_background": "light"
     },
     "output_type": "display_data"
    }
   ],
   "source": [
    "# Get the history dict and set figure size\n",
    "history = hist_modelA.history\n",
    "fig = plt.figure(figsize=(18,5))\n",
    "\n",
    "# Plotting the loss\n",
    "plt.subplot(1,2,1)\n",
    "plt.plot(history['loss'])\n",
    "plt.plot(history['val_loss'])\n",
    "plt.title('Loss (Model A)')\n",
    "plt.ylabel('Loss')\n",
    "plt.xlabel('Epoch')\n",
    "plt.legend(['Train', 'Validation'])\n",
    "\n",
    "# Plotting the accuracy\n",
    "plt.subplot(1,2,2)\n",
    "plt.plot(history['acc'])\n",
    "plt.plot(history['val_acc'])\n",
    "plt.title('Accuracy (Model A)')\n",
    "plt.ylabel('Accuracy')\n",
    "plt.xlabel('Epoch')\n",
    "plt.legend(['Train', 'Validation'])\n",
    "\n",
    "# Show the plots\n",
    "plt.show()"
   ]
  },
  {
   "cell_type": "markdown",
   "metadata": {
    "deletable": false,
    "editable": false,
    "nbgrader": {
     "checksum": "5797f9d2d079b67832722cebe8cff0ef",
     "grade": false,
     "grade_id": "cell-f2fc166890962bcf",
     "locked": true,
     "schema_version": 1,
     "solution": false
    }
   },
   "source": [
    "Based on these, what would you suggest for improving your model? Why?"
   ]
  },
  {
   "cell_type": "markdown",
   "metadata": {
    "deletable": false,
    "nbgrader": {
     "checksum": "cf197ef63bfa3aee62055bd8ed8f7a1c",
     "grade": true,
     "grade_id": "cell-506e21ce469b67f5",
     "locked": false,
     "points": 1,
     "schema_version": 1,
     "solution": true
    }
   },
   "source": [
    "**Your answer:** Model A is a very simple neural network with only 1 conv layer and one fully connected layer. The number of filters for the conv layer is only 16, not very large either. And with this model, we manage to get the training accuracy up to almost 100%. However, this model suffers heavily from overfitting, because validation accuracy levels off already from the 3rd epoch at around 69%. Hence, the most straight-forward way to improve the model is to either introduce some kind of regularizations, or using a dropout layer. Since our model is already very simple with not so many neurons, introducing dropout here doesn't make much sense, since dropout would turn off quite many neurons. So we decided to improve the model by simply introducing L2-regularization on both hidden layers that we have. The expectation is that regularization will prevent overfitting, making the training accuracy rise more slowly such that the validation accuracy has time to pick up. We do this in Model B below."
   ]
  },
  {
   "cell_type": "markdown",
   "metadata": {
    "deletable": false,
    "editable": false,
    "nbgrader": {
     "checksum": "0be49b9a95620540a192e413f70f71c5",
     "grade": false,
     "grade_id": "cell-db018000a5382694",
     "locked": true,
     "schema_version": 1,
     "solution": false
    }
   },
   "source": [
    "---\n",
    "## 3. Improving your initial model"
   ]
  },
  {
   "cell_type": "markdown",
   "metadata": {
    "deletable": false,
    "editable": false,
    "nbgrader": {
     "checksum": "52b66a6d63b9dd6f55f0dfd477b84597",
     "grade": false,
     "grade_id": "cell-fa0e4d84ef7af322",
     "locked": true,
     "schema_version": 1,
     "solution": false
    }
   },
   "source": [
    "Improve your initial model according to you answer above. Write the new definition in the cell below and train it."
   ]
  },
  {
   "cell_type": "code",
   "execution_count": 18,
   "metadata": {
    "deletable": false,
    "nbgrader": {
     "checksum": "b18ab0f30b9a4e8e9746f324313fa1b2",
     "grade": true,
     "grade_id": "cell-e4cf90a9c3ae1959",
     "locked": false,
     "points": 0,
     "schema_version": 1,
     "solution": true
    }
   },
   "outputs": [
    {
     "name": "stdout",
     "output_type": "stream",
     "text": [
      "Epoch 1/15\n",
      "110/110 [==============================] - 25s 230ms/step - loss: 0.8555 - acc: 0.5147 - val_loss: 0.7735 - val_acc: 0.5647\n",
      "Epoch 2/15\n",
      "110/110 [==============================] - 23s 210ms/step - loss: 0.7537 - acc: 0.5163 - val_loss: 0.7373 - val_acc: 0.5673\n",
      "Epoch 3/15\n",
      "110/110 [==============================] - 25s 231ms/step - loss: 0.7335 - acc: 0.5579 - val_loss: 0.7295 - val_acc: 0.6013\n",
      "Epoch 4/15\n",
      "110/110 [==============================] - 25s 224ms/step - loss: 0.7242 - acc: 0.5432 - val_loss: 0.7058 - val_acc: 0.6033\n",
      "Epoch 5/15\n",
      "110/110 [==============================] - 26s 236ms/step - loss: 0.7112 - acc: 0.5682 - val_loss: 0.7223 - val_acc: 0.5227\n",
      "Epoch 6/15\n",
      "110/110 [==============================] - 26s 236ms/step - loss: 0.7105 - acc: 0.5581 - val_loss: 0.7108 - val_acc: 0.5520\n",
      "Epoch 7/15\n",
      "110/110 [==============================] - 24s 216ms/step - loss: 0.7047 - acc: 0.5865 - val_loss: 0.6956 - val_acc: 0.5527\n",
      "Epoch 8/15\n",
      "110/110 [==============================] - 23s 213ms/step - loss: 0.6891 - acc: 0.6172 - val_loss: 0.6859 - val_acc: 0.6167\n",
      "Epoch 9/15\n",
      "110/110 [==============================] - 24s 221ms/step - loss: 0.6830 - acc: 0.6308 - val_loss: 0.6880 - val_acc: 0.6320\n",
      "Epoch 10/15\n",
      "110/110 [==============================] - 24s 217ms/step - loss: 0.6830 - acc: 0.6393 - val_loss: 0.6838 - val_acc: 0.6173\n",
      "Epoch 11/15\n",
      "110/110 [==============================] - 23s 214ms/step - loss: 0.6685 - acc: 0.6628 - val_loss: 0.6793 - val_acc: 0.6300\n",
      "Epoch 12/15\n",
      "110/110 [==============================] - 24s 218ms/step - loss: 0.6698 - acc: 0.6429 - val_loss: 0.6776 - val_acc: 0.6293\n",
      "Epoch 13/15\n",
      "110/110 [==============================] - 24s 215ms/step - loss: 0.6544 - acc: 0.6809 - val_loss: 0.6825 - val_acc: 0.6453\n",
      "Epoch 14/15\n",
      "110/110 [==============================] - 24s 215ms/step - loss: 0.6525 - acc: 0.6831 - val_loss: 0.6833 - val_acc: 0.6407\n",
      "Epoch 15/15\n",
      "110/110 [==============================] - 23s 213ms/step - loss: 0.6459 - acc: 0.6828 - val_loss: 0.6875 - val_acc: 0.6340\n"
     ]
    }
   ],
   "source": [
    "def modelB():\n",
    "    model = Sequential()\n",
    "    model.add(Conv2D(16, (5, 5), kernel_regularizer=l2(0.008), activation='relu', input_shape=image_shape))\n",
    "    model.add(MaxPooling2D(pool_size=(2, 2)))\n",
    "    model.add(Flatten())\n",
    "    model.add(Dense(16, activation='relu', kernel_regularizer=l2(0.008)))\n",
    "    model.add(Dense(1, activation='sigmoid'))\n",
    "    model.compile(loss='binary_crossentropy', optimizer='adam', metrics=['accuracy'])\n",
    "    return model\n",
    "\n",
    "modelB = modelB()\n",
    "hist_modelB = modelB.fit_generator(train_generator,\n",
    "                                  validation_data=val_generator,\n",
    "                                  epochs=15,\n",
    "                                  use_multiprocessing=True,\n",
    "                                  workers=4)"
   ]
  },
  {
   "cell_type": "markdown",
   "metadata": {
    "deletable": false,
    "editable": false,
    "nbgrader": {
     "checksum": "a93627bb2c08c83a9d4cb6596ab27de7",
     "grade": false,
     "grade_id": "cell-bcff77954e648d56",
     "locked": true,
     "schema_version": 1,
     "solution": false
    }
   },
   "source": [
    "How does the model perform, compared to the initial model? Create one plot with the training accuracy and another with the validation accuracy of the two scenarios."
   ]
  },
  {
   "cell_type": "code",
   "execution_count": 19,
   "metadata": {
    "deletable": false,
    "nbgrader": {
     "checksum": "a0b92d3cd986908779f53ff2b6fac22f",
     "grade": true,
     "grade_id": "cell-a4a3c7da2ad8161b",
     "locked": false,
     "points": 2,
     "schema_version": 1,
     "solution": true
    }
   },
   "outputs": [
    {
     "data": {
      "image/png": "[encoded data removed]",
      "text/plain": [
       "<Figure size 1296x360 with 2 Axes>"
      ]
     },
     "metadata": {
      "needs_background": "light"
     },
     "output_type": "display_data"
    }
   ],
   "source": [
    "# Get the history dicts and set figure size\n",
    "historyA = hist_modelA.history\n",
    "historyB = hist_modelB.history\n",
    "fig = plt.figure(figsize=(18,5))\n",
    "\n",
    "# Plotting the training accuracy\n",
    "plt.subplot(1,2,1)\n",
    "plt.plot(historyA['acc'])\n",
    "plt.plot(historyB['acc'])\n",
    "plt.title('Training accuracy comparison')\n",
    "plt.ylim((0.5, 1.0))\n",
    "plt.ylabel('Accuracy')\n",
    "plt.xlabel('Epoch')\n",
    "plt.legend(['Model A', 'Model B'])\n",
    "\n",
    "# Plotting the validation accuracy\n",
    "plt.subplot(1,2,2)\n",
    "plt.plot(historyA['val_acc'])\n",
    "plt.plot(historyB['val_acc'])\n",
    "plt.title('Validation accuracy comparison')\n",
    "plt.ylim((0.5, 1.0))\n",
    "plt.ylabel('Accuracy')\n",
    "plt.xlabel('Epoch')\n",
    "plt.legend(['Model A', 'Model B'])\n",
    "\n",
    "# Show the plots\n",
    "plt.show()"
   ]
  },
  {
   "cell_type": "markdown",
   "metadata": {
    "deletable": false,
    "editable": false,
    "nbgrader": {
     "checksum": "5e771b76bc948242070767d51688eeee",
     "grade": false,
     "grade_id": "cell-14b1810989c351b4",
     "locked": true,
     "schema_version": 1,
     "solution": false
    }
   },
   "source": [
    "Did your results improve? Explain why, or why not."
   ]
  },
  {
   "cell_type": "markdown",
   "metadata": {
    "deletable": false,
    "nbgrader": {
     "checksum": "30a59a5574ab183d17b3f92f8057aba4",
     "grade": true,
     "grade_id": "cell-1d27850a74139e5a",
     "locked": false,
     "points": 1,
     "schema_version": 1,
     "solution": true
    }
   },
   "source": [
    "**Your answer:** Despite the accuracy of the training drops down from 100% to around 69%, the validation accuracy still stays very much the same compared to Model A, even a bit lower. This means that Model B suffers less from overfitting, but its performance on the validation set still doesn't improve at all. This might be because even though we add the regularizers, the neural network in Model B is still very simple and shallow, and thus might not be able to capture the good features that will make the classifier more accurate. To improve this, we can try to have a deeper neural network with more conv layers, and also more filters."
   ]
  },
  {
   "cell_type": "markdown",
   "metadata": {
    "deletable": false,
    "editable": false,
    "nbgrader": {
     "checksum": "67dce4bccc56629263ef4839e570f12a",
     "grade": false,
     "grade_id": "cell-ee79a83a62b70a8f",
     "locked": true,
     "schema_version": 1,
     "solution": false
    }
   },
   "source": [
    "---\n",
    "## 4. Obtaining the *best* model"
   ]
  },
  {
   "cell_type": "markdown",
   "metadata": {
    "deletable": false,
    "editable": false,
    "nbgrader": {
     "checksum": "6d029dd4346c9e32b725e6158d77475c",
     "grade": false,
     "grade_id": "cell-5314d286e79e0377",
     "locked": true,
     "schema_version": 1,
     "solution": false
    }
   },
   "source": [
    "Continue to improve your model architecture by comparing the value of the metrics you're interested in both the training and validation set. Try different ideas, and consider comparing them using tensorboard. When you're happy with one architecture, copy it in the cell below and train it here. Save the optimization history (i.e. the `history` object returned by the `fit_generator`). You'll use this later to compare your best model with the one using transfer learning.\n",
    "\n",
    "**Note**: When trying different ideas, you'll end up with several different models. However, when submitting your solutions to ping-pong, the cell below must contain only the definition and training of *one* model. Remove all code related to the models that were not chosen."
   ]
  },
  {
   "cell_type": "code",
   "execution_count": 32,
   "metadata": {},
   "outputs": [
    {
     "name": "stdout",
     "output_type": "stream",
     "text": [
      "Epoch 1/20\n",
      "110/110 [==============================] - 11s 101ms/step - loss: 0.7561 - acc: 0.5423 - val_loss: 0.7074 - val_acc: 0.5393\n",
      "Epoch 2/20\n",
      "110/110 [==============================] - 8s 76ms/step - loss: 0.6724 - acc: 0.6368 - val_loss: 0.6332 - val_acc: 0.6807\n",
      "Epoch 3/20\n",
      "110/110 [==============================] - 8s 77ms/step - loss: 0.6176 - acc: 0.6988 - val_loss: 0.6716 - val_acc: 0.6300\n",
      "Epoch 4/20\n",
      "110/110 [==============================] - 8s 76ms/step - loss: 0.5866 - acc: 0.7165 - val_loss: 0.5893 - val_acc: 0.7247\n",
      "Epoch 5/20\n",
      "110/110 [==============================] - 9s 77ms/step - loss: 0.5692 - acc: 0.7336 - val_loss: 0.5980 - val_acc: 0.7287\n",
      "Epoch 6/20\n",
      "110/110 [==============================] - 8s 74ms/step - loss: 0.5478 - acc: 0.7562 - val_loss: 0.6487 - val_acc: 0.6867\n",
      "Epoch 7/20\n",
      "110/110 [==============================] - 8s 75ms/step - loss: 0.5399 - acc: 0.7650 - val_loss: 0.5965 - val_acc: 0.7300\n",
      "Epoch 8/20\n",
      "110/110 [==============================] - 8s 76ms/step - loss: 0.5063 - acc: 0.7850 - val_loss: 0.6201 - val_acc: 0.7133\n",
      "Epoch 9/20\n",
      "110/110 [==============================] - 8s 77ms/step - loss: 0.5010 - acc: 0.7873 - val_loss: 0.5960 - val_acc: 0.7260\n",
      "Epoch 10/20\n",
      "110/110 [==============================] - 8s 75ms/step - loss: 0.4666 - acc: 0.8131 - val_loss: 0.5972 - val_acc: 0.7373\n",
      "Epoch 11/20\n",
      "110/110 [==============================] - 8s 76ms/step - loss: 0.4458 - acc: 0.8212 - val_loss: 0.6471 - val_acc: 0.7147\n",
      "Epoch 12/20\n",
      "110/110 [==============================] - 8s 74ms/step - loss: 0.4340 - acc: 0.8327 - val_loss: 0.6244 - val_acc: 0.7273\n",
      "Epoch 13/20\n",
      "110/110 [==============================] - 8s 75ms/step - loss: 0.4148 - acc: 0.8453 - val_loss: 0.6528 - val_acc: 0.7447\n",
      "Epoch 14/20\n",
      "110/110 [==============================] - 8s 74ms/step - loss: 0.3773 - acc: 0.8749 - val_loss: 0.6784 - val_acc: 0.7453\n",
      "Epoch 15/20\n",
      "110/110 [==============================] - 8s 76ms/step - loss: 0.3615 - acc: 0.8831 - val_loss: 0.7259 - val_acc: 0.7340\n",
      "Epoch 16/20\n",
      "110/110 [==============================] - 9s 77ms/step - loss: 0.3368 - acc: 0.8986 - val_loss: 0.7612 - val_acc: 0.7293\n",
      "Epoch 17/20\n",
      "110/110 [==============================] - 8s 75ms/step - loss: 0.3243 - acc: 0.9102 - val_loss: 0.8080 - val_acc: 0.7267\n",
      "Epoch 18/20\n",
      "110/110 [==============================] - 8s 76ms/step - loss: 0.2907 - acc: 0.9271 - val_loss: 0.8959 - val_acc: 0.7340\n",
      "Epoch 19/20\n",
      "110/110 [==============================] - 8s 75ms/step - loss: 0.2872 - acc: 0.9293 - val_loss: 0.8431 - val_acc: 0.7287\n",
      "Epoch 20/20\n",
      "110/110 [==============================] - 8s 76ms/step - loss: 0.2497 - acc: 0.9508 - val_loss: 0.9335 - val_acc: 0.7307\n"
     ]
    }
   ],
   "source": [
    "def modelC():\n",
    "    model = Sequential()\n",
    "    model.add(Conv2D(16, (3, 3), input_shape=image_shape, activation='relu', kernel_regularizer=l2(0.001)))\n",
    "    model.add(MaxPooling2D(pool_size=(2, 2)))\n",
    "    model.add(Conv2D(32, (3, 3), input_shape=image_shape, activation='relu', kernel_regularizer=l2(0.001)))\n",
    "    model.add(MaxPooling2D(pool_size=(2, 2)))\n",
    "    model.add(Conv2D(64, (3, 3), input_shape=image_shape, activation='relu', kernel_regularizer=l2(0.001)))\n",
    "    model.add(MaxPooling2D(pool_size=(2, 2)))\n",
    "    model.add(Flatten())\n",
    "    model.add(Dense(64, activation='relu', kernel_regularizer=l2(0.001)))\n",
    "    model.add(Dense(1, activation='sigmoid'))\n",
    "    model.compile(loss='binary_crossentropy', optimizer='adam', metrics=['accuracy'])\n",
    "    return model\n",
    "\n",
    "modelC = modelC()\n",
    "hist_modelC = modelC.fit_generator(train_generator,\n",
    "                                  validation_data=val_generator,\n",
    "                                  epochs=20,\n",
    "                                  use_multiprocessing=True,\n",
    "                                  workers=4)"
   ]
  },
  {
   "cell_type": "markdown",
   "metadata": {
    "deletable": false,
    "editable": false,
    "nbgrader": {
     "checksum": "3ed8d707a3e3e3e2dc6e09630da26d02",
     "grade": false,
     "grade_id": "cell-d033937b5a8b9875",
     "locked": true,
     "schema_version": 1,
     "solution": false
    }
   },
   "source": [
    "Create one figure with two axes. In one of them, plot the loss in the training and the validation datasets. In the other one, plot the accuracy in the training and validation datasets."
   ]
  },
  {
   "cell_type": "code",
   "execution_count": 33,
   "metadata": {
    "deletable": false,
    "nbgrader": {
     "checksum": "88f944698dc9dc353e1933fe16b6de87",
     "grade": true,
     "grade_id": "cell-3df999674672de47",
     "locked": false,
     "points": 0,
     "schema_version": 1,
     "solution": true
    }
   },
   "outputs": [
    {
     "data": {
      "image/png": "[encoded data removed]",
      "text/plain": [
       "<Figure size 1296x360 with 2 Axes>"
      ]
     },
     "metadata": {},
     "output_type": "display_data"
    }
   ],
   "source": [
    "# Get the history dict and set figure size\n",
    "history = hist_modelC.history\n",
    "fig = plt.figure(figsize=(18,5))\n",
    "\n",
    "# Plotting the loss\n",
    "plt.subplot(1,2,1)\n",
    "plt.plot(history['loss'])\n",
    "plt.plot(history['val_loss'])\n",
    "plt.title('Loss (Model C)')\n",
    "plt.ylabel('Loss')\n",
    "plt.xlabel('Epoch')\n",
    "plt.legend(['Train', 'Validation'])\n",
    "\n",
    "# Plotting the accuracy\n",
    "plt.subplot(1,2,2)\n",
    "plt.plot(history['acc'])\n",
    "plt.plot(history['val_acc'])\n",
    "plt.title('Accuracy (Model C)')\n",
    "plt.ylabel('Accuracy')\n",
    "plt.xlabel('Epoch')\n",
    "plt.legend(['Train', 'Validation'])\n",
    "\n",
    "# Show the plots\n",
    "plt.show()"
   ]
  },
  {
   "cell_type": "markdown",
   "metadata": {
    "deletable": false,
    "editable": false,
    "nbgrader": {
     "checksum": "69f51481b462b089daee7f896bad2cc3",
     "grade": false,
     "grade_id": "cell-c67bcc4fbec1808e",
     "locked": true,
     "schema_version": 1,
     "solution": false
    }
   },
   "source": [
    "[Save your model](https://keras.io/getting-started/faq/#how-can-i-save-a-keras-model) to disk as a HDF5 file (the architecture, weights and optimizer state). This is simply so you can use it again easily in the later parts of the notebook, without having to keep it in memory or re-training it. The actual `.h5` files you create are not relevant to your ping-pong submission."
   ]
  },
  {
   "cell_type": "code",
   "execution_count": 34,
   "metadata": {},
   "outputs": [],
   "source": [
    "modelC.save('modelC.h5')"
   ]
  },
  {
   "cell_type": "markdown",
   "metadata": {
    "deletable": false,
    "editable": false,
    "nbgrader": {
     "checksum": "f560cd87a745d9931d137a0224adb847",
     "grade": false,
     "grade_id": "cell-25f9cc8d17491d0d",
     "locked": true,
     "schema_version": 1,
     "solution": false
    }
   },
   "source": [
    "---\n",
    "## 5. Transfer Learning"
   ]
  },
  {
   "cell_type": "markdown",
   "metadata": {
    "deletable": false,
    "editable": false,
    "nbgrader": {
     "checksum": "2f9adb5c8ce6970840bc5d256e74ca69",
     "grade": false,
     "grade_id": "cell-cf9b347fc3ee9255",
     "locked": true,
     "schema_version": 1,
     "solution": false
    }
   },
   "source": [
    "Now, instead of trying to come up with a good architecture for this task, we'll use the VGG16 architecture, but with the top layers removed (the fully connected + classification layers). We'll substitute them with a single fully connected layer, and a classification layer that makes sense for our problem.\n",
    "\n",
    "However, this model has a very high capacity, and will probably suffer a lot from overfitting if we try to train it from scratch, using only our small subset of data. Instead, we'll start the optimization with the weights obtained after training VGG16 on the ImageNet dataset.\n",
    "\n",
    "Start by loading the VGG16 model without the top layers, from the `applications` submodule from Keras. Make sure to also load the weights obtained from the ImageNet pretraining."
   ]
  },
  {
   "cell_type": "code",
   "execution_count": 4,
   "metadata": {
    "deletable": false,
    "nbgrader": {
     "checksum": "984428d972274a469334141d07c8666a",
     "grade": true,
     "grade_id": "cell-01ebc4c9c306b985",
     "locked": false,
     "points": 0,
     "schema_version": 1,
     "solution": true
    }
   },
   "outputs": [],
   "source": [
    "vgg_model = VGG16(weights='imagenet', include_top=False, input_shape=image_shape)\n"
   ]
  },
  {
   "cell_type": "markdown",
   "metadata": {
    "deletable": false,
    "editable": false,
    "nbgrader": {
     "checksum": "ee2e7869aeb45bf734d52c7559ab6cb6",
     "grade": false,
     "grade_id": "cell-faed8047ef25a60d",
     "locked": true,
     "schema_version": 1,
     "solution": false
    }
   },
   "source": [
    "Create a new model with the layers you want to add on top of VGG. The kernels and bias in these layers should be initialized randomly."
   ]
  },
  {
   "cell_type": "code",
   "execution_count": 5,
   "metadata": {
    "deletable": false,
    "nbgrader": {
     "checksum": "a22c7aa185d3eca27d8722755b0a41a1",
     "grade": true,
     "grade_id": "cell-56cb37360051a638",
     "locked": false,
     "points": 1,
     "schema_version": 1,
     "solution": true
    }
   },
   "outputs": [],
   "source": [
    "x = Flatten()(vgg_model.output)\n",
    "x = Dense(512, activation='relu', kernel_initializer='random_uniform', bias_initializer='random_uniform')(x)\n",
    "predictions = Dense(1, activation = 'sigmoid')(x)"
   ]
  },
  {
   "cell_type": "markdown",
   "metadata": {
    "deletable": false,
    "editable": false,
    "nbgrader": {
     "checksum": "ff49bf63789cfb3023f59b7ff1de074b",
     "grade": false,
     "grade_id": "cell-d746f9eb61e3ea44",
     "locked": true,
     "schema_version": 1,
     "solution": false
    }
   },
   "source": [
    "Now add the new model on top of VGG.\n",
    "\n",
    "Tip:\n",
    "- The VGG model you loaded from the `applications` submodule is from the [`Model`](https://keras.io/models/model/) class, not the `Sequential` class, so it doesn't have some methods you're used to (like `add`, for instance). It might be helpful to read [this introduction to the Model class](https://keras.io/getting-started/functional-api-guide/)."
   ]
  },
  {
   "cell_type": "code",
   "execution_count": 6,
   "metadata": {
    "deletable": false,
    "nbgrader": {
     "checksum": "642f3cbea497868385adff16643091c4",
     "grade": true,
     "grade_id": "cell-76e4aad7fbcf5d05",
     "locked": false,
     "points": 0,
     "schema_version": 1,
     "solution": true
    }
   },
   "outputs": [
    {
     "name": "stderr",
     "output_type": "stream",
     "text": [
      "/home/student/anaconda3/envs/dml_gpu/lib/python3.6/site-packages/ipykernel_launcher.py:1: UserWarning: Update your `Model` call to the Keras 2 API: `Model(inputs=Tensor(\"in..., outputs=Tensor(\"de...)`\n",
      "  \"\"\"Entry point for launching an IPython kernel.\n"
     ]
    }
   ],
   "source": [
    "transfer_model = Model(input=vgg_model.input, output=predictions)"
   ]
  },
  {
   "cell_type": "markdown",
   "metadata": {
    "deletable": false,
    "editable": false,
    "nbgrader": {
     "checksum": "e80006261cee156aafe6aac9408f2678",
     "grade": false,
     "grade_id": "cell-f76d1a7f6280af0d",
     "locked": true,
     "schema_version": 1,
     "solution": false
    }
   },
   "source": [
    "### 5.1 Using VGG features"
   ]
  },
  {
   "cell_type": "markdown",
   "metadata": {
    "deletable": false,
    "editable": false,
    "nbgrader": {
     "checksum": "2b12c99269787356513640faa3528233",
     "grade": false,
     "grade_id": "cell-270f8ec140ddfba3",
     "locked": true,
     "schema_version": 1,
     "solution": false
    }
   },
   "source": [
    "Now we're almost ready to train the new model. However, since the top layers of this architecture are being initialized randomly, it's sometimes possible for them to generate large gradients that can wreck the pretraining of the bottom layers. To avoid this, freeze all the VGG layers in your architecture (i.e. signal to the optimizer that these should not be changed during optimization) by setting the `trainable` attribute of them to `False`."
   ]
  },
  {
   "cell_type": "code",
   "execution_count": 7,
   "metadata": {
    "deletable": false,
    "nbgrader": {
     "checksum": "072f414eabdbed6bd1f0baa8e855e48f",
     "grade": true,
     "grade_id": "cell-bfb58ea46c31df0a",
     "locked": false,
     "points": 0,
     "schema_version": 1,
     "solution": true
    }
   },
   "outputs": [],
   "source": [
    "for layer in vgg_model.layers:\n",
    "    layer.trainable = False"
   ]
  },
  {
   "cell_type": "markdown",
   "metadata": {
    "deletable": false,
    "editable": false,
    "nbgrader": {
     "checksum": "669e85a9b10286b41f6b40837f009d45",
     "grade": false,
     "grade_id": "cell-b508ede3d760a86b",
     "locked": true,
     "schema_version": 1,
     "solution": false
    }
   },
   "source": [
    "Create the callbacks (if any) you would like to use, compile the model and train it."
   ]
  },
  {
   "cell_type": "code",
   "execution_count": 8,
   "metadata": {
    "deletable": false,
    "nbgrader": {
     "checksum": "9c8cccd2e638d17af85d50f45cb05ee3",
     "grade": true,
     "grade_id": "cell-5a025e60545ca151",
     "locked": false,
     "points": 1,
     "schema_version": 1,
     "solution": true
    }
   },
   "outputs": [
    {
     "name": "stdout",
     "output_type": "stream",
     "text": [
      "Epoch 1/20\n",
      "110/110 [==============================] - 32s 293ms/step - loss: 0.5731 - acc: 0.8022 - val_loss: 0.3239 - val_acc: 0.8587\n",
      "Epoch 2/20\n",
      "110/110 [==============================] - 16s 143ms/step - loss: 0.2339 - acc: 0.9009 - val_loss: 0.4603 - val_acc: 0.7927\n",
      "Epoch 3/20\n",
      "110/110 [==============================] - 16s 143ms/step - loss: 0.1664 - acc: 0.9349 - val_loss: 0.4656 - val_acc: 0.7967\n",
      "Epoch 4/20\n",
      "109/110 [============================>.] - ETA: 0s - loss: 0.1414 - acc: 0.9447Epoch 4/20\n",
      "110/110 [==============================] - 16s 144ms/step - loss: 0.1409 - acc: 0.9449 - val_loss: 0.3508 - val_acc: 0.8593\n",
      "Epoch 5/20\n",
      "109/110 [============================>.] - ETA: 0s - loss: 0.0997 - acc: 0.9633Epoch 5/20\n",
      "110/110 [==============================] - 16s 142ms/step - loss: 0.0993 - acc: 0.9634 - val_loss: 0.4067 - val_acc: 0.8427\n",
      "Epoch 6/20\n",
      "110/110 [==============================] - 16s 143ms/step - loss: 0.0583 - acc: 0.9827 - val_loss: 0.3820 - val_acc: 0.8647\n",
      "Epoch 7/20\n",
      "110/110 [==============================] - 16s 144ms/step - loss: 0.0341 - acc: 0.9937 - val_loss: 0.3908 - val_acc: 0.8633\n",
      "Epoch 8/20\n",
      "\n",
      "110/110 [==============================] - 16s 143ms/step - loss: 0.0212 - acc: 0.9983 - val_loss: 0.4094 - val_acc: 0.8753\n",
      "Epoch 9/20\n",
      "Epoch 8/20\n",
      "109/110 [============================>.] - ETA: 0s - loss: 0.0358 - acc: 0.9924Epoch 9/20\n",
      "110/110 [==============================] - 16s 143ms/step - loss: 0.0358 - acc: 0.9924 - val_loss: 0.4715 - val_acc: 0.8720\n",
      "Epoch 10/20\n",
      "110/110 [==============================] - 16s 144ms/step - loss: 0.0111 - acc: 0.9997 - val_loss: 0.4688 - val_acc: 0.8760\n",
      "Epoch 11/20\n",
      "\n",
      "110/110 [==============================] - 16s 143ms/step - loss: 0.0050 - acc: 1.0000 - val_loss: 0.4845 - val_acc: 0.8707\n",
      "Epoch 11/20\n",
      "Epoch 12/20\n",
      "109/110 [============================>.] - ETA: 0s - loss: 0.0032 - acc: 1.0000Epoch 12/20\n",
      "110/110 [==============================] - 16s 143ms/step - loss: 0.0032 - acc: 1.0000 - val_loss: 0.5000 - val_acc: 0.8740\n",
      "Epoch 13/20\n",
      "110/110 [==============================] - 16s 144ms/step - loss: 0.0023 - acc: 1.0000 - val_loss: 0.5167 - val_acc: 0.8767\n",
      "Epoch 14/20\n",
      "Epoch 13/20\n",
      "110/110 [==============================] - 16s 143ms/step - loss: 0.0020 - acc: 1.0000 - val_loss: 0.5221 - val_acc: 0.8760\n",
      "Epoch 15/20\n",
      "Epoch 14/20\n",
      "110/110 [==============================] - 16s 144ms/step - loss: 0.0016 - acc: 1.0000 - val_loss: 0.5290 - val_acc: 0.8687\n",
      "Epoch 15/20\n",
      "Epoch 16/20\n",
      "109/110 [============================>.] - ETA: 0s - loss: 0.0014 - acc: 1.0000Epoch 16/20\n",
      "110/110 [==============================] - 16s 143ms/step - loss: 0.0014 - acc: 1.0000 - val_loss: 0.5411 - val_acc: 0.8767\n",
      "Epoch 17/20\n",
      "109/110 [============================>.] - ETA: 0s - loss: 0.0012 - acc: 1.0000Epoch 17/20\n",
      "110/110 [==============================] - 16s 144ms/step - loss: 0.0012 - acc: 1.0000 - val_loss: 0.5459 - val_acc: 0.8767\n",
      "\bEpoch 18/20\n",
      "110/110 [==============================] - 16s 142ms/step - loss: 0.0010 - acc: 1.0000 - val_loss: 0.5503 - val_acc: 0.8727\n",
      "Epoch 19/20\n",
      "Epoch 18/20\n",
      "109/110 [============================>.] - ETA: 0s - loss: 8.6832e-04 - acc: 1.0000Epoch 19/20\n",
      "110/110 [==============================] - 16s 144ms/step - loss: 8.7085e-04 - acc: 1.0000 - val_loss: 0.5567 - val_acc: 0.8733\n",
      "Epoch 20/20\n",
      "110/110 [==============================] - 16s 144ms/step - loss: 7.9153e-04 - acc: 1.0000 - val_loss: 0.5698 - val_acc: 0.8767\n",
      "Epoch 20/20\n"
     ]
    }
   ],
   "source": [
    "transfer_model.compile(loss='binary_crossentropy', optimizer='adam', metrics=['accuracy'])\n",
    "hist_transfer_model = transfer_model.fit_generator(train_generator,\n",
    "                                                   validation_data=val_generator,\n",
    "                                                   epochs=20,\n",
    "                                                   use_multiprocessing=True,\n",
    "                                                   workers=4)"
   ]
  },
  {
   "cell_type": "markdown",
   "metadata": {
    "deletable": false,
    "editable": false,
    "nbgrader": {
     "checksum": "f4045831d222640d7baf44a285c3de97",
     "grade": false,
     "grade_id": "cell-ad79e1aa5c4a6185",
     "locked": true,
     "schema_version": 1,
     "solution": false
    }
   },
   "source": [
    "Create one figure with two axes. In one of them, plot the loss in the training and the validation datasets. In the other one, plot the accuracy in the training and validation datasets."
   ]
  },
  {
   "cell_type": "code",
   "execution_count": 12,
   "metadata": {
    "deletable": false,
    "nbgrader": {
     "checksum": "99986b7bbdfb6b78c25112751969d11f",
     "grade": true,
     "grade_id": "cell-f17c882b2a09dee7",
     "locked": false,
     "points": 0,
     "schema_version": 1,
     "solution": true
    }
   },
   "outputs": [
    {
     "data": {
      "image/png": "[encoded data removed]",
      "text/plain": [
       "<Figure size 1296x360 with 2 Axes>"
      ]
     },
     "metadata": {},
     "output_type": "display_data"
    }
   ],
   "source": [
    "# Get the history dict and set figure size\n",
    "history = hist_transfer_model.history\n",
    "fig = plt.figure(figsize=(18,5))\n",
    "\n",
    "# Plotting the loss\n",
    "plt.subplot(1,2,1)\n",
    "plt.plot(history['loss'])\n",
    "plt.plot(history['val_loss'])\n",
    "plt.title('Loss (transfer model)')\n",
    "plt.ylabel('Loss')\n",
    "plt.xlabel('Epoch')\n",
    "plt.legend(['Train', 'Validation'])\n",
    "\n",
    "# Plotting the accuracy\n",
    "plt.subplot(1,2,2)\n",
    "plt.plot(history['acc'])\n",
    "plt.plot(history['val_acc'])\n",
    "plt.title('Accuracy (transfer model)')\n",
    "plt.ylabel('Accuracy')\n",
    "plt.xlabel('Epoch')\n",
    "plt.legend(['Train', 'Validation'])\n",
    "\n",
    "# Show the plots\n",
    "plt.show()"
   ]
  },
  {
   "cell_type": "markdown",
   "metadata": {
    "deletable": false,
    "editable": false,
    "nbgrader": {
     "checksum": "7e3c0eb41e650ec3e30733ab5ea488d1",
     "grade": false,
     "grade_id": "cell-779d477ffe1ebbf6",
     "locked": true,
     "schema_version": 1,
     "solution": false
    }
   },
   "source": [
    "How does the model perform, compared to the model obtained in step 4? Create one plot with the training accuracy and another with the validation accuracy of the two scenarios."
   ]
  },
  {
   "cell_type": "code",
   "execution_count": 36,
   "metadata": {
    "deletable": false,
    "nbgrader": {
     "checksum": "873c045fa2e6f22815a90194ed2785f3",
     "grade": true,
     "grade_id": "cell-e3e3990ba39bea67",
     "locked": false,
     "points": 0,
     "schema_version": 1,
     "solution": true
    }
   },
   "outputs": [
    {
     "data": {
      "image/png": "[encoded data removed]",
      "text/plain": [
       "<Figure size 1296x360 with 2 Axes>"
      ]
     },
     "metadata": {},
     "output_type": "display_data"
    }
   ],
   "source": [
    "# Get the history dicts and set figure size\n",
    "history1 = hist_modelC.history\n",
    "history2 = hist_transfer_model.history\n",
    "fig = plt.figure(figsize=(18,5))\n",
    "\n",
    "# Plotting the training accuracy\n",
    "plt.subplot(1,2,1)\n",
    "plt.plot(history1['acc'])\n",
    "plt.plot(history2['acc'])\n",
    "plt.title('Training accuracy comparison')\n",
    "plt.ylabel('Accuracy')\n",
    "plt.xlabel('Epoch')\n",
    "plt.legend(['Model C', 'Transfer_Top_Only'])\n",
    "\n",
    "# Plotting the validation accuracy\n",
    "plt.subplot(1,2,2)\n",
    "plt.plot(history1['val_acc'])\n",
    "plt.plot(history2['val_acc'])\n",
    "plt.title('Validation accuracy comparison')\n",
    "plt.ylabel('Accuracy')\n",
    "plt.xlabel('Epoch')\n",
    "plt.legend(['Model C', 'Transfer_Top_Only'])\n",
    "\n",
    "# Show the plots\n",
    "plt.show()"
   ]
  },
  {
   "cell_type": "markdown",
   "metadata": {
    "deletable": false,
    "editable": false,
    "nbgrader": {
     "checksum": "49a22cb7fa7d4bc6335f5185d419101e",
     "grade": false,
     "grade_id": "cell-b84dd461d5ddcc8d",
     "locked": true,
     "schema_version": 1,
     "solution": false
    }
   },
   "source": [
    "Compare these results. Which approach worked best, starting from scratch or doing transfer learning? Explain how you evaluated this."
   ]
  },
  {
   "cell_type": "markdown",
   "metadata": {
    "deletable": false,
    "nbgrader": {
     "checksum": "58110ed91d1dc2020287d64755fafddd",
     "grade": true,
     "grade_id": "cell-f9e1a6a643946cd2",
     "locked": false,
     "points": 0.25,
     "schema_version": 1,
     "solution": true
    }
   },
   "source": [
    "**Your answer:** Transfer learning clearly works better than starting from scratch. From the plots above, both the training accuracy and the validation accuracy are higher in transfer learning than in model C. Not only are the results better, but we also save a lot of time, since the effort spent on transfer learning is way less. Starting from scratch is hard, because we need a lot of time and expertise to find a good architecture. We also have to fine tune the model with the right hyper-parameters. On the other hand, we have don't have to do so much work in transfer learning, especially in this step where we only need to train the top layers, and our results are already much better than training from scratch."
   ]
  },
  {
   "cell_type": "markdown",
   "metadata": {
    "deletable": false,
    "editable": false,
    "nbgrader": {
     "checksum": "f1d1fd0b9a00091e75a5bd0eaa19a8bf",
     "grade": false,
     "grade_id": "cell-c8afb448c67da5f8",
     "locked": true,
     "schema_version": 1,
     "solution": false
    }
   },
   "source": [
    "What are the main differences between the ImageNet dataset and the Dogs vs Cats dataset we used?"
   ]
  },
  {
   "cell_type": "markdown",
   "metadata": {
    "deletable": false,
    "nbgrader": {
     "checksum": "36cc539d06e12eba46249e29640ce6a1",
     "grade": true,
     "grade_id": "cell-2be321b63232ae01",
     "locked": false,
     "points": 0.25,
     "schema_version": 1,
     "solution": true
    }
   },
   "source": [
    "**Your answer:**  Difference is that ImageNet dataset is a multi-class dataset with many more categories, and way more training data (maybe not per class, but in general). Thus the images on ImageNet is way more diverse, and doesn't really target Dogs and Cats in particular."
   ]
  },
  {
   "cell_type": "markdown",
   "metadata": {
    "deletable": false,
    "editable": false,
    "nbgrader": {
     "checksum": "1c0b0eae153b6076ca628a773203df42",
     "grade": false,
     "grade_id": "cell-71a8b8de004f6e57",
     "locked": true,
     "schema_version": 1,
     "solution": false
    }
   },
   "source": [
    "Even though there are considerable differences between these datasets, why is it that transfer learning is still a good idea?"
   ]
  },
  {
   "cell_type": "markdown",
   "metadata": {
    "deletable": false,
    "nbgrader": {
     "checksum": "7a990cd4099df100c9dc733bee0db608",
     "grade": true,
     "grade_id": "cell-655d00face15a862",
     "locked": false,
     "points": 0.25,
     "schema_version": 1,
     "solution": true
    }
   },
   "source": [
    "**Your answer:** There are a lot of images on ImageNet that are related to dogs and cats or just animals in general. Hence, when VGG was trained on the ImageNet, the neural network has already picked up a lot of features that allow us to differentiate between cats and dogs. So the weights that were learned from VGG can then be transfered to classifying images that we have in this assignment. Of course, since the images are not identical, we cannot simply use the weights in VGG, but we have to re-train it a little bit (especially with the top layers). But the re-training is much quicker than training everything from scratch."
   ]
  },
  {
   "cell_type": "markdown",
   "metadata": {
    "deletable": false,
    "editable": false,
    "nbgrader": {
     "checksum": "2d9425a067d87ef11d206088e82bb3c7",
     "grade": false,
     "grade_id": "cell-19785940b9624d2c",
     "locked": true,
     "schema_version": 1,
     "solution": false
    }
   },
   "source": [
    "In which scenario would transfer learning be unsuitable?"
   ]
  },
  {
   "cell_type": "markdown",
   "metadata": {
    "deletable": false,
    "nbgrader": {
     "checksum": "8ab35c98ddf1c98635eb188a197fd885",
     "grade": true,
     "grade_id": "cell-e79df7472ff5506a",
     "locked": false,
     "points": 0.25,
     "schema_version": 1,
     "solution": true
    }
   },
   "source": [
    "**Your answer:** Transfer learning is unsuitable when the 2 datasets are vastly different in every way. For example, models that learn from images of cars shouldn't be used to learn a model that aims to differentiate between dogs and cats. This is because cars images are vastly different from animals images."
   ]
  },
  {
   "cell_type": "markdown",
   "metadata": {
    "deletable": false,
    "editable": false,
    "nbgrader": {
     "checksum": "bbea73c6a2825f9b3e730907ba3ae71f",
     "grade": false,
     "grade_id": "cell-111f2b1d28919293",
     "locked": true,
     "schema_version": 1,
     "solution": false
    }
   },
   "source": [
    "Save the model to a HDF5 file."
   ]
  },
  {
   "cell_type": "code",
   "execution_count": 1,
   "metadata": {},
   "outputs": [],
   "source": [
    "transfer_model.save('trans_learning_top_only.h5')"
   ]
  },
  {
   "cell_type": "markdown",
   "metadata": {
    "deletable": false,
    "editable": false,
    "nbgrader": {
     "checksum": "8b8007704893660e8abc0c87b9028923",
     "grade": false,
     "grade_id": "cell-544a73726bebe121",
     "locked": true,
     "schema_version": 1,
     "solution": false
    }
   },
   "source": [
    "### 5.2 Fine-tuning"
   ]
  },
  {
   "cell_type": "markdown",
   "metadata": {
    "deletable": false,
    "editable": false,
    "nbgrader": {
     "checksum": "6b5a44cfe68ff124f447339454f4f3ee",
     "grade": false,
     "grade_id": "cell-1ee9ebc87fd3358e",
     "locked": true,
     "schema_version": 1,
     "solution": false
    }
   },
   "source": [
    "Now that we have a better starting point for the top layers, we can train the entire network. Unfreeze the bottom layers.\n",
    "\n",
    "Tip:\n",
    "- Always recompile your model after changing anything in it!"
   ]
  },
  {
   "cell_type": "code",
   "execution_count": 17,
   "metadata": {
    "deletable": false,
    "nbgrader": {
     "checksum": "412d6cf989068c151bd4b3f4085e7194",
     "grade": true,
     "grade_id": "cell-3918c2cdd9817f7e",
     "locked": false,
     "points": 0,
     "schema_version": 1,
     "solution": true
    }
   },
   "outputs": [],
   "source": [
    "model = load_model('trans_learning_top_only.h5')\n",
    "for layer in model.layers:\n",
    "    layer.trainable = True\n",
    "model.compile(optimizer= adam(lr= 1e-5), loss='binary_crossentropy', metrics=['accuracy'])    "
   ]
  },
  {
   "cell_type": "markdown",
   "metadata": {
    "deletable": false,
    "editable": false,
    "nbgrader": {
     "checksum": "ff2a177a54d2f9830995848f8de425b8",
     "grade": false,
     "grade_id": "cell-80fa8c89f1b262f1",
     "locked": true,
     "schema_version": 1,
     "solution": false
    }
   },
   "source": [
    "Create the callbacks (if any) you would like to use for this training here, compile the model, and train it.\n",
    "\n",
    "Tip:\n",
    "- Even though we do have a decent starting point for the optimization, it's still possible that a bad hyper-parameter choice wrecks the preinitialization. Make sure to use a small learning rate for this step."
   ]
  },
  {
   "cell_type": "code",
   "execution_count": 18,
   "metadata": {
    "deletable": false,
    "nbgrader": {
     "checksum": "6814e17803f83868b0fd75d82f421ec3",
     "grade": true,
     "grade_id": "cell-594c6039216461e5",
     "locked": false,
     "points": 1,
     "schema_version": 1,
     "solution": true
    }
   },
   "outputs": [
    {
     "name": "stdout",
     "output_type": "stream",
     "text": [
      "Epoch 1/10\n",
      "110/110 [==============================] - 43s 394ms/step - loss: 0.0146 - acc: 0.9952 - val_loss: 0.5620 - val_acc: 0.8713\n",
      "Epoch 2/10\n",
      "110/110 [==============================] - 37s 341ms/step - loss: 0.0187 - acc: 0.9932 - val_loss: 0.5414 - val_acc: 0.8860\n",
      "Epoch 3/10\n",
      "110/110 [==============================] - 37s 341ms/step - loss: 0.0625 - acc: 0.9770 - val_loss: 0.4525 - val_acc: 0.8993\n",
      "Epoch 4/10\n",
      "Epoch 3/10\n",
      "110/110 [==============================] - 37s 339ms/step - loss: 0.0076 - acc: 0.9977 - val_loss: 0.4765 - val_acc: 0.8940\n",
      "Epoch 4/10\n",
      "Epoch 5/10\n",
      "110/110 [==============================] - 37s 341ms/step - loss: 7.4315e-04 - acc: 1.0000 - val_loss: 0.4579 - val_acc: 0.8987\n",
      "Epoch 5/10\n",
      "Epoch 6/10\n",
      "110/110 [==============================] - 37s 340ms/step - loss: 2.4997e-04 - acc: 1.0000 - val_loss: 0.4573 - val_acc: 0.9027\n",
      "Epoch 7/10\n",
      "Epoch 6/10\n",
      "110/110 [==============================] - 37s 340ms/step - loss: 1.8897e-04 - acc: 1.0000 - val_loss: 0.4601 - val_acc: 0.9013\n",
      "Epoch 8/10\n",
      "110/110 [==============================] - 37s 339ms/step - loss: 1.5426e-04 - acc: 1.0000 - val_loss: 0.4623 - val_acc: 0.9027\n",
      "Epoch 8/10\n",
      "Epoch 9/10\n",
      "110/110 [==============================] - 37s 340ms/step - loss: 1.2656e-04 - acc: 1.0000 - val_loss: 0.4640 - val_acc: 0.9040\n",
      "Epoch 10/10\n",
      "Epoch 9/10\n",
      "110/110 [==============================] - 37s 339ms/step - loss: 1.0888e-04 - acc: 1.0000 - val_loss: 0.4658 - val_acc: 0.9053\n"
     ]
    }
   ],
   "source": [
    "hist_fine_transfer_model = model.fit_generator(train_generator,\n",
    "        epochs=10,\n",
    "        validation_data=val_generator,\n",
    "        use_multiprocessing=True,\n",
    "        workers=4) "
   ]
  },
  {
   "cell_type": "markdown",
   "metadata": {
    "deletable": false,
    "editable": false,
    "nbgrader": {
     "checksum": "653d29a729772d9cb73bfbe24fc76065",
     "grade": false,
     "grade_id": "cell-5dc3e388a41da3ed",
     "locked": true,
     "schema_version": 1,
     "solution": false
    }
   },
   "source": [
    "How does the model perform, compared to the model trained with freezed layers? Create one plot with the training accuracy and another with the validation accuracy of the two scenarios."
   ]
  },
  {
   "cell_type": "code",
   "execution_count": 30,
   "metadata": {
    "deletable": false,
    "nbgrader": {
     "checksum": "b7b2e69e2ffc7f5bff07ba62225b4cee",
     "grade": true,
     "grade_id": "cell-7edb12ee397ec817",
     "locked": false,
     "points": 0,
     "schema_version": 1,
     "solution": true
    }
   },
   "outputs": [
    {
     "data": {
      "image/png": "[encoded data removed]",
      "text/plain": [
       "<Figure size 1296x360 with 2 Axes>"
      ]
     },
     "metadata": {},
     "output_type": "display_data"
    }
   ],
   "source": [
    "# Get the history dicts and set figure size\n",
    "history1 = hist_transfer_model.history\n",
    "history2 = hist_fine_transfer_model.history\n",
    "fig = plt.figure(figsize=(18,5))\n",
    "\n",
    "# Plotting the training accuracy\n",
    "plt.subplot(1,2,1)\n",
    "plt.plot(history1['acc'])\n",
    "plt.plot(history2['acc'])\n",
    "plt.title('Training accuracy comparison')\n",
    "plt.ylabel('Accuracy')\n",
    "plt.xlabel('Epoch')\n",
    "plt.legend(['Transfer_Top_Only', 'Transfer_Fine_Tune'])\n",
    "\n",
    "# Plotting the validation accuracy\n",
    "plt.subplot(1,2,2)\n",
    "plt.plot(history1['val_acc'])\n",
    "plt.plot(history2['val_acc'])\n",
    "plt.title('Validation accuracy comparison')\n",
    "plt.ylabel('Accuracy')\n",
    "plt.xlabel('Epoch')\n",
    "plt.legend(['Transfer_Top_Only', 'Transfer_Fine_Tune'])\n",
    "\n",
    "# Show the plots\n",
    "plt.show()"
   ]
  },
  {
   "cell_type": "markdown",
   "metadata": {
    "deletable": false,
    "editable": false,
    "nbgrader": {
     "checksum": "c14cf7017869bbc745425dc4c9d4a7a9",
     "grade": false,
     "grade_id": "cell-5dae528a81d5ff24",
     "locked": true,
     "schema_version": 1,
     "solution": false
    }
   },
   "source": [
    "Did the model's performance improve? Why (why not)?"
   ]
  },
  {
   "cell_type": "markdown",
   "metadata": {
    "deletable": false,
    "nbgrader": {
     "checksum": "69dfca588131944b0e9825a1532de432",
     "grade": true,
     "grade_id": "cell-0f4a5edca490320e",
     "locked": false,
     "points": 1,
     "schema_version": 1,
     "solution": true
    }
   },
   "source": [
    "**Your answer:** Yes the performance improves by quite a lot, especially in the validation set. In transfer-top-only model, we have only fine-tuned the top layers architecture of the network, but the weights of all the bottom layers were frozen. However, in the transfer-fine-tune model, we allow the network to optimize the weights in the bottom layers too, thus allowing the network to pick up features that target specifically our dogs-cats dataset, while removing away features that are not neccessary"
   ]
  },
  {
   "cell_type": "markdown",
   "metadata": {
    "deletable": false,
    "editable": false,
    "nbgrader": {
     "checksum": "b4d50b78d6ec765ce5b0f627873fa5e3",
     "grade": false,
     "grade_id": "cell-4ed3967e4f6c5f7f",
     "locked": true,
     "schema_version": 1,
     "solution": false
    }
   },
   "source": [
    "Save the model to a HDF5 file."
   ]
  },
  {
   "cell_type": "code",
   "execution_count": 37,
   "metadata": {},
   "outputs": [],
   "source": [
    "model.save('trans_learning_full.h5')"
   ]
  },
  {
   "cell_type": "markdown",
   "metadata": {
    "deletable": false,
    "editable": false,
    "nbgrader": {
     "checksum": "512bd4321118a59c1774035ffde4470d",
     "grade": false,
     "grade_id": "cell-56908ee1e60aa411",
     "locked": true,
     "schema_version": 1,
     "solution": false
    }
   },
   "source": [
    "### 5.3 Improving the top model (optional)"
   ]
  },
  {
   "cell_type": "markdown",
   "metadata": {
    "deletable": false,
    "editable": false,
    "nbgrader": {
     "checksum": "a63ad0cdc8ae853a3b9b6ebd16904186",
     "grade": false,
     "grade_id": "cell-3c8d8e5ab949ee35",
     "locked": true,
     "schema_version": 1,
     "solution": false
    }
   },
   "source": [
    "Improve the architecture for the layers you add on top of VGG16. Try different ideas, and consider comparing them using tensorboard. When you're happy with one architecture, copy it in the cell below and train it here."
   ]
  },
  {
   "cell_type": "code",
   "execution_count": 2,
   "metadata": {
    "deletable": false,
    "nbgrader": {
     "checksum": "8e78037ef98c08769cd8104d7541cb51",
     "grade": true,
     "grade_id": "cell-22d09c8401d84b61",
     "locked": false,
     "points": 1,
     "schema_version": 1,
     "solution": true
    }
   },
   "outputs": [],
   "source": [
    "vgg_model = VGG16(weights='imagenet', include_top=False, input_shape=image_shape)\n",
    "x = Dense(1024, activation='relu',\n",
    "          kernel_initializer='random_uniform', \n",
    "          bias_initializer='random_uniform')(vgg_model.output)\n",
    "x = BatchNormalization()(x)\n",
    "x = Dropout(0.5)(x)\n",
    "x = Dense(512, activation='relu')(x)\n",
    "x = BatchNormalization()(x)\n",
    "x = Dropout(0.5)(x)\n",
    "predictions = Dense(1, activation = 'sigmoid')(x)\n",
    "\n",
    "# First pass to train top layers only (bottom layers are frozen)\n",
    "model = Model(input=vgg_model.input, output=predictions)\n",
    "for layer in vgg_model.layers:\n",
    "    layer.trainable = False\n",
    "model.compile(loss='binary_crossentropy', optimizer='adam', metrics=['accuracy'])\n",
    "model.fit_generator(train_generator,\n",
    "                             validation_data=val_generator,\n",
    "                             epochs=20,\n",
    "                             use_multiprocessing=True,\n",
    "                             workers=4)\n",
    "\n",
    "# Second pass to train all the layers\n",
    "for layer in model.layers:\n",
    "    layer.trainable = True\n",
    "model.compile(optimizer=adam(lr= 1e-5), loss='binary_crossentropy', metrics=['accuracy'])\n",
    "model.fit_generator(train_generator,\n",
    "        epochs=15,\n",
    "        validation_data=val_generator,\n",
    "        use_multiprocessing=True,\n",
    "        workers=4)   "
   ]
  },
  {
   "cell_type": "markdown",
   "metadata": {
    "deletable": false,
    "editable": false,
    "nbgrader": {
     "checksum": "d040142833a356a7174729a7a8aadb1c",
     "grade": false,
     "grade_id": "cell-48933baad6c5afeb",
     "locked": true,
     "schema_version": 1,
     "solution": false
    }
   },
   "source": [
    "How does the model perform, compared to the model trained in step 5.2? Create one plot with the training accuracy and another with the validation accuracy of the two scenarios."
   ]
  },
  {
   "cell_type": "code",
   "execution_count": null,
   "metadata": {
    "deletable": false,
    "nbgrader": {
     "checksum": "0bac4e10ca36850170af565096710d1c",
     "grade": true,
     "grade_id": "cell-7cb62a04916a848e",
     "locked": false,
     "points": 0,
     "schema_version": 1,
     "solution": true
    }
   },
   "outputs": [],
   "source": [
    "# We have run the code above before and got around 94 percent accuracy on the validation set.\n",
    "# However, we accidently click re-run the above cell, which makes all the output disappear.\n",
    "# And since it takes quite a bit of time to run the above code, we did not have time on the cloud to rerun it again."
   ]
  },
  {
   "cell_type": "markdown",
   "metadata": {
    "deletable": false,
    "editable": false,
    "nbgrader": {
     "checksum": "729c848775b6b7c20775151cffe38bfa",
     "grade": false,
     "grade_id": "cell-8bbfa3e11e2dfff9",
     "locked": true,
     "schema_version": 1,
     "solution": false
    }
   },
   "source": [
    "Save the model to a HDF5 file."
   ]
  },
  {
   "cell_type": "code",
   "execution_count": null,
   "metadata": {},
   "outputs": [],
   "source": [
    "model.save('best_trans_learning.h5')"
   ]
  },
  {
   "cell_type": "markdown",
   "metadata": {
    "deletable": false,
    "editable": false,
    "nbgrader": {
     "checksum": "4b192e3a46581dd6f57326ddb21ee49c",
     "grade": false,
     "grade_id": "cell-ad0efbac33de5a65",
     "locked": true,
     "schema_version": 1,
     "solution": false
    }
   },
   "source": [
    "## 6. Final training"
   ]
  },
  {
   "cell_type": "markdown",
   "metadata": {
    "deletable": false,
    "editable": false,
    "nbgrader": {
     "checksum": "6e460754d2c0f05f0e79ae982a3fe3d3",
     "grade": false,
     "grade_id": "cell-cf811afdac96843b",
     "locked": true,
     "schema_version": 1,
     "solution": false
    }
   },
   "source": [
    "Now we'll train the model that achieved the best performance so far using the entire dataset.\n",
    "\n",
    "**Note**: start the optimization with the weights you obtained training in the smaller subset, i.e. *not* from scratch."
   ]
  },
  {
   "cell_type": "markdown",
   "metadata": {
    "deletable": false,
    "editable": false,
    "nbgrader": {
     "checksum": "10fada090ba96eae198313ce7e9f1e22",
     "grade": false,
     "grade_id": "cell-3ae2a65188e4ac74",
     "locked": true,
     "schema_version": 1,
     "solution": false
    }
   },
   "source": [
    "First, create two new data generators, one for training samples and one for validation samples. This time, they'll load data from the folders for the entire dataset."
   ]
  },
  {
   "cell_type": "code",
   "execution_count": 8,
   "metadata": {
    "deletable": false,
    "nbgrader": {
     "checksum": "62bfd99d9d34913ada18493c74745706",
     "grade": true,
     "grade_id": "cell-64eaa83780f5eac9",
     "locked": false,
     "points": 0,
     "schema_version": 1,
     "solution": true
    }
   },
   "outputs": [
    {
     "name": "stdout",
     "output_type": "stream",
     "text": [
      "Found 20000 images belonging to 2 classes.\n",
      "Found 5000 images belonging to 2 classes.\n"
     ]
    }
   ],
   "source": [
    "model = load_model('trans_learning_full.h5')\n",
    "\n",
    "os.chdir(home_path)\n",
    "train_path = home_path + '/data/train'\n",
    "val_path = home_path + '/data/val'\n",
    "\n",
    "train_datagen = ImageDataGenerator(rescale=1./255)\n",
    "val_datagen = ImageDataGenerator(rescale=1./255)\n",
    "image_shape = (128, 128, 3)\n",
    "\n",
    "train_generator = train_datagen.flow_from_directory(\n",
    "        train_path,\n",
    "        target_size=(128, 128),\n",
    "        color_mode=\"rgb\",\n",
    "        batch_size=128,\n",
    "        class_mode='binary')\n",
    "\n",
    "val_generator = val_datagen.flow_from_directory(\n",
    "        val_path,\n",
    "        target_size=(128, 128),\n",
    "        color_mode=\"rgb\",\n",
    "        batch_size=128,\n",
    "        class_mode='binary')"
   ]
  },
  {
   "cell_type": "markdown",
   "metadata": {
    "deletable": false,
    "editable": false,
    "nbgrader": {
     "checksum": "e7ae11154dee1b18040a35a6990ed284",
     "grade": false,
     "grade_id": "cell-f3f79586de42561b",
     "locked": true,
     "schema_version": 1,
     "solution": false
    }
   },
   "source": [
    "Create the callbacks you would like to use and train your model. This optimization might take a long time, so TensorBoard is advised ;)."
   ]
  },
  {
   "cell_type": "code",
   "execution_count": 9,
   "metadata": {
    "deletable": false,
    "nbgrader": {
     "checksum": "bad26172f9b786e6209e418f1ace058e",
     "grade": true,
     "grade_id": "cell-c7dd71a632b5f152",
     "locked": false,
     "points": 2,
     "schema_version": 1,
     "solution": true
    }
   },
   "outputs": [
    {
     "name": "stdout",
     "output_type": "stream",
     "text": [
      "Epoch 1/15\n",
      "157/157 [==============================] - 195s 1s/step - loss: 0.2180 - acc: 0.9349 - val_loss: 0.1445 - val_acc: 0.9426\n",
      "Epoch 2/15\n",
      "157/157 [==============================] - 179s 1s/step - loss: 0.0806 - acc: 0.9702 - val_loss: 0.1221 - val_acc: 0.9526\n",
      "Epoch 3/15\n",
      "157/157 [==============================] - 179s 1s/step - loss: 0.0376 - acc: 0.9880 - val_loss: 0.1364 - val_acc: 0.9476\n",
      "Epoch 4/15\n",
      "Epoch 3/15\n",
      "157/157 [==============================] - 178s 1s/step - loss: 0.0185 - acc: 0.9954 - val_loss: 0.1221 - val_acc: 0.9614\n",
      "Epoch 5/15\n",
      "157/157 [==============================] - 178s 1s/step - loss: 0.0063 - acc: 0.9995 - val_loss: 0.1319 - val_acc: 0.9612\n",
      "Epoch 6/15\n",
      "Epoch 5/15\n",
      "157/157 [==============================] - 178s 1s/step - loss: 0.0028 - acc: 0.9999 - val_loss: 0.1384 - val_acc: 0.9608\n",
      "Epoch 7/15\n",
      "157/157 [==============================] - 178s 1s/step - loss: 0.0015 - acc: 1.0000 - val_loss: 0.1389 - val_acc: 0.9636\n",
      "Epoch 8/15\n",
      "157/157 [==============================] - 178s 1s/step - loss: 0.0010 - acc: 1.0000 - val_loss: 0.1464 - val_acc: 0.9628\n",
      "Epoch 9/15\n",
      "157/157 [==============================] - 177s 1s/step - loss: 7.8588e-04 - acc: 1.0000 - val_loss: 0.1494 - val_acc: 0.9636\n",
      "Epoch 10/15\n",
      "157/157 [==============================] - 178s 1s/step - loss: 6.2815e-04 - acc: 1.0000 - val_loss: 0.1537 - val_acc: 0.9636\n",
      "Epoch 11/15\n",
      "157/157 [==============================] - 177s 1s/step - loss: 5.2780e-04 - acc: 1.0000 - val_loss: 0.1537 - val_acc: 0.9636\n",
      "Epoch 12/15\n",
      "157/157 [==============================] - 177s 1s/step - loss: 4.5778e-04 - acc: 1.0000 - val_loss: 0.1640 - val_acc: 0.9626\n",
      "Epoch 13/15\n",
      "157/157 [==============================] - 177s 1s/step - loss: 4.7424e-04 - acc: 1.0000 - val_loss: 0.1581 - val_acc: 0.9646\n",
      "Epoch 13/15\n",
      "Epoch 14/15\n",
      "157/157 [==============================] - 177s 1s/step - loss: 3.5631e-04 - acc: 1.0000 - val_loss: 0.1652 - val_acc: 0.9646\n",
      "Epoch 15/15\n",
      "Epoch 14/15\n",
      "157/157 [==============================] - 177s 1s/step - loss: 3.3297e-04 - acc: 1.0000 - val_loss: 0.1643 - val_acc: 0.9642\n"
     ]
    }
   ],
   "source": [
    "tb = TensorBoard(log_dir='./logs/best_model')\n",
    "\n",
    "model.compile(optimizer= adam(lr= 1e-5), loss='binary_crossentropy', metrics=['accuracy']) \n",
    "\n",
    "history_best = model.fit_generator(train_generator,\n",
    "        epochs=15,\n",
    "        validation_data=val_generator,\n",
    "        use_multiprocessing=True,\n",
    "        workers=4,\n",
    "        callbacks=[tb])  "
   ]
  },
  {
   "cell_type": "markdown",
   "metadata": {
    "deletable": false,
    "editable": false,
    "nbgrader": {
     "checksum": "d0ab46f558fb4b49f877ca0bae45376b",
     "grade": false,
     "grade_id": "cell-b1861d3a543c6386",
     "locked": true,
     "schema_version": 1,
     "solution": false
    }
   },
   "source": [
    "How does the model perform now when trained on the entire dataset, compared to when only trained on the smaller subset of data? Create one plot with the training accuracy and another with the validation accuracy of the two scenarios."
   ]
  },
  {
   "cell_type": "code",
   "execution_count": 19,
   "metadata": {
    "deletable": false,
    "nbgrader": {
     "checksum": "52bacfa672fbc7eca004c87d041e3411",
     "grade": true,
     "grade_id": "cell-ceaac6be60ce36a9",
     "locked": false,
     "points": 0,
     "schema_version": 1,
     "solution": true
    }
   },
   "outputs": [
    {
     "data": {
      "image/png": "[encoded data removed]",
      "text/plain": [
       "<Figure size 1296x360 with 2 Axes>"
      ]
     },
     "metadata": {},
     "output_type": "display_data"
    }
   ],
   "source": [
    "# Get the history dicts and set figure size\n",
    "history1 = hist_fine_transfer_model.history\n",
    "history2 = history_best.history\n",
    "fig = plt.figure(figsize=(18,5))\n",
    "\n",
    "# Plotting the training accuracy\n",
    "plt.subplot(1,2,1)\n",
    "plt.plot(history1['acc'])\n",
    "plt.plot(history2['acc'])\n",
    "plt.title('Training accuracy comparison')\n",
    "plt.ylabel('Accuracy')\n",
    "plt.xlabel('Epoch')\n",
    "plt.legend(['Small Dataset', 'Entire Dataset'])\n",
    "\n",
    "# Plotting the validation accuracy\n",
    "plt.subplot(1,2,2)\n",
    "plt.plot(history1['val_acc'])\n",
    "plt.plot(history2['val_acc'])\n",
    "plt.title('Validation accuracy comparison')\n",
    "plt.ylabel('Accuracy')\n",
    "plt.xlabel('Epoch')\n",
    "plt.legend(['Small Dataset', 'Entire Dataset'])\n",
    "\n",
    "# Show the plots\n",
    "plt.show()"
   ]
  },
  {
   "cell_type": "markdown",
   "metadata": {
    "deletable": false,
    "editable": false,
    "nbgrader": {
     "checksum": "fa3d1d443f52a1489ac198ca29ddd0c9",
     "grade": false,
     "grade_id": "cell-b38092b08c150e7d",
     "locked": true,
     "schema_version": 1,
     "solution": false
    }
   },
   "source": [
    "What can you conclude from these plots?"
   ]
  },
  {
   "cell_type": "markdown",
   "metadata": {
    "deletable": false,
    "nbgrader": {
     "checksum": "3a4a7b569af9834b505cc8d5daffb2d1",
     "grade": true,
     "grade_id": "cell-694a3fbb7f081da8",
     "locked": false,
     "points": 1,
     "schema_version": 1,
     "solution": true
    }
   },
   "source": [
    "**Your answer:** The more data that we have the more material that we have to train on and lesser the chance having over-fitting and thus the model can generalize better on the unseen data in the validation set."
   ]
  },
  {
   "cell_type": "markdown",
   "metadata": {
    "deletable": false,
    "editable": false,
    "nbgrader": {
     "checksum": "da9293dc623b91059c547544b509ad7b",
     "grade": false,
     "grade_id": "cell-5e1ddfbfceb4d194",
     "locked": true,
     "schema_version": 1,
     "solution": false
    }
   },
   "source": [
    "## 7. Evaluation on test set"
   ]
  },
  {
   "cell_type": "markdown",
   "metadata": {
    "deletable": false,
    "editable": false,
    "nbgrader": {
     "checksum": "cd96692057f0be0c7cb1e9c2769f0991",
     "grade": false,
     "grade_id": "cell-a97630bf5d85363f",
     "locked": true,
     "schema_version": 1,
     "solution": false
    }
   },
   "source": [
    "Now we'll evaluate your final model, obtained in step 6, on the test set. As mentioned before, the samples in the test set are not labeled, so we can't compute any performance metrics ourselves. Instead, we'll create a .csv file containing the predictions for each sample, and submit it to Kaggle for evaluation."
   ]
  },
  {
   "cell_type": "markdown",
   "metadata": {
    "deletable": false,
    "editable": false,
    "nbgrader": {
     "checksum": "891007ea6b998a0bfd810187d1e87208",
     "grade": false,
     "grade_id": "cell-96a8fded54ed7011",
     "locked": true,
     "schema_version": 1,
     "solution": false
    }
   },
   "source": [
    "Compute the predictions for all samples in the test set according to your best model, and save it in a .csv file with the format expected by the competition.\n",
    "\n",
    "Tip:\n",
    "- There is a sample_submission file available for download in the same place where you downloaded the data from. Take a look at it to better understand what is the expected format here.\n",
    "\n",
    "Hints:\n",
    "- The Python module `os` has a `listdir` function, which returns the filenames of all files in a given path.\n",
    "- If you don't know how to create and write to files with Python, Google can help.\n",
    "- Keras has a submodule called `preprocessing.image`, with some handy functions (for instance `load_img` and `img_to_array`)"
   ]
  },
  {
   "cell_type": "code",
   "execution_count": 2,
   "metadata": {
    "deletable": false,
    "nbgrader": {
     "checksum": "e235a9ab5690a066143575414247f751",
     "grade": true,
     "grade_id": "cell-cc77ac7849f856e1",
     "locked": false,
     "points": 0,
     "schema_version": 1,
     "solution": true
    }
   },
   "outputs": [
    {
     "name": "stdout",
     "output_type": "stream",
     "text": [
      "          id         label\n",
      "0       5721  4.883121e-12\n",
      "1      10011  9.999992e-01\n",
      "2       5886  1.000000e+00\n",
      "3      10765  1.000000e+00\n",
      "4       4656  1.000000e+00\n",
      "5       4642  8.841846e-04\n",
      "6       6281  8.616138e-01\n",
      "7       3715  1.000000e+00\n",
      "8      12159  6.329750e-11\n",
      "9       6773  1.000000e+00\n",
      "10      8051  1.000000e+00\n",
      "11      7542  1.000000e+00\n",
      "12     10658  1.000000e+00\n",
      "13      8650  3.487452e-09\n",
      "14      4633  7.913641e-08\n",
      "15      7632  1.096711e-22\n",
      "16      8941  4.408847e-13\n",
      "17       642  1.596603e-06\n",
      "18      7563  1.000000e+00\n",
      "19       811  5.105434e-09\n",
      "20      6458  3.301027e-05\n",
      "21     10786  1.611468e-09\n",
      "22      4761  1.999984e-13\n",
      "23      3052  1.000000e+00\n",
      "24      3698  5.936631e-14\n",
      "25      5027  6.874989e-09\n",
      "26      5254  2.674052e-06\n",
      "27      3913  1.000000e+00\n",
      "28      5995  1.000000e+00\n",
      "29      7000  1.000000e+00\n",
      "...      ...           ...\n",
      "12470   4935  1.000000e+00\n",
      "12471   2263  9.999932e-01\n",
      "12472   8796  1.000000e+00\n",
      "12473   6129  6.957444e-06\n",
      "12474   8629  1.000000e+00\n",
      "12475   1018  1.000000e+00\n",
      "12476   3398  2.322976e-16\n",
      "12477   1106  1.000000e+00\n",
      "12478  10596  7.790072e-07\n",
      "12479  10862  5.268879e-11\n",
      "12480   8532  2.628281e-01\n",
      "12481   9758  1.000000e+00\n",
      "12482   5284  2.876914e-20\n",
      "12483  11715  1.000000e+00\n",
      "12484   6652  1.000000e+00\n",
      "12485  12387  3.757024e-08\n",
      "12486   7775  1.000000e+00\n",
      "12487  11034  9.999990e-01\n",
      "12488  10992  1.526411e-09\n",
      "12489   5773  9.836290e-09\n",
      "12490   6069  9.999995e-01\n",
      "12491   8154  1.930968e-09\n",
      "12492   5735  1.000000e+00\n",
      "12493   1032  9.973894e-01\n",
      "12494   6755  1.527916e-14\n",
      "12495  10571  1.000000e+00\n",
      "12496  10790  9.747115e-01\n",
      "12497  11318  1.683290e-11\n",
      "12498   8802  1.000000e+00\n",
      "12499   9913  5.125272e-01\n",
      "\n",
      "[12500 rows x 2 columns]\n"
     ]
    }
   ],
   "source": [
    "model = load_model('best_model.h5')\n",
    "from os import listdir\n",
    "from os.path import basename\n",
    "from keras.preprocessing import image\n",
    "import pandas as pd\n",
    "import numpy\n",
    "\n",
    "test_path = home_path + '/data/test'\n",
    "df = pd.DataFrame(columns=['id','label'])\n",
    "\n",
    "for f in listdir(test_path):\n",
    "    id_ = os.path.splitext(f)[0]\n",
    "    test_image= image.load_img(test_path + '/' + f, target_size = (128, 128)) \n",
    "    test_image = image.img_to_array(test_image) / 255\n",
    "    test_image = test_image.reshape(1, 128, 128, 3)\n",
    "    result = model.predict(test_image)\n",
    "    df = df.append({'id': id_,'label': result[0][0]}, ignore_index=True)\n",
    "\n",
    "df.to_csv('output.csv') \n",
    "print(df)"
   ]
  },
  {
   "cell_type": "markdown",
   "metadata": {
    "deletable": false,
    "editable": false,
    "nbgrader": {
     "checksum": "1e57b252395ed2657e8f39a69dbf4248",
     "grade": false,
     "grade_id": "cell-faf8664f26ff7f4e",
     "locked": true,
     "schema_version": 1,
     "solution": false
    }
   },
   "source": [
    "Now that you created your submission file, submit it to Kaggle for evaluation. The [old competition](https://www.kaggle.com/c/dogs-vs-cats) does not allow submissions any more, so submit your file to the [new one](https://www.kaggle.com/c/dogs-vs-cats-redux-kernels-edition). Kaggle evaluates your submission according to your log-loss score. Which score did you obtain?"
   ]
  },
  {
   "cell_type": "markdown",
   "metadata": {
    "deletable": false,
    "nbgrader": {
     "checksum": "e4a90a8a13658eeb9af3ad05c63220de",
     "grade": true,
     "grade_id": "cell-e951dcec64dec85d",
     "locked": false,
     "points": 2,
     "schema_version": 1,
     "solution": true
    }
   },
   "source": [
    "**Your answer:** 0.32383"
   ]
  },
  {
   "cell_type": "markdown",
   "metadata": {
    "deletable": false,
    "editable": false,
    "nbgrader": {
     "checksum": "e8a7f3a8236f43994efe29067d7237c2",
     "grade": false,
     "grade_id": "cell-dc362abcfef32eae",
     "locked": true,
     "schema_version": 1,
     "solution": false
    }
   },
   "source": [
    "What was the username you used for this submission?"
   ]
  },
  {
   "cell_type": "markdown",
   "metadata": {
    "deletable": false,
    "nbgrader": {
     "checksum": "8cc61665c676edcd9192df3c15714aa3",
     "grade": true,
     "grade_id": "cell-d519532bb1f957c3",
     "locked": false,
     "points": 0,
     "schema_version": 1,
     "solution": true
    }
   },
   "source": [
    "**Your answer:** Zeeshan Dar"
   ]
  },
  {
   "cell_type": "code",
   "execution_count": null,
   "metadata": {
    "deletable": false,
    "nbgrader": {
     "checksum": "d2c30c88e647d05bd81604c1339a68e7",
     "grade": true,
     "grade_id": "cell-4c9de348cd8bc4ff",
     "locked": false,
     "points": 2,
     "schema_version": 1,
     "solution": true
    }
   },
   "outputs": [],
   "source": []
  },
  {
   "cell_type": "code",
   "execution_count": null,
   "metadata": {
    "deletable": false,
    "nbgrader": {
     "checksum": "45e0af4b6ac1d453b519ba7c65ccb56d",
     "grade": true,
     "grade_id": "cell-6edb7d7e343ab14b",
     "locked": false,
     "points": 2,
     "schema_version": 1,
     "solution": true
    }
   },
   "outputs": [],
   "source": []
  }
 ],
 "metadata": {
  "kernelspec": {
   "display_name": "Python 3",
   "language": "python",
   "name": "python3"
  },
  "language_info": {
   "codemirror_mode": {
    "name": "ipython",
    "version": 3
   },
   "file_extension": ".py",
   "mimetype": "text/x-python",
   "name": "python",
   "nbconvert_exporter": "python",
   "pygments_lexer": "ipython3",
   "version": "3.6.6"
  }
 },
 "nbformat": 4,
 "nbformat_minor": 2
}
