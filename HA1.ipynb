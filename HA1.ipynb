{
 "cells": [
  {
   "cell_type": "markdown",
   "metadata": {
    "colab_type": "text",
    "id": "zaamfu_210ms"
   },
   "source": [
    "### Checklist for submission\n",
    "\n",
    "It is extremely important to make sure that:\n",
    "\n",
    "1. Everything runs as expected (no bugs when running cells);\n",
    "2. The output from each cell corresponds to its code (don't change any cell's contents without rerunning it afterwards);\n",
    "3. All outputs are present (don't delete any of the outputs);\n",
    "4. Fill in all the places that say `YOUR CODE HERE`, or \"**Your answer:** (fill in here)\".\n",
    "5. You **ONLY** change the parts of the code we asked you to, nowhere else (change only the coding parts saying `# YOUR CODE HERE`, nothing else);\n",
    "6. Don't add any new cells to this notebook;\n",
    "7. Fill in your group number and the full names of the members in the cell below;\n",
    "8. Make sure that you are not running an old version of IPython (we provide you with a cell that checks this, make sure you can run it without errors).\n",
    "\n",
    "Failing to meet any of these requirements might lead to either a subtraction of POEs (at best) or a request for resubmission (at worst).\n",
    "\n",
    "We advise you the following steps before submission for ensuring that requirements 1, 2, and 3 are always met: **Restart the kernel** (in the menubar, select Kernel$\\rightarrow$Restart) and then **run all cells** (in the menubar, select Cell$\\rightarrow$Run All). This might require a bit of time, so plan ahead for this (and possibly use Google Cloud's GPU in HA1 and HA2 for this step). Finally press the \"Save and Checkout\" button before handing in, to make sure that all your changes are saved to this .ipynb file."
   ]
  },
  {
   "cell_type": "markdown",
   "metadata": {
    "colab_type": "text",
    "id": "FacwAAaU10mt"
   },
   "source": [
    "---\n",
    "\n",
    "Group number and member names:"
   ]
  },
  {
   "cell_type": "code",
   "execution_count": 1,
   "metadata": {
    "colab": {},
    "colab_type": "code",
    "id": "_N2oRrhp10mv"
   },
   "outputs": [],
   "source": [
    "GROUP = \"47\"\n",
    "NAME1 = \"Victor Ebberstein\"\n",
    "NAME2 = \"Martin Holmberg\""
   ]
  },
  {
   "cell_type": "markdown",
   "metadata": {
    "colab_type": "text",
    "id": "QtMgNc7i10mz"
   },
   "source": [
    "Make sure you can run the following cell without errors."
   ]
  },
  {
   "cell_type": "code",
   "execution_count": 2,
   "metadata": {
    "colab": {},
    "colab_type": "code",
    "id": "15iiTooW10m0"
   },
   "outputs": [],
   "source": [
    "import IPython\n",
    "assert IPython.version_info[0] >= 3, \"Your version of IPython is too old, please update it.\""
   ]
  },
  {
   "cell_type": "markdown",
   "metadata": {
    "colab_type": "text",
    "id": "XV7ULjoS10m4"
   },
   "source": [
    "---"
   ]
  },
  {
   "cell_type": "markdown",
   "metadata": {
    "colab_type": "text",
    "id": "KnxpC22f10m5"
   },
   "source": [
    "# HA1 - Cats and dogs"
   ]
  },
  {
   "cell_type": "markdown",
   "metadata": {
    "colab_type": "text",
    "id": "LIo-2QIY10m6"
   },
   "source": [
    "<img src=\"http://lghttp.32478.nexcesscdn.net/80E972/organiclifestylemagazine/wp-content/uploads/2015/10/Cats-and-Dogs.jpg\" alt=\"Cats and dogs\" style=\"width: 5000px;\"/>"
   ]
  },
  {
   "cell_type": "markdown",
   "metadata": {
    "colab_type": "text",
    "id": "Pb0PV-C510m7"
   },
   "source": [
    "For this home assignment, we'll use the Kaggle dataset for the [Dogs vs. Cats competition](https://www.kaggle.com/c/dogs-vs-cats). It is comprised of 25k colored images of dogs and cats. Our goal with this dataset will be to create a classifier that can tell us if the input image is of a cat or a dog."
   ]
  },
  {
   "cell_type": "markdown",
   "metadata": {
    "colab_type": "text",
    "id": "Yk3ZKHo110m8"
   },
   "source": [
    "As a way of helping you speed up the training process, each group gets 6 hours of access to an instance in Google Cloud with a K80 GPU. Take a look at the [Instructions folder](https://github.com/JulianoLagana/deep-machine-learning/tree/master/Instructions) to understand how to connect to this instance and use our tools there. You're free to use this resource as you see fit, but if you run out of hours you'll need a late day to obtain more (and you can only do this once).\n",
    "\n",
    "In order to make the most out of your GPU hours, first try solving the initial part of this notebook (tasks 0-4) in your own computer (these tasks can be solved only on the CPU), and leave most of the available hours for solving tasks 5-6, and refining your best model further (and, if you have the spare hours, experiment a bit!)."
   ]
  },
  {
   "cell_type": "markdown",
   "metadata": {
    "colab_type": "text",
    "id": "YZfN8fV510m9"
   },
   "source": [
    "Requirements:\n",
    "- Whenever we ask you to plot anything, be sure to add a title and label the axes. If you're plotting more than one curve in the same plot, also add a legend.\n",
    "- When we ask you to train an architecture, train it for a reasonable number of epochs. \"Reasonable\" here means you should be fairly confident that training for a higher number of epochs wouldn't impact your conclusions regarding the model's performance.\n",
    "\n",
    "Tips:\n",
    "- If you get errors saying you've exhausted the GPU resources, well, then you exhausted the GPU resources ;). However, sometimes that's because TensorFlow didn't release a part of the GPU's memory. If you think your CNN should fit in your memory during training, try restarting the kernel and directly training only that architecture.\n",
    "- Every group has enough credits on google cloud to complete this assignment. However, this statement assumes you'll use your resources judiciously (e.g. always try the code first in your machine and make sure everything works properly before starting your instances) and **won't forget to stop your instance after using it,**  otherwise you might run out of credits.\n",
    "- Before starting, take a look at the images we'll be using. This is a hard task, don't get discouraged if your first models perform poorly (several participants in the original competition didn't achieve an accuracy higher than 60%)."
   ]
  },
  {
   "cell_type": "markdown",
   "metadata": {
    "colab_type": "text",
    "id": "-YhMVKIU10m-"
   },
   "source": [
    "---\n",
    "## 0. Imports\n",
    "\n",
    "In the following cell, add all the imports you'll use in this assignment."
   ]
  },
  {
   "cell_type": "code",
   "execution_count": 6,
   "metadata": {
    "colab": {
     "base_uri": "https://localhost:8080/",
     "height": 35
    },
    "colab_type": "code",
    "id": "3itpixII10m_",
    "outputId": "08bf3dcd-d9cd-4777-d27a-30e028663125"
   },
   "outputs": [],
   "source": [
    "from keras.preprocessing.image import ImageDataGenerator\n",
    "from keras.models import Sequential, Model, load_model\n",
    "from keras.layers import Conv2D, MaxPooling2D\n",
    "from keras.layers import Activation, Dropout, Flatten, Dense\n",
    "from keras import regularizers\n",
    "from keras.callbacks import TensorBoard, EarlyStopping\n",
    "from keras.applications import VGG16\n",
    "from keras.optimizers import Adam\n",
    "\n",
    "import pandas as pd\n",
    "import matplotlib.pyplot as plt"
   ]
  },
  {
   "cell_type": "markdown",
   "metadata": {
    "colab_type": "text",
    "id": "ivQ77P2b10nG"
   },
   "source": [
    "---\n",
    "## 1. Loading the data and preprocessing"
   ]
  },
  {
   "cell_type": "markdown",
   "metadata": {
    "colab_type": "text",
    "id": "p9o36lNH10nH"
   },
   "source": [
    "The first step is to head to the [Kaggle website for the cats and dogs competition](https://www.kaggle.com/c/dogs-vs-cats) and download the data from there. You should download both the test and train folders together in one zip file (by clicking the download all button). The split ratio between training and validation has not been made, you'll need to do it yourself. The `test.zip` file contains unlabeled data, so that participants in the contest are not able to train on this set.\n",
    "\n",
    "For this assignment you should use [data generators](https://keras.io/preprocessing/image/) to load the images to your CPU/GPU memory. Because of this, your folder structure for the data should conform to the folder structure expected by the data generators (i.e. the samples should be separated into one folder for each class). Furthermore, we ask you to first start with a smaller subset of the data (1/5 of the number of samples), in order to test different models faster.\n",
    "\n",
    "This means that you should create a folder structure that resembles the following (obviously, the folder names are up to you):\n",
    "\n",
    "\n",
    "         small_train             small_val                train                   val\n",
    "              |                      |                      |                      |\n",
    "              |                      |                      |                      |\n",
    "        -------------          -------------          -------------          -------------\n",
    "        |           |          |           |          |           |          |           |\n",
    "        |           |          |           |          |           |          |           |\n",
    "      Cats        Dogs       Cats        Dogs       Cats        Dogs       Cats        Dogs\n",
    "\n",
    "The `small_train` and `small_val` folders have the training and validation samples for your smaller subset of the data, while the `train` and `val` folders contain all the samples you extracted from Kaggle's `train.zip`. We provide you a notebook that shows how to achieve this (\"Create project structure.ipynb\"), starting from the original `all.zip` file that you download from Kaggle. If you do use that notebook, we encourage you to understand how each step is being done, so you can generalize this knowledge to new datasets you'll encounter.\n",
    "\n",
    "We advise you to use 30% of the data as validation data in the smaller dataset. However, for the larger dataset, you should decide how to split between training and validation. Please specify your splits in the following cells."
   ]
  },
  {
   "cell_type": "markdown",
   "metadata": {
    "colab_type": "text",
    "id": "dSJVa2Bh10nI"
   },
   "source": [
    "For the larger subset, what was the training/validation split that you decided to use?"
   ]
  },
  {
   "cell_type": "markdown",
   "metadata": {
    "colab_type": "text",
    "id": "fVriY1Ln10nJ"
   },
   "source": [
    "**% Samples in the training set:**"
   ]
  },
  {
   "cell_type": "code",
   "execution_count": 0,
   "metadata": {
    "colab": {},
    "colab_type": "code",
    "id": "K6HFqtUF10nM"
   },
   "outputs": [],
   "source": [
    "# Full dataset:     80% - 20000 samples\n",
    "# Smaller dataset:  70% - 3500 samples "
   ]
  },
  {
   "cell_type": "markdown",
   "metadata": {
    "colab_type": "text",
    "id": "qJf-PgXi10nP"
   },
   "source": [
    "**% Samples in the validation set:**"
   ]
  },
  {
   "cell_type": "code",
   "execution_count": 0,
   "metadata": {
    "colab": {},
    "colab_type": "code",
    "id": "cudVpt7m10nQ"
   },
   "outputs": [],
   "source": [
    "# Full dataset:     20% - 5000 samples\n",
    "# Smaller dataset:  30% - 1500 samples "
   ]
  },
  {
   "cell_type": "markdown",
   "metadata": {
    "colab_type": "text",
    "id": "oPjiu5KI10nU"
   },
   "source": [
    "Fill in the dataset paths (to be used later by your data generators):"
   ]
  },
  {
   "cell_type": "code",
   "execution_count": 7,
   "metadata": {
    "colab": {},
    "colab_type": "code",
    "id": "Jx5apjj110nX"
   },
   "outputs": [],
   "source": [
    "small_train_path = './data/small_train/'\n",
    "small_val_path = './data/small_val/'\n",
    "train_path = './data/train/'\n",
    "val_path = './data/val/'\n",
    "test_path = './data/test/'"
   ]
  },
  {
   "cell_type": "markdown",
   "metadata": {
    "colab_type": "text",
    "id": "u_EQvhDL10na"
   },
   "source": [
    "---\n",
    "Once you have the expected folder structure, create two data generators for automatically generating batches from the images in your smaller subset of data. Don't use any [data augmentation](https://cartesianfaith.com/2016/10/06/what-you-need-to-know-about-data-augmentation-for-machine-learning/), but feel free to preprocess the data as you see fit. After instantiating them, run the `flow_from_directory` method with the desired arguments.\n",
    "\n",
    "Hints:\n",
    "- The specified `batch_size` should be chosen so that your don't run out of memory.\n",
    "- When feeding the images to your CNN, you'll probably want all of them to have the same spatial size, even though the .jpeg files differ in this. If so, take a look at the argument `target_size` for the `flow_from_directory` method of data generators.\n",
    "- Resizing the images to a smaller size while loading them can be beneficial."
   ]
  },
  {
   "cell_type": "code",
   "execution_count": 3,
   "metadata": {
    "colab": {
     "base_uri": "https://localhost:8080/",
     "height": 504
    },
    "colab_type": "code",
    "id": "JHWvsPvx10nb",
    "outputId": "e8b3dfc9-1f54-4f3c-c6b1-def17289d5d5"
   },
   "outputs": [
    {
     "name": "stdout",
     "output_type": "stream",
     "text": [
      "Found 3500 images belonging to 2 classes.\n",
      "Found 1500 images belonging to 2 classes.\n"
     ]
    }
   ],
   "source": [
    "datagen = ImageDataGenerator(rescale=1./255)\n",
    "\n",
    "img_size = 128\n",
    "batch_size = 64\n",
    "\n",
    "# Small datasets\n",
    "training_samples_small = 3500\n",
    "validation_samples_small = 1500\n",
    "\n",
    "small_train_generator = datagen.flow_from_directory(\n",
    "        small_train_path,\n",
    "        target_size= (img_size, img_size),\n",
    "        batch_size=batch_size,\n",
    "        class_mode='binary')\n",
    "\n",
    "small_validation_generator = datagen.flow_from_directory(\n",
    "        small_val_path,\n",
    "        target_size= (img_size, img_size),\n",
    "        batch_size=batch_size,\n",
    "        class_mode='binary')"
   ]
  },
  {
   "cell_type": "markdown",
   "metadata": {
    "colab_type": "text",
    "id": "jQL0ewxf10ng"
   },
   "source": [
    "---\n",
    "## 2. Training"
   ]
  },
  {
   "cell_type": "markdown",
   "metadata": {
    "colab_type": "text",
    "id": "_a5P32xz10nh"
   },
   "source": [
    "Create your first CNN architecture for this task. Start with something as simple as possible, that you're almost sure can get an accuracy better than 50% (we'll improve upon it later).\n",
    "\n",
    "Tip:\n",
    "- If Tensorflow is your backend, your `input_shape` is always `(img_width, img_height, 3)` (i.e. channels **last**)"
   ]
  },
  {
   "cell_type": "code",
   "execution_count": 6,
   "metadata": {
    "colab": {},
    "colab_type": "code",
    "id": "-3DUVh7j10ni"
   },
   "outputs": [],
   "source": [
    "# Initial model \n",
    "initial_model = Sequential()\n",
    "\n",
    "initial_model.add(Conv2D(16, (5, 5), activation = 'relu', input_shape=(img_size, img_size, 3)))\n",
    "initial_model.add(MaxPooling2D(pool_size=(5, 5), strides=(5, 5)))\n",
    "initial_model.add(Flatten())\n",
    "initial_model.add(Dense(64, activation='relu'))\n",
    "initial_model.add(Dense(1, activation='sigmoid'))\n",
    "\n",
    "initial_model.compile(loss='binary_crossentropy',\n",
    "              optimizer='adam',\n",
    "              metrics=['accuracy'])"
   ]
  },
  {
   "cell_type": "markdown",
   "metadata": {
    "colab_type": "text",
    "id": "Oesm8iqu10nl"
   },
   "source": [
    "Train your model using the `fit_generator` method and the two data generators you created earlier. Train for a reasonable amount of epochs, so as to get a good sense of how well this architecture performs.\n",
    "\n",
    "Tips:\n",
    "- Usually the bottleneck is when loading the images from the disk. To speed up training, make sure to take a look at the arguments `workers` and `use_multiprocessing` of `fit_generator`.\n",
    "- You don't have to set the argument `steps_per_epoch` to the number of batches in an epoch. Instead, you can choose a lower number to obtain more frequent prints about the current loss and accuracy of your model (but then have in mind that you're not actually training for the number of epochs you specify in `epochs`)."
   ]
  },
  {
   "cell_type": "code",
   "execution_count": 7,
   "metadata": {
    "colab": {},
    "colab_type": "code",
    "id": "f9KB3XA010nn"
   },
   "outputs": [
    {
     "name": "stdout",
     "output_type": "stream",
     "text": [
      "Epoch 1/15\n",
      "54/54 [==============================] - 40s 750ms/step - loss: 0.7018 - acc: 0.5516 - val_loss: 0.6543 - val_acc: 0.6040\n",
      "Epoch 2/15\n",
      "54/54 [==============================] - 7s 139ms/step - loss: 0.6257 - acc: 0.6412 - val_loss: 0.6215 - val_acc: 0.6620\n",
      "Epoch 3/15\n",
      "54/54 [==============================] - 8s 146ms/step - loss: 0.5907 - acc: 0.6841 - val_loss: 0.5972 - val_acc: 0.6913\n",
      "Epoch 4/15\n",
      "54/54 [==============================] - 8s 146ms/step - loss: 0.5366 - acc: 0.7361 - val_loss: 0.5767 - val_acc: 0.6913\n",
      "Epoch 5/15\n",
      "54/54 [==============================] - 8s 144ms/step - loss: 0.5002 - acc: 0.7549 - val_loss: 0.5746 - val_acc: 0.6933\n",
      "Epoch 6/15\n",
      "54/54 [==============================] - 8s 147ms/step - loss: 0.4567 - acc: 0.7880 - val_loss: 0.5837 - val_acc: 0.7040\n",
      "Epoch 7/15\n",
      "54/54 [==============================] - 8s 144ms/step - loss: 0.4144 - acc: 0.8056 - val_loss: 0.6225 - val_acc: 0.6867\n",
      "Epoch 8/15\n",
      "54/54 [==============================] - 8s 145ms/step - loss: 0.4154 - acc: 0.8056 - val_loss: 0.5944 - val_acc: 0.7127\n",
      "Epoch 9/15\n",
      "54/54 [==============================] - 8s 142ms/step - loss: 0.3544 - acc: 0.8472 - val_loss: 0.6193 - val_acc: 0.7060\n",
      "Epoch 10/15\n",
      "54/54 [==============================] - 8s 145ms/step - loss: 0.3294 - acc: 0.8600 - val_loss: 0.7384 - val_acc: 0.6727\n",
      "Epoch 11/15\n",
      "54/54 [==============================] - 8s 145ms/step - loss: 0.3091 - acc: 0.8681 - val_loss: 0.7047 - val_acc: 0.7013\n",
      "Epoch 12/15\n",
      "54/54 [==============================] - 8s 144ms/step - loss: 0.2746 - acc: 0.8906 - val_loss: 0.6626 - val_acc: 0.7147\n",
      "Epoch 13/15\n",
      "54/54 [==============================] - 8s 145ms/step - loss: 0.2610 - acc: 0.8886 - val_loss: 0.8278 - val_acc: 0.6720\n",
      "Epoch 14/15\n",
      "54/54 [==============================] - 8s 140ms/step - loss: 0.2252 - acc: 0.9136 - val_loss: 0.7222 - val_acc: 0.7107\n",
      "Epoch 15/15\n",
      "54/54 [==============================] - 8s 140ms/step - loss: 0.1981 - acc: 0.9296 - val_loss: 0.7820 - val_acc: 0.6980\n"
     ]
    }
   ],
   "source": [
    "initial_history = initial_model.fit_generator(\n",
    "            small_train_generator,\n",
    "            steps_per_epoch = training_samples_small // batch_size,\n",
    "            epochs = 15,\n",
    "            validation_data = small_validation_generator,\n",
    "            validation_steps= validation_samples_small // batch_size,\n",
    "            use_multiprocessing = True,\n",
    "            workers = 4)"
   ]
  },
  {
   "cell_type": "markdown",
   "metadata": {
    "colab_type": "text",
    "id": "xGC9NbYi10nq"
   },
   "source": [
    "Create one figure with two axes. In one of them, plot the loss in the training and the validation datasets. In the other one, plot the accuracy in the training and validation datasets.\n",
    "\n",
    "Hint:\n",
    "- The `fit_generator` method returns a `history` object."
   ]
  },
  {
   "cell_type": "code",
   "execution_count": 8,
   "metadata": {
    "colab": {},
    "colab_type": "code",
    "id": "iTDCLf9g10nr"
   },
   "outputs": [
    {
     "data": {
      "image/png": "[encoded data removed]",
      "text/plain": [
       "<Figure size 1152x288 with 2 Axes>"
      ]
     },
     "metadata": {},
     "output_type": "display_data"
    }
   ],
   "source": [
    "fig, ax = plt.subplots(1,2, figsize = (16,4))\n",
    "ax[0].plot(initial_history.history['loss'], label = 'Training')\n",
    "ax[0].plot(initial_history.history['val_loss'], label = 'Validation')\n",
    "ax[0].set_title('Initial model - loss')\n",
    "ax[0].set_xlabel('Epoch')\n",
    "ax[0].set_ylabel('Loss')\n",
    "ax[0].legend();\n",
    "\n",
    "ax[1].plot(initial_history.history['acc'], label = 'Training')\n",
    "ax[1].plot(initial_history.history['val_acc'], label = 'Validation')\n",
    "ax[1].set_title('Initial model - accuracy')\n",
    "ax[1].set_xlabel('Epoch')\n",
    "ax[1].set_ylabel('Accuracy')\n",
    "ax[1].legend();"
   ]
  },
  {
   "cell_type": "markdown",
   "metadata": {
    "colab_type": "text",
    "id": "P3WIKCxj10nu"
   },
   "source": [
    "Based on these, what would you suggest for improving your model? Why?"
   ]
  },
  {
   "cell_type": "markdown",
   "metadata": {
    "colab_type": "text",
    "id": "d1ORYsie10nx"
   },
   "source": [
    "**Your answer:** We can see that the model is overfitting the data quite rapidly, thus we decide to include some regularization in the form of a Dropout-layer. We will also use Early Stopping in order to deal with the overfitting. We will replace the convolutional 5x5-layer with two separate 3x3-layers instead. This is in order to give the model more non-linearities while remaining the same conceptual field. Finally we double the amount of filters in each convolutional layer, in order to give the model the ability to find a wider variety of features on different levels."
   ]
  },
  {
   "cell_type": "markdown",
   "metadata": {
    "colab_type": "text",
    "id": "ksxtoamb10ny"
   },
   "source": [
    "---\n",
    "## 3. Improving your initial model"
   ]
  },
  {
   "cell_type": "markdown",
   "metadata": {
    "colab_type": "text",
    "id": "su-YADcY10nz"
   },
   "source": [
    "Improve your initial model according to you answer above. Write the new definition in the cell below and train it."
   ]
  },
  {
   "cell_type": "code",
   "execution_count": 12,
   "metadata": {
    "colab": {},
    "colab_type": "code",
    "id": "2dvQflnR10n0"
   },
   "outputs": [
    {
     "name": "stdout",
     "output_type": "stream",
     "text": [
      "Epoch 1/50\n",
      "54/54 [==============================] - 9s 164ms/step - loss: 0.7130 - acc: 0.5161 - val_loss: 0.6741 - val_acc: 0.5440\n",
      "Epoch 2/50\n",
      "54/54 [==============================] - 8s 153ms/step - loss: 0.6489 - acc: 0.6204 - val_loss: 0.6181 - val_acc: 0.6527\n",
      "Epoch 3/50\n",
      "54/54 [==============================] - 9s 158ms/step - loss: 0.5818 - acc: 0.6881 - val_loss: 0.5655 - val_acc: 0.6973\n",
      "Epoch 4/50\n",
      "54/54 [==============================] - 8s 151ms/step - loss: 0.5154 - acc: 0.7496 - val_loss: 0.5397 - val_acc: 0.7333\n",
      "Epoch 5/50\n",
      "54/54 [==============================] - 8s 157ms/step - loss: 0.4483 - acc: 0.7919 - val_loss: 0.5405 - val_acc: 0.7327\n",
      "Epoch 6/50\n",
      "54/54 [==============================] - 8s 152ms/step - loss: 0.3912 - acc: 0.8227 - val_loss: 0.5630 - val_acc: 0.7247\n",
      "Epoch 7/50\n",
      "54/54 [==============================] - 8s 157ms/step - loss: 0.3447 - acc: 0.8542 - val_loss: 0.5268 - val_acc: 0.7547\n",
      "Epoch 8/50\n",
      "54/54 [==============================] - 8s 156ms/step - loss: 0.2919 - acc: 0.8760 - val_loss: 0.5892 - val_acc: 0.7513\n",
      "Epoch 9/50\n",
      "54/54 [==============================] - 8s 152ms/step - loss: 0.2475 - acc: 0.8994 - val_loss: 0.6812 - val_acc: 0.7353\n",
      "Epoch 10/50\n",
      "54/54 [==============================] - 9s 175ms/step - loss: 0.2262 - acc: 0.9025 - val_loss: 0.6288 - val_acc: 0.7447\n"
     ]
    }
   ],
   "source": [
    "improved_model = Sequential()\n",
    "\n",
    "improved_model.add(Conv2D(32, (3, 3), activation = 'relu', input_shape=(img_size, img_size, 3)))\n",
    "improved_model.add(Conv2D(32, (3, 3), activation = 'relu'))\n",
    "improved_model.add(MaxPooling2D(pool_size=(5, 5), strides=(5, 5)))\n",
    "improved_model.add(Flatten())\n",
    "improved_model.add(Dropout(0.3))\n",
    "improved_model.add(Dense(64, activation='relu'))\n",
    "improved_model.add(Dense(1, activation='sigmoid'))\n",
    "\n",
    "#improved_model.summary()\n",
    "\n",
    "improved_model.compile(loss='binary_crossentropy',\n",
    "              optimizer='adam',\n",
    "              metrics=['accuracy'])\n",
    "\n",
    "# Callbacks - Improved model\n",
    "early_stopping = EarlyStopping(monitor='val_loss', patience=3)\n",
    "\n",
    "callbacks_improved = [early_stopping]\n",
    "\n",
    "improved_history = improved_model.fit_generator(\n",
    "            small_train_generator,\n",
    "            steps_per_epoch = training_samples_small // batch_size,\n",
    "            epochs = 50,\n",
    "            validation_data = small_validation_generator,\n",
    "            validation_steps= validation_samples_small // batch_size,\n",
    "            callbacks = callbacks_improved,\n",
    "            use_multiprocessing = True,\n",
    "            workers = 4)"
   ]
  },
  {
   "cell_type": "markdown",
   "metadata": {
    "colab_type": "text",
    "id": "Jh6GXUST10n3"
   },
   "source": [
    "How does the model perform, compared to the initial model? Create one plot with the training accuracy and another with the validation accuracy of the two scenarios."
   ]
  },
  {
   "cell_type": "code",
   "execution_count": 13,
   "metadata": {
    "colab": {},
    "colab_type": "code",
    "id": "-8RXnNB-10n4"
   },
   "outputs": [
    {
     "data": {
      "image/png": "[encoded data removed]",
      "text/plain": [
       "<Figure size 1152x288 with 2 Axes>"
      ]
     },
     "metadata": {},
     "output_type": "display_data"
    }
   ],
   "source": [
    "fig, ax = plt.subplots(1,2, figsize = (16,4))\n",
    "ax[0].plot(initial_history.history['acc'], label = 'Initial model')\n",
    "ax[0].plot(improved_history.history['acc'], label = 'Improved model')\n",
    "ax[0].set_title('Training accuracy')\n",
    "ax[0].set_xlabel('Epoch')\n",
    "ax[0].set_ylabel('Accuracy')\n",
    "ax[0].legend();\n",
    "\n",
    "ax[1].plot(initial_history.history['val_acc'], label = 'Initial model')\n",
    "ax[1].plot(improved_history.history['val_acc'], label = 'Improved model')\n",
    "ax[1].set_title('Validation accuracy')\n",
    "ax[1].set_xlabel('Epoch')\n",
    "ax[1].set_ylabel('Accuracy')\n",
    "ax[1].legend();"
   ]
  },
  {
   "cell_type": "markdown",
   "metadata": {
    "colab_type": "text",
    "id": "SrVSwl-Z10n7"
   },
   "source": [
    "Did your results improve? Explain why, or why not."
   ]
  },
  {
   "cell_type": "markdown",
   "metadata": {
    "colab_type": "text",
    "id": "PfufdXkZ10n8"
   },
   "source": [
    "**Your answer:** Yes, the results improved. This can be seen by the fact that we are able to reach a higher accuracy on the validation data set. This could be the result of the increased number of filters that the model are able to learn, or the increased non-linearities in the model. It seems that the added complexity to the model did cancel out the effects of the regularization that was introduced. Thus, we can still observe quite a bit of overfitting."
   ]
  },
  {
   "cell_type": "markdown",
   "metadata": {
    "colab_type": "text",
    "id": "poYEwfAR10n_"
   },
   "source": [
    "---\n",
    "## 4. Obtaining the *best* model"
   ]
  },
  {
   "cell_type": "markdown",
   "metadata": {
    "colab_type": "text",
    "id": "uhJGiQum10oA"
   },
   "source": [
    "Continue to improve your model architecture by comparing the value of the metrics you're interested in both the training and validation set. Try different ideas, and consider comparing them using tensorboard. When you're happy with one architecture, copy it in the cell below and train it here. Save the optimization history (i.e. the `history` object returned by the `fit_generator`). You'll use this later to compare your best model with the one using transfer learning.\n",
    "\n",
    "**Note**: When trying different ideas, you'll end up with several different models. However, when submitting your solutions to ping-pong, the cell below must contain only the definition and training of *one* model. Remove all code related to the models that were not chosen."
   ]
  },
  {
   "cell_type": "code",
   "execution_count": 16,
   "metadata": {
    "colab": {},
    "colab_type": "code",
    "id": "W5LJONQM10oB"
   },
   "outputs": [
    {
     "name": "stdout",
     "output_type": "stream",
     "text": [
      "Epoch 1/50\n",
      "54/54 [==============================] - 9s 160ms/step - loss: 0.6921 - acc: 0.5110 - val_loss: 0.6873 - val_acc: 0.4993\n",
      "Epoch 2/50\n",
      "54/54 [==============================] - 8s 155ms/step - loss: 0.6816 - acc: 0.5627 - val_loss: 0.6759 - val_acc: 0.6027\n",
      "Epoch 3/50\n",
      "54/54 [==============================] - 8s 152ms/step - loss: 0.6522 - acc: 0.6302 - val_loss: 0.6202 - val_acc: 0.6707\n",
      "Epoch 4/50\n",
      "54/54 [==============================] - 8s 156ms/step - loss: 0.5894 - acc: 0.6849 - val_loss: 0.5871 - val_acc: 0.6953\n",
      "Epoch 5/50\n",
      "54/54 [==============================] - 8s 150ms/step - loss: 0.5588 - acc: 0.7123 - val_loss: 0.5512 - val_acc: 0.7247\n",
      "Epoch 6/50\n",
      "54/54 [==============================] - 8s 154ms/step - loss: 0.5113 - acc: 0.7516 - val_loss: 0.5313 - val_acc: 0.7467\n",
      "Epoch 7/50\n",
      "54/54 [==============================] - 8s 150ms/step - loss: 0.4960 - acc: 0.7646 - val_loss: 0.5162 - val_acc: 0.7527\n",
      "Epoch 8/50\n",
      "54/54 [==============================] - 8s 150ms/step - loss: 0.4858 - acc: 0.7721 - val_loss: 0.4972 - val_acc: 0.7593\n",
      "Epoch 9/50\n",
      "54/54 [==============================] - 8s 153ms/step - loss: 0.4405 - acc: 0.8017 - val_loss: 0.5296 - val_acc: 0.7400\n",
      "Epoch 10/50\n",
      "54/54 [==============================] - 8s 152ms/step - loss: 0.4213 - acc: 0.8016 - val_loss: 0.4754 - val_acc: 0.7820\n",
      "Epoch 11/50\n",
      "54/54 [==============================] - 8s 148ms/step - loss: 0.4161 - acc: 0.8177 - val_loss: 0.4758 - val_acc: 0.7820\n",
      "Epoch 12/50\n",
      "54/54 [==============================] - 8s 146ms/step - loss: 0.3647 - acc: 0.8365 - val_loss: 0.5605 - val_acc: 0.7600\n",
      "Epoch 13/50\n",
      "54/54 [==============================] - 8s 149ms/step - loss: 0.3650 - acc: 0.8372 - val_loss: 0.4854 - val_acc: 0.7773\n"
     ]
    }
   ],
   "source": [
    "best_model = Sequential()\n",
    "\n",
    "best_model.add(Conv2D(32, (3, 3), input_shape=(img_size, img_size, 3), activation = 'relu'))\n",
    "best_model.add(MaxPooling2D(pool_size=(3, 3), strides=(3, 3)))\n",
    "best_model.add(Conv2D(32, (3, 3), activation = 'relu'))\n",
    "best_model.add(MaxPooling2D(pool_size=(3, 3), strides=(3, 3)))\n",
    "best_model.add(Conv2D(64, (3, 3), activation = 'relu'))\n",
    "best_model.add(MaxPooling2D(pool_size=(3, 3), strides=(3, 3)))\n",
    "best_model.add(Flatten())\n",
    "best_model.add(Dropout(0.25))\n",
    "best_model.add(Dense(64, activation='relu'))\n",
    "best_model.add(Dropout(0.15))\n",
    "best_model.add(Dense(32, activation='relu'))\n",
    "best_model.add(Dropout(0.15))\n",
    "best_model.add(Dense(1, activation='sigmoid'))\n",
    "best_model.compile(loss='binary_crossentropy', optimizer=Adam(lr=0.001, decay=0.001), metrics=['accuracy'])\n",
    "\n",
    "# Callbacks - Best Model\n",
    "early_stopping = EarlyStopping(monitor='val_loss', patience=3)\n",
    "\n",
    "callbacks_best = [early_stopping]\n",
    "\n",
    "best_history = best_model.fit_generator(\n",
    "            small_train_generator,\n",
    "            steps_per_epoch = training_samples_small // batch_size,\n",
    "            epochs = 50,\n",
    "            validation_data = small_validation_generator,\n",
    "            validation_steps= validation_samples_small // batch_size,\n",
    "            callbacks = callbacks_best,\n",
    "            use_multiprocessing = True,\n",
    "            workers = 4)"
   ]
  },
  {
   "cell_type": "markdown",
   "metadata": {
    "colab_type": "text",
    "id": "cUAdxsZe10oD"
   },
   "source": [
    "Create one figure with two axes. In one of them, plot the loss in the training and the validation datasets. In the other one, plot the accuracy in the training and validation datasets."
   ]
  },
  {
   "cell_type": "code",
   "execution_count": 17,
   "metadata": {
    "colab": {},
    "colab_type": "code",
    "id": "UweRh_AM10oE"
   },
   "outputs": [
    {
     "data": {
      "image/png": "[encoded data removed]",
      "text/plain": [
       "<Figure size 1152x288 with 2 Axes>"
      ]
     },
     "metadata": {},
     "output_type": "display_data"
    }
   ],
   "source": [
    "fig, ax = plt.subplots(1,2, figsize = (16,4))\n",
    "ax[0].plot(best_history.history['loss'], label = 'Training')\n",
    "ax[0].plot(best_history.history['val_loss'], label = 'Validation')\n",
    "ax[0].set_title('Best model - loss')\n",
    "ax[0].set_xlabel('Epoch')\n",
    "ax[0].set_ylabel('Loss')\n",
    "ax[0].legend();\n",
    "\n",
    "ax[1].plot(best_history.history['acc'], label = 'Training')\n",
    "ax[1].plot(best_history.history['val_acc'], label = 'Validation')\n",
    "ax[1].set_title('Best model - accuracy')\n",
    "ax[1].set_xlabel('Epoch')\n",
    "ax[1].set_ylabel('Accuracy')\n",
    "ax[1].legend();"
   ]
  },
  {
   "cell_type": "markdown",
   "metadata": {
    "colab_type": "text",
    "id": "HxWXUWel10oH"
   },
   "source": [
    "[Save your model](https://keras.io/getting-started/faq/#how-can-i-save-a-keras-model) to disk as a HDF5 file (the architecture, weights and optimizer state). This is simply so you can use it again easily in the later parts of the notebook, without having to keep it in memory or re-training it. The actual `.h5` files you create are not relevant to your ping-pong submission."
   ]
  },
  {
   "cell_type": "code",
   "execution_count": 18,
   "metadata": {
    "colab": {},
    "colab_type": "code",
    "id": "c1Z0jBMJ10oI"
   },
   "outputs": [],
   "source": [
    "best_model.save('best_model.h5')"
   ]
  },
  {
   "cell_type": "markdown",
   "metadata": {
    "colab_type": "text",
    "id": "5gMhlELS10oL"
   },
   "source": [
    "---\n",
    "## 5. Transfer Learning"
   ]
  },
  {
   "cell_type": "markdown",
   "metadata": {
    "colab_type": "text",
    "id": "rvlHorEl10oM"
   },
   "source": [
    "Now, instead of trying to come up with a good architecture for this task, we'll use the VGG16 architecture, but with the top layers removed (the fully connected + classification layers). We'll substitute them with a single fully connected layer, and a classification layer that makes sense for our problem.\n",
    "\n",
    "However, this model has a very high capacity, and will probably suffer a lot from overfitting if we try to train it from scratch, using only our small subset of data. Instead, we'll start the optimization with the weights obtained after training VGG16 on the ImageNet dataset.\n",
    "\n",
    "Start by loading the VGG16 model without the top layers, from the `applications` submodule from Keras. Make sure to also load the weights obtained from the ImageNet pretraining."
   ]
  },
  {
   "cell_type": "code",
   "execution_count": 31,
   "metadata": {
    "colab": {},
    "colab_type": "code",
    "id": "MPhpbk8B10oM"
   },
   "outputs": [],
   "source": [
    "vgg_cnn_layers = VGG16(include_top=False, weights='imagenet', input_shape=(img_size, img_size, 3))"
   ]
  },
  {
   "cell_type": "markdown",
   "metadata": {
    "colab_type": "text",
    "id": "-GhhFUZu10oP"
   },
   "source": [
    "Create a new model with the layers you want to add on top of VGG. The kernels and bias in these layers should be initialized randomly."
   ]
  },
  {
   "cell_type": "code",
   "execution_count": 32,
   "metadata": {
    "colab": {},
    "colab_type": "code",
    "id": "fCzSzmfg10oQ"
   },
   "outputs": [],
   "source": [
    "top_layers = Sequential()\n",
    "top_layers.add(Flatten())\n",
    "top_layers.add(Dense(128, activation = 'relu'))\n",
    "top_layers.add(Dense(1, activation = 'sigmoid'))"
   ]
  },
  {
   "cell_type": "markdown",
   "metadata": {
    "colab_type": "text",
    "id": "bcH5FAmf10oT"
   },
   "source": [
    "Now add the new model on top of VGG.\n",
    "\n",
    "Tip:\n",
    "- The VGG model you loaded from the `applications` submodule is from the [`Model`](https://keras.io/models/model/) class, not the `Sequential` class, so it doesn't have some methods you're used to (like `add`, for instance). It might be helpful to read [this introduction to the Model class](https://keras.io/getting-started/functional-api-guide/)."
   ]
  },
  {
   "cell_type": "code",
   "execution_count": 33,
   "metadata": {
    "colab": {},
    "colab_type": "code",
    "id": "F77gtMAU10oT"
   },
   "outputs": [],
   "source": [
    "vgg_model = Model(inputs=vgg_cnn_layers.input, outputs=top_layers(vgg_cnn_layers.output))"
   ]
  },
  {
   "cell_type": "markdown",
   "metadata": {
    "colab_type": "text",
    "id": "1maRK86B10oW"
   },
   "source": [
    "### 5.1 Using VGG features"
   ]
  },
  {
   "cell_type": "markdown",
   "metadata": {
    "colab_type": "text",
    "id": "hGtYVmJU10oY"
   },
   "source": [
    "Now we're almost ready to train the new model. However, since the top layers of this architecture are being initialized randomly, it's sometimes possible for them to generate large gradients that can wreck the pretraining of the bottom layers. To avoid this, freeze all the VGG layers in your architecture (i.e. signal to the optimizer that these should not be changed during optimization) by setting the `trainable` attribute of them to `False`."
   ]
  },
  {
   "cell_type": "code",
   "execution_count": 34,
   "metadata": {
    "colab": {},
    "colab_type": "code",
    "id": "GXWXJVKe10oY"
   },
   "outputs": [],
   "source": [
    "for layer in vgg_model.layers[:-1]:\n",
    "    layer.trainable = False"
   ]
  },
  {
   "cell_type": "markdown",
   "metadata": {
    "colab_type": "text",
    "id": "va7zkCns10oc"
   },
   "source": [
    "Create the callbacks (if any) you would like to use, compile the model and train it."
   ]
  },
  {
   "cell_type": "code",
   "execution_count": 35,
   "metadata": {
    "colab": {},
    "colab_type": "code",
    "id": "qM3Sh89F10oc"
   },
   "outputs": [
    {
     "name": "stdout",
     "output_type": "stream",
     "text": [
      "Epoch 1/50\n",
      "54/54 [==============================] - 18s 328ms/step - loss: 0.4288 - acc: 0.7948 - val_loss: 0.3046 - val_acc: 0.8607\n",
      "Epoch 2/50\n",
      "54/54 [==============================] - 16s 299ms/step - loss: 0.2472 - acc: 0.8908 - val_loss: 0.3123 - val_acc: 0.8527\n",
      "Epoch 3/50\n",
      "54/54 [==============================] - 16s 301ms/step - loss: 0.1871 - acc: 0.9285 - val_loss: 0.3153 - val_acc: 0.8667\n",
      "Epoch 4/50\n",
      "54/54 [==============================] - 16s 296ms/step - loss: 0.1529 - acc: 0.9445 - val_loss: 0.3006 - val_acc: 0.8727\n",
      "Epoch 5/50\n",
      "54/54 [==============================] - 16s 297ms/step - loss: 0.1255 - acc: 0.9567 - val_loss: 0.3889 - val_acc: 0.8573\n",
      "\bEpoch 6/50\n",
      "54/54 [==============================] - 16s 294ms/step - loss: 0.0950 - acc: 0.9670 - val_loss: 0.3237 - val_acc: 0.8787\n",
      "Epoch 6/50\n",
      "Epoch 7/50\n",
      "53/54 [============================>.] - ETA: 0s - loss: 0.0627 - acc: 0.9864Epoch 7/50\n",
      "54/54 [==============================] - 16s 297ms/step - loss: 0.0634 - acc: 0.9858 - val_loss: 0.3421 - val_acc: 0.8733\n"
     ]
    }
   ],
   "source": [
    "# Callbacks - VGG model\n",
    "early_stopping = EarlyStopping(monitor='val_loss', patience=3)\n",
    "\n",
    "callbacks_vgg = [early_stopping]\n",
    "\n",
    "vgg_model.compile(loss='binary_crossentropy',\n",
    "              optimizer='adam',\n",
    "              metrics=['accuracy'])\n",
    "\n",
    "vgg_history = vgg_model.fit_generator(\n",
    "            small_train_generator,\n",
    "            steps_per_epoch = training_samples_small // batch_size,\n",
    "            epochs = 50,\n",
    "            validation_data = small_validation_generator,\n",
    "            validation_steps= validation_samples_small // batch_size,\n",
    "            callbacks = callbacks_vgg,\n",
    "            use_multiprocessing = True,\n",
    "            workers = 4)"
   ]
  },
  {
   "cell_type": "markdown",
   "metadata": {
    "colab_type": "text",
    "id": "IGB2bwo210of"
   },
   "source": [
    "Create one figure with two axes. In one of them, plot the loss in the training and the validation datasets. In the other one, plot the accuracy in the training and validation datasets."
   ]
  },
  {
   "cell_type": "code",
   "execution_count": 36,
   "metadata": {
    "colab": {},
    "colab_type": "code",
    "id": "KAk5QeNT10og"
   },
   "outputs": [
    {
     "data": {
      "image/png": "[encoded data removed]",
      "text/plain": [
       "<Figure size 1152x288 with 2 Axes>"
      ]
     },
     "metadata": {},
     "output_type": "display_data"
    }
   ],
   "source": [
    "fig, ax = plt.subplots(1,2, figsize = (16,4))\n",
    "ax[0].plot(vgg_history.history['loss'], label = 'Training')\n",
    "ax[0].plot(vgg_history.history['val_loss'], label = 'Validation')\n",
    "ax[0].set_title('VGG model - loss')\n",
    "ax[0].set_xlabel('Epoch')\n",
    "ax[0].set_ylabel('Loss')\n",
    "ax[0].legend();\n",
    "\n",
    "ax[1].plot(vgg_history.history['acc'], label = 'Training')\n",
    "ax[1].plot(vgg_history.history['val_acc'], label = 'Validation')\n",
    "ax[1].set_title('VGG model - accuracy')\n",
    "ax[1].set_xlabel('Epoch')\n",
    "ax[1].set_ylabel('Accuracy')\n",
    "ax[1].legend();"
   ]
  },
  {
   "cell_type": "markdown",
   "metadata": {
    "colab_type": "text",
    "id": "6YYWL65C10oj"
   },
   "source": [
    "How does the model perform, compared to the model obtained in step 4? Create one plot with the training accuracy and another with the validation accuracy of the two scenarios."
   ]
  },
  {
   "cell_type": "code",
   "execution_count": 37,
   "metadata": {
    "colab": {},
    "colab_type": "code",
    "id": "Dh91WCXB10ok"
   },
   "outputs": [
    {
     "data": {
      "image/png": "[encoded data removed]",
      "text/plain": [
       "<Figure size 1152x288 with 2 Axes>"
      ]
     },
     "metadata": {},
     "output_type": "display_data"
    }
   ],
   "source": [
    "fig, ax = plt.subplots(1,2, figsize = (16,4))\n",
    "ax[0].plot(best_history.history['acc'], label = 'Best model')\n",
    "ax[0].plot(vgg_history.history['acc'], label = 'VGG model')\n",
    "ax[0].set_title('Training accuracy')\n",
    "ax[0].set_xlabel('Epoch')\n",
    "ax[0].set_ylabel('Accuracy')\n",
    "ax[0].legend();\n",
    "\n",
    "ax[1].plot(best_history.history['val_acc'], label = 'Best model')\n",
    "ax[1].plot(vgg_history.history['val_acc'], label = 'VGG model')\n",
    "ax[1].set_title('Validation accuracy')\n",
    "ax[1].set_xlabel('Epoch')\n",
    "ax[1].set_ylabel('Accuracy')\n",
    "ax[1].legend();"
   ]
  },
  {
   "cell_type": "markdown",
   "metadata": {
    "colab_type": "text",
    "id": "YpCdOu-a10on"
   },
   "source": [
    "Compare these results. Which approach worked best, starting from scratch or doing transfer learning? Explain how you evaluated this."
   ]
  },
  {
   "cell_type": "markdown",
   "metadata": {
    "colab_type": "text",
    "id": "VtVAOADu10on"
   },
   "source": [
    "**Your answer:** We can clearly see from the figures above that we get an increased accuracy in the validation set when we are using transfer learning. This is ultimately the measure that we are trying to increase, which indicates that the model using transfer learning is the preferred one. However, we can see that the gap in accuracy between the training and the validation dataset are larger for this model, which is an indication of overfitting."
   ]
  },
  {
   "cell_type": "markdown",
   "metadata": {
    "colab_type": "text",
    "id": "WjdPloL810op"
   },
   "source": [
    "What are the main differences between the ImageNet dataset and the Dogs vs Cats dataset we used?"
   ]
  },
  {
   "cell_type": "markdown",
   "metadata": {
    "colab_type": "text",
    "id": "mVsRxu4v10op"
   },
   "source": [
    "**Your answer:** The ImageNet is a more diverse dataset, containing a lot more classes. It is also several orders of magnitude larger."
   ]
  },
  {
   "cell_type": "markdown",
   "metadata": {
    "colab_type": "text",
    "id": "LMsMAcLX10oq"
   },
   "source": [
    "Even though there are considerable differences between these datasets, why is it that transfer learning is still a good idea?"
   ]
  },
  {
   "cell_type": "markdown",
   "metadata": {
    "colab_type": "text",
    "id": "f_E57U1i10or"
   },
   "source": [
    "**Your answer:** A model trained on ImageNet will still have learned features relevant when classifying cats and dogs. Further, the dataset also contains pictures of cats and dogs and multiple classes of the two. In other words, ImageNet is a more general dataset and VGG is trying to solve a more general classification task, which we can make use of in our more specific case."
   ]
  },
  {
   "cell_type": "markdown",
   "metadata": {
    "colab_type": "text",
    "id": "YutZ5y1T10or"
   },
   "source": [
    "In which scenario would transfer learning be unsuitable?"
   ]
  },
  {
   "cell_type": "markdown",
   "metadata": {
    "colab_type": "text",
    "id": "XueG2eTI10os"
   },
   "source": [
    "**Your answer:** If the dataset is entirely different from the one we want to use for training, or if the task at hand between the cases differ substantially. In these cases we might not obtain any relevant features regarding our classification problem by using transfer learning."
   ]
  },
  {
   "cell_type": "markdown",
   "metadata": {
    "colab_type": "text",
    "id": "x0Qllohm10ot"
   },
   "source": [
    "Save the model to a HDF5 file."
   ]
  },
  {
   "cell_type": "code",
   "execution_count": 38,
   "metadata": {
    "colab": {},
    "colab_type": "code",
    "id": "_NZH51A410ot"
   },
   "outputs": [],
   "source": [
    "vgg_model.save('trans_learning_top_only.h5')"
   ]
  },
  {
   "cell_type": "markdown",
   "metadata": {
    "colab_type": "text",
    "id": "OfK-ySuF10ow"
   },
   "source": [
    "### 5.2 Fine-tuning"
   ]
  },
  {
   "cell_type": "markdown",
   "metadata": {
    "colab_type": "text",
    "id": "NhfqmyHU10ox"
   },
   "source": [
    "Now that we have a better starting point for the top layers, we can train the entire network. Unfreeze the bottom layers.\n",
    "\n",
    "Tip:\n",
    "- Always recompile your model after changing anything in it!"
   ]
  },
  {
   "cell_type": "code",
   "execution_count": 46,
   "metadata": {
    "colab": {},
    "colab_type": "code",
    "id": "raJiDt5d10oy"
   },
   "outputs": [],
   "source": [
    "vgg_full_model = load_model('trans_learning_top_only.h5')\n",
    "\n",
    "for layer in vgg_full_model.layers:\n",
    "    layer.trainable = True"
   ]
  },
  {
   "cell_type": "markdown",
   "metadata": {
    "colab_type": "text",
    "id": "_hh-lpWi10o1"
   },
   "source": [
    "Create the callbacks (if any) you would like to use for this training here, compile the model, and train it.\n",
    "\n",
    "Tip:\n",
    "- Even though we do have a decent starting point for the optimization, it's still possible that a bad hyper-parameter choice wrecks the preinitialization. Make sure to use a small learning rate for this step."
   ]
  },
  {
   "cell_type": "code",
   "execution_count": 47,
   "metadata": {
    "colab": {},
    "colab_type": "code",
    "id": "vp44sTef10o2"
   },
   "outputs": [
    {
     "name": "stdout",
     "output_type": "stream",
     "text": [
      "Epoch 1/50\n",
      "54/54 [==============================] - 42s 769ms/step - loss: 0.0835 - acc: 0.9677 - val_loss: 0.3423 - val_acc: 0.9000\n",
      "Epoch 2/50\n",
      "54/54 [==============================] - 36s 675ms/step - loss: 0.0267 - acc: 0.9915 - val_loss: 0.3078 - val_acc: 0.9087\n",
      "Epoch 3/50\n",
      "54/54 [==============================] - 36s 673ms/step - loss: 0.0078 - acc: 0.9986 - val_loss: 0.3389 - val_acc: 0.9047\n",
      "Epoch 4/50\n",
      "53/54 [============================>.] - ETA: 0s - loss: 0.0039 - acc: 0.9991Epoch 4/50\n",
      "54/54 [==============================] - 36s 673ms/step - loss: 0.0038 - acc: 0.9991 - val_loss: 0.3498 - val_acc: 0.9060\n",
      "Epoch 5/50\n",
      "54/54 [==============================] - 36s 669ms/step - loss: 8.9905e-04 - acc: 1.0000 - val_loss: 0.3435 - val_acc: 0.9220\n"
     ]
    }
   ],
   "source": [
    "# Callbacks - VGG model\n",
    "early_stopping = EarlyStopping(monitor='val_loss', patience=3)\n",
    "\n",
    "callbacks_vgg_full = [early_stopping]\n",
    "\n",
    "vgg_full_model.compile(loss='binary_crossentropy',\n",
    "              optimizer=Adam(lr = 0.00002),\n",
    "              metrics=['accuracy'])\n",
    "\n",
    "vgg_full_history = vgg_full_model.fit_generator(\n",
    "            small_train_generator,\n",
    "            steps_per_epoch = training_samples_small // batch_size,\n",
    "            epochs = 50,\n",
    "            validation_data = small_validation_generator,\n",
    "            validation_steps= validation_samples_small // batch_size,\n",
    "            callbacks = callbacks_vgg_full,\n",
    "            use_multiprocessing = True,\n",
    "            workers = 4)"
   ]
  },
  {
   "cell_type": "markdown",
   "metadata": {
    "colab_type": "text",
    "id": "x3rb2rHW10o9"
   },
   "source": [
    "How does the model perform, compared to the model trained with freezed layers? Create one plot with the training accuracy and another with the validation accuracy of the two scenarios."
   ]
  },
  {
   "cell_type": "code",
   "execution_count": 48,
   "metadata": {
    "colab": {},
    "colab_type": "code",
    "id": "bB3nKmu710o-"
   },
   "outputs": [
    {
     "data": {
      "image/png": "[encoded data removed]",
      "text/plain": [
       "<Figure size 1152x288 with 2 Axes>"
      ]
     },
     "metadata": {},
     "output_type": "display_data"
    }
   ],
   "source": [
    "fig, ax = plt.subplots(1,2, figsize = (16,4))\n",
    "ax[0].plot(vgg_full_history.history['acc'], label = 'VGG unfrozen')\n",
    "ax[0].plot(vgg_history.history['acc'], label = 'VGG frozen')\n",
    "ax[0].set_title('Training accuracy')\n",
    "ax[0].set_xlabel('Epoch')\n",
    "ax[0].set_ylabel('Accuracy')\n",
    "ax[0].legend();\n",
    "\n",
    "ax[1].plot(vgg_full_history.history['val_acc'], label = 'VGG unfrozen')\n",
    "ax[1].plot(vgg_history.history['val_acc'], label = 'VGG frozen')\n",
    "ax[1].set_title('Validation accuracy')\n",
    "ax[1].set_xlabel('Epoch')\n",
    "ax[1].set_ylabel('Accuracy')\n",
    "ax[1].legend();"
   ]
  },
  {
   "cell_type": "markdown",
   "metadata": {
    "colab_type": "text",
    "id": "3mi0RDw710pB"
   },
   "source": [
    "Did the model's performance improve? Why (why not)?"
   ]
  },
  {
   "cell_type": "markdown",
   "metadata": {
    "colab_type": "text",
    "id": "NFE_ZzuR10pD"
   },
   "source": [
    "**Your answer:** Yes, the model improved. We can see that we are able to further increase our accuracy on the validation dataset. This is because we are able to finely tune the earlier parameters in the VGG convolutional layers to better match the specifics of our dataset and our classification task."
   ]
  },
  {
   "cell_type": "markdown",
   "metadata": {
    "colab_type": "text",
    "id": "bbrk0lsE10pD"
   },
   "source": [
    "Save the model to a HDF5 file."
   ]
  },
  {
   "cell_type": "code",
   "execution_count": 49,
   "metadata": {
    "colab": {},
    "colab_type": "code",
    "id": "X9ZvHtVP10pF"
   },
   "outputs": [],
   "source": [
    "vgg_full_model.save('trans_learning_full.h5')"
   ]
  },
  {
   "cell_type": "markdown",
   "metadata": {
    "colab_type": "text",
    "id": "PvQ56jSZ10pK"
   },
   "source": [
    "### 5.3 Improving the top model (optional)"
   ]
  },
  {
   "cell_type": "markdown",
   "metadata": {
    "colab_type": "text",
    "id": "ta5SUInM10pL"
   },
   "source": [
    "Improve the architecture for the layers you add on top of VGG16. Try different ideas, and consider comparing them using tensorboard. When you're happy with one architecture, copy it in the cell below and train it here."
   ]
  },
  {
   "cell_type": "code",
   "execution_count": 50,
   "metadata": {
    "colab": {},
    "colab_type": "code",
    "id": "UVZHV0XN10pM"
   },
   "outputs": [
    {
     "name": "stdout",
     "output_type": "stream",
     "text": [
      "\n",
      "Training top layers:\n",
      "\n",
      "Epoch 1/50\n",
      "54/54 [==============================] - 19s 349ms/step - loss: 10.4790 - acc: 0.7925 - val_loss: 4.0259 - val_acc: 0.8300\n",
      "Epoch 2/50\n",
      "54/54 [==============================] - 16s 301ms/step - loss: 2.6821 - acc: 0.8569 - val_loss: 1.7130 - val_acc: 0.8547\n",
      "Epoch 3/50\n",
      "53/54 [============================>.] - ETA: 0s - loss: 1.2932 - acc: 0.8256Epoch 3/50\n",
      "54/54 [==============================] - 16s 299ms/step - loss: 1.2861 - acc: 0.8262 - val_loss: 0.9022 - val_acc: 0.8673\n",
      "Epoch 4/50\n",
      "54/54 [==============================] - 16s 301ms/step - loss: 0.7505 - acc: 0.8544 - val_loss: 0.6369 - val_acc: 0.8513\n",
      "Epoch 5/50\n",
      "54/54 [==============================] - 16s 303ms/step - loss: 0.5853 - acc: 0.8495 - val_loss: 0.5972 - val_acc: 0.7973\n",
      "Epoch 6/50\n",
      "54/54 [==============================] - 16s 300ms/step - loss: 0.5232 - acc: 0.8542 - val_loss: 0.5657 - val_acc: 0.8040\n",
      "Epoch 7/50\n",
      "54/54 [==============================] - 16s 298ms/step - loss: 0.5343 - acc: 0.8314 - val_loss: 0.4821 - val_acc: 0.8627\n",
      "Epoch 8/50\n",
      "54/54 [==============================] - 16s 298ms/step - loss: 0.4781 - acc: 0.8574 - val_loss: 0.4743 - val_acc: 0.8587\n",
      "Epoch 9/50\n",
      "53/54 [============================>.] - ETA: 0s - loss: 0.4697 - acc: 0.8590Epoch 9/50\n",
      "54/54 [==============================] - 16s 299ms/step - loss: 0.4710 - acc: 0.8587 - val_loss: 0.4636 - val_acc: 0.8700\n",
      "Epoch 10/50\n",
      "54/54 [==============================] - 16s 299ms/step - loss: 0.4729 - acc: 0.8559 - val_loss: 0.4698 - val_acc: 0.8593\n",
      "Epoch 11/50\n",
      "54/54 [==============================] - 16s 297ms/step - loss: 0.4920 - acc: 0.8483 - val_loss: 0.4687 - val_acc: 0.8520\n",
      "Epoch 12/50\n",
      "54/54 [==============================] - 16s 298ms/step - loss: 0.4541 - acc: 0.8671 - val_loss: 0.4500 - val_acc: 0.8640\n",
      "Epoch 13/50\n",
      "54/54 [==============================] - 16s 295ms/step - loss: 0.4619 - acc: 0.8545 - val_loss: 0.4542 - val_acc: 0.8687\n",
      "Epoch 14/50\n",
      "54/54 [==============================] - 17s 312ms/step - loss: 0.4618 - acc: 0.8533 - val_loss: 0.4880 - val_acc: 0.8453\n",
      "Epoch 15/50\n",
      "54/54 [==============================] - 16s 300ms/step - loss: 0.4590 - acc: 0.8573 - val_loss: 0.4390 - val_acc: 0.8700\n",
      "Epoch 16/50\n",
      "54/54 [==============================] - 16s 297ms/step - loss: 0.4245 - acc: 0.8765 - val_loss: 0.4524 - val_acc: 0.8567\n",
      "Epoch 17/50\n",
      "54/54 [==============================] - 16s 301ms/step - loss: 0.4413 - acc: 0.8626 - val_loss: 0.4411 - val_acc: 0.8653\n",
      "Epoch 18/50\n",
      "54/54 [==============================] - 16s 296ms/step - loss: 0.4284 - acc: 0.8766 - val_loss: 0.4301 - val_acc: 0.8760\n",
      "Epoch 19/50\n",
      "54/54 [==============================] - 16s 298ms/step - loss: 0.4188 - acc: 0.8795 - val_loss: 0.4406 - val_acc: 0.8627\n",
      "Epoch 20/50\n",
      "54/54 [==============================] - 16s 297ms/step - loss: 0.4580 - acc: 0.8609 - val_loss: 0.4707 - val_acc: 0.8467\n",
      "Epoch 21/50\n",
      "54/54 [==============================] - 16s 299ms/step - loss: 0.4202 - acc: 0.8776 - val_loss: 0.5138 - val_acc: 0.8033\n",
      "\n",
      "Training entire model:\n",
      "\n",
      "Epoch 1/50\n",
      "54/54 [==============================] - 42s 779ms/step - loss: 0.3105 - acc: 0.9230 - val_loss: 0.2748 - val_acc: 0.9367\n",
      "Epoch 2/50\n",
      "54/54 [==============================] - 36s 675ms/step - loss: 0.1925 - acc: 0.9722 - val_loss: 0.2924 - val_acc: 0.9320\n",
      "Epoch 3/50\n",
      "54/54 [==============================] - 36s 673ms/step - loss: 0.1491 - acc: 0.9892 - val_loss: 0.3056 - val_acc: 0.9300\n",
      "Epoch 4/50\n",
      "54/54 [==============================] - 37s 680ms/step - loss: 0.1244 - acc: 0.9957 - val_loss: 0.2684 - val_acc: 0.9440\n",
      "Epoch 5/50\n",
      "53/54 [============================>.] - ETA: 0s - loss: 0.1095 - acc: 0.9979Epoch 5/50\n",
      "54/54 [==============================] - 37s 676ms/step - loss: 0.1093 - acc: 0.9980 - val_loss: 0.3263 - val_acc: 0.9367\n",
      "Epoch 6/50\n",
      "53/54 [============================>.] - ETA: 0s - loss: 0.1078 - acc: 0.9973Epoch 6/50\n",
      "54/54 [==============================] - 37s 677ms/step - loss: 0.1077 - acc: 0.9974 - val_loss: 0.2946 - val_acc: 0.9400\n",
      "Epoch 7/50\n",
      "54/54 [==============================] - 37s 678ms/step - loss: 0.0961 - acc: 1.0000 - val_loss: 0.2908 - val_acc: 0.9440\n"
     ]
    }
   ],
   "source": [
    "# VGG - convolutional layers\n",
    "vgg_cnn_layers = VGG16(include_top=False, weights='imagenet', input_shape=(img_size, img_size, 3))\n",
    "\n",
    "# Our top feed forward model\n",
    "top_layers = Sequential()\n",
    "top_layers.add(Flatten())\n",
    "top_layers.add(Dense(128, activation = 'relu', kernel_regularizer = regularizers.l2(0.1)))\n",
    "top_layers.add(Dense(64, activation = 'relu', kernel_regularizer = regularizers.l2(0.1)))\n",
    "top_layers.add(Dense(1, activation = 'sigmoid'))\n",
    "\n",
    "# Merge\n",
    "vgg_best_model = Model(inputs=vgg_cnn_layers.input, outputs=top_layers(vgg_cnn_layers.output))\n",
    "\n",
    "# Freeze VGG convolutional layers\n",
    "for layer in vgg_best_model.layers[:-1]:\n",
    "    layer.trainable = False\n",
    "\n",
    "# Callbacks\n",
    "early_stopping = EarlyStopping(monitor='val_loss', patience=3)\n",
    "callbacks = [early_stopping]\n",
    "\n",
    "# Compile and train top layers\n",
    "vgg_best_model.compile(loss='binary_crossentropy',\n",
    "          optimizer='adam',\n",
    "          metrics=['accuracy'])\n",
    "\n",
    "print('\\nTraining top layers:\\n')\n",
    "vgg_best_model.fit_generator(\n",
    "        small_train_generator,\n",
    "        steps_per_epoch = training_samples_small // batch_size,\n",
    "        epochs = 50,\n",
    "        validation_data = small_validation_generator,\n",
    "        validation_steps= validation_samples_small // batch_size,\n",
    "        callbacks = callbacks,\n",
    "        use_multiprocessing = True,\n",
    "        workers = 4)\n",
    "\n",
    "# Unfreeze VGG convolutional layers\n",
    "for layer in vgg_best_model.layers:\n",
    "    layer.trainable = True\n",
    "\n",
    "# Compile and train full model\n",
    "vgg_best_model.compile(loss='binary_crossentropy',\n",
    "            optimizer=Adam(0.00002),\n",
    "            metrics=['accuracy'])\n",
    "\n",
    "print('\\nTraining entire model:\\n')\n",
    "vgg_best_history = vgg_best_model.fit_generator(\n",
    "        small_train_generator,\n",
    "        steps_per_epoch = training_samples_small // batch_size,\n",
    "        epochs = 50,\n",
    "        validation_data = small_validation_generator,\n",
    "        validation_steps= validation_samples_small // batch_size,\n",
    "        callbacks = callbacks,\n",
    "        use_multiprocessing = True,\n",
    "        workers = 4)"
   ]
  },
  {
   "cell_type": "markdown",
   "metadata": {
    "colab_type": "text",
    "id": "RfrW67pZ10pP"
   },
   "source": [
    "How does the model perform, compared to the model trained in step 5.2? Create one plot with the training accuracy and another with the validation accuracy of the two scenarios."
   ]
  },
  {
   "cell_type": "code",
   "execution_count": 51,
   "metadata": {
    "colab": {},
    "colab_type": "code",
    "id": "kwubxIHF10pQ"
   },
   "outputs": [
    {
     "data": {
      "image/png": "[encoded data removed]",
      "text/plain": [
       "<Figure size 1152x288 with 2 Axes>"
      ]
     },
     "metadata": {},
     "output_type": "display_data"
    }
   ],
   "source": [
    "fig, ax = plt.subplots(1,2, figsize = (16,4))\n",
    "ax[0].plot(vgg_full_history.history['acc'], label = 'VGG - first top model')\n",
    "ax[0].plot(vgg_best_history.history['acc'], label = 'VGG - improved top model')\n",
    "ax[0].set_title('Training accuracy')\n",
    "ax[0].set_xlabel('Epoch')\n",
    "ax[0].set_ylabel('Accuracy')\n",
    "ax[0].legend();\n",
    "\n",
    "ax[1].plot(vgg_full_history.history['val_acc'], label = 'VGG - first top model')\n",
    "ax[1].plot(vgg_best_history.history['val_acc'], label = 'VGG - improved top model')\n",
    "ax[1].set_title('Validation accuracy')\n",
    "ax[1].set_xlabel('Epoch')\n",
    "ax[1].set_ylabel('Accuracy')\n",
    "ax[1].legend();"
   ]
  },
  {
   "cell_type": "markdown",
   "metadata": {
    "colab_type": "text",
    "id": "29003E5E10pS"
   },
   "source": [
    "Save the model to a HDF5 file."
   ]
  },
  {
   "cell_type": "code",
   "execution_count": 53,
   "metadata": {
    "colab": {},
    "colab_type": "code",
    "id": "pahpW_lm10pT"
   },
   "outputs": [],
   "source": [
    "vgg_best_model.save('best_trans_learning.h5')"
   ]
  },
  {
   "cell_type": "markdown",
   "metadata": {
    "colab_type": "text",
    "id": "8a6H6AAl10pY"
   },
   "source": [
    "## 6. Final training"
   ]
  },
  {
   "cell_type": "markdown",
   "metadata": {
    "colab_type": "text",
    "id": "sc1XUd0T10pZ"
   },
   "source": [
    "Now we'll train the model that achieved the best performance so far using the entire dataset.\n",
    "\n",
    "**Note**: start the optimization with the weights you obtained training in the smaller subset, i.e. *not* from scratch."
   ]
  },
  {
   "cell_type": "markdown",
   "metadata": {
    "colab_type": "text",
    "id": "114e2TxQ10pZ"
   },
   "source": [
    "First, create two new data generators, one for training samples and one for validation samples. This time, they'll load data from the folders for the entire dataset."
   ]
  },
  {
   "cell_type": "code",
   "execution_count": 4,
   "metadata": {
    "colab": {},
    "colab_type": "code",
    "id": "3CjIWJ0Z10pa"
   },
   "outputs": [
    {
     "name": "stdout",
     "output_type": "stream",
     "text": [
      "Found 20000 images belonging to 2 classes.\n",
      "Found 5000 images belonging to 2 classes.\n"
     ]
    }
   ],
   "source": [
    "model = load_model('best_trans_learning.h5')\n",
    "\n",
    "# Full datasets\n",
    "training_samples = 20000\n",
    "validation_samples = 5000\n",
    "\n",
    "train_generator = datagen.flow_from_directory(\n",
    "        train_path,\n",
    "        target_size= (img_size,img_size),\n",
    "        batch_size=batch_size,\n",
    "        class_mode='binary')\n",
    "\n",
    "validation_generator = datagen.flow_from_directory(\n",
    "        val_path,\n",
    "        target_size= (img_size,img_size),\n",
    "        batch_size=batch_size,\n",
    "        class_mode='binary')"
   ]
  },
  {
   "cell_type": "markdown",
   "metadata": {
    "colab_type": "text",
    "id": "YhnGMcgI10pd"
   },
   "source": [
    "Create the callbacks you would like to use and train your model. This optimization might take a long time, so TensorBoard is advised ;)."
   ]
  },
  {
   "cell_type": "code",
   "execution_count": 61,
   "metadata": {
    "colab": {},
    "colab_type": "code",
    "id": "EfQEcbSK10pd"
   },
   "outputs": [
    {
     "name": "stdout",
     "output_type": "stream",
     "text": [
      "Epoch 1/50\n",
      "312/312 [==============================] - 202s 648ms/step - loss: 0.1908 - acc: 0.9603 - val_loss: 0.1575 - val_acc: 0.9714\n",
      "Epoch 2/50\n",
      "312/312 [==============================] - 200s 640ms/step - loss: 0.1273 - acc: 0.9805 - val_loss: 0.1626 - val_acc: 0.9596\n",
      "Epoch 3/50\n",
      "312/312 [==============================] - 199s 639ms/step - loss: 0.0976 - acc: 0.9886 - val_loss: 0.1340 - val_acc: 0.9716\n",
      "Epoch 4/50\n",
      "312/312 [==============================] - 199s 638ms/step - loss: 0.0752 - acc: 0.9947 - val_loss: 0.1226 - val_acc: 0.9746\n",
      "Epoch 5/50\n",
      "312/312 [==============================] - 199s 639ms/step - loss: 0.0639 - acc: 0.9964 - val_loss: 0.1311 - val_acc: 0.9702\n",
      "Epoch 6/50\n",
      "312/312 [==============================] - 199s 638ms/step - loss: 0.0537 - acc: 0.9974 - val_loss: 0.1184 - val_acc: 0.9736\n",
      "Epoch 7/50\n",
      "312/312 [==============================] - 199s 638ms/step - loss: 0.0464 - acc: 0.9978 - val_loss: 0.1145 - val_acc: 0.9736\n",
      "Epoch 8/50\n",
      "311/312 [============================>.] - ETA: 0s - loss: 0.0443 - acc: 0.9974Epoch 8/50\n",
      "312/312 [==============================] - 199s 638ms/step - loss: 0.0442 - acc: 0.9974 - val_loss: 0.1233 - val_acc: 0.9722\n",
      "Epoch 9/50\n",
      "312/312 [==============================] - 198s 636ms/step - loss: 0.0341 - acc: 0.9991 - val_loss: 0.1155 - val_acc: 0.9722\n",
      "Epoch 10/50\n",
      "312/312 [==============================] - 199s 637ms/step - loss: 0.0358 - acc: 0.9971 - val_loss: 0.1271 - val_acc: 0.9696\n"
     ]
    }
   ],
   "source": [
    "# Callbacks\n",
    "early_stopping = EarlyStopping(monitor='val_loss', patience=3)\n",
    "tb = TensorBoard(log_dir = './logs/final_model')\n",
    "callbacks = [early_stopping, tb]\n",
    "\n",
    "model.compile(loss='binary_crossentropy',\n",
    "            optimizer=Adam(0.00002),\n",
    "            metrics=['accuracy'])\n",
    "\n",
    "history = model.fit_generator(\n",
    "        train_generator,\n",
    "        steps_per_epoch = training_samples // batch_size,\n",
    "        epochs = 50,\n",
    "        validation_data = validation_generator,\n",
    "        validation_steps= validation_samples // batch_size,\n",
    "        callbacks = callbacks,\n",
    "        use_multiprocessing = True,\n",
    "        workers = 4)\n",
    "\n",
    "model.save('full_dataset_best_model.h5')"
   ]
  },
  {
   "cell_type": "markdown",
   "metadata": {
    "colab_type": "text",
    "id": "9cQ1T1eh10pg"
   },
   "source": [
    "How does the model perform now when trained on the entire dataset, compared to when only trained on the smaller subset of data? Create one plot with the training accuracy and another with the validation accuracy of the two scenarios."
   ]
  },
  {
   "cell_type": "code",
   "execution_count": 63,
   "metadata": {
    "colab": {},
    "colab_type": "code",
    "id": "c9NFX9_V10pg"
   },
   "outputs": [
    {
     "data": {
      "image/png": "[encoded data removed]",
      "text/plain": [
       "<Figure size 1152x288 with 2 Axes>"
      ]
     },
     "metadata": {},
     "output_type": "display_data"
    }
   ],
   "source": [
    "fig, ax = plt.subplots(1,2, figsize = (16,4))\n",
    "ax[0].plot(vgg_best_history.history['acc'], label = 'Small dataset')\n",
    "ax[0].plot(history.history['acc'], label = 'Full dataset')\n",
    "ax[0].set_title('Training accuracy')\n",
    "ax[0].set_xlabel('Epoch')\n",
    "ax[0].set_ylabel('Accuracy')\n",
    "ax[0].legend();\n",
    "\n",
    "ax[1].plot(vgg_best_history.history['val_acc'], label = 'Small dataset')\n",
    "ax[1].plot(history.history['val_acc'], label = 'Full dataset')\n",
    "ax[1].set_title('Validation accuracy')\n",
    "ax[1].set_xlabel('Epoch')\n",
    "ax[1].set_ylabel('Accuracy')\n",
    "ax[1].legend();"
   ]
  },
  {
   "cell_type": "markdown",
   "metadata": {
    "colab_type": "text",
    "id": "sK4BP6W810ph"
   },
   "source": [
    "What can you conclude from these plots?"
   ]
  },
  {
   "cell_type": "markdown",
   "metadata": {
    "colab_type": "text",
    "id": "HD73HWfk10pi"
   },
   "source": [
    "**Your answer:** We can conclude that we are able to reach a higher accuracy when we train the model on a larger dataset. We are now able to learn more features that could be relevant in the classification. "
   ]
  },
  {
   "cell_type": "markdown",
   "metadata": {
    "colab_type": "text",
    "id": "4SIpbPE110pj"
   },
   "source": [
    "## 7. Evaluation on test set"
   ]
  },
  {
   "cell_type": "markdown",
   "metadata": {
    "colab_type": "text",
    "id": "B_3x-td310pk"
   },
   "source": [
    "Now we'll evaluate your final model, obtained in step 6, on the test set. As mentioned before, the samples in the test set are not labeled, so we can't compute any performance metrics ourselves. Instead, we'll create a .csv file containing the predictions for each sample, and submit it to Kaggle for evaluation."
   ]
  },
  {
   "cell_type": "markdown",
   "metadata": {
    "colab_type": "text",
    "id": "U545Hyqc10pk"
   },
   "source": [
    "Compute the predictions for all samples in the test set according to your best model, and save it in a .csv file with the format expected by the competition.\n",
    "\n",
    "Tip:\n",
    "- There is a sample_submission file available for download in the same place where you downloaded the data from. Take a look at it to better understand what is the expected format here.\n",
    "\n",
    "Hints:\n",
    "- The Python module `os` has a `listdir` function, which returns the filenames of all files in a given path.\n",
    "- If you don't know how to create and write to files with Python, Google can help.\n",
    "- Keras has a submodule called `preprocessing.image`, with some handy functions (for instance `load_img` and `img_to_array`)"
   ]
  },
  {
   "cell_type": "code",
   "execution_count": 5,
   "metadata": {
    "colab": {},
    "colab_type": "code",
    "id": "BuEFsqQY10pl"
   },
   "outputs": [
    {
     "name": "stdout",
     "output_type": "stream",
     "text": [
      "Found 12500 images belonging to 1 classes.\n",
      "196/196 [==============================] - 2332s 12s/step\n"
     ]
    }
   ],
   "source": [
    "test_generator = datagen.flow_from_directory(\n",
    "        test_path,\n",
    "        target_size= (img_size,img_size),\n",
    "        batch_size=batch_size,\n",
    "        class_mode=None,\n",
    "        shuffle = False)\n",
    "\n",
    "test_generator.reset()\n",
    "submission_df = pd.DataFrame(columns = ['id', 'label'])\n",
    "prediction_probabilities = model.predict_generator(\n",
    "        test_generator,\n",
    "        use_multiprocessing = True,\n",
    "        workers = 4,\n",
    "        verbose = 1)\n",
    "\n",
    "filenames = test_generator.filenames\n",
    "file_id = [name.split('/')[-1].split('.')[0] for name in filenames]\n",
    "\n",
    "submission_df = pd.DataFrame()\n",
    "submission_df.insert(loc = 0, column = 'id', value = file_id)\n",
    "submission_df.insert(loc = 1, column = 'label', value = prediction_probabilities)\n",
    "\n",
    "submission_df.to_csv('final_submission.csv', index = False)"
   ]
  },
  {
   "cell_type": "markdown",
   "metadata": {
    "colab_type": "text",
    "id": "hJCBbhPJ10po"
   },
   "source": [
    "Now that you created your submission file, submit it to Kaggle for evaluation. The [old competition](https://www.kaggle.com/c/dogs-vs-cats) does not allow submissions any more, so submit your file to the [new one](https://www.kaggle.com/c/dogs-vs-cats-redux-kernels-edition). Kaggle evaluates your submission according to your log-loss score. Which score did you obtain?"
   ]
  },
  {
   "cell_type": "markdown",
   "metadata": {
    "colab_type": "text",
    "id": "8DN7tIhq10po"
   },
   "source": [
    "**Your answer:** 0.17772  \n",
    "This is the final submission score. Initially we had a much higher score, greater than ln(0.5), which corresponds to randomly guessing, since we forgot to rescale our test data in the same manner as the training data."
   ]
  },
  {
   "cell_type": "markdown",
   "metadata": {
    "colab_type": "text",
    "id": "HfAb2Tuv10pp"
   },
   "source": [
    "What was the username you used for this submission?"
   ]
  },
  {
   "cell_type": "markdown",
   "metadata": {
    "colab_type": "text",
    "id": "pZrcjDEy10pq"
   },
   "source": [
    "**Your answer:** eberstein"
   ]
  }
 ],
 "metadata": {
  "colab": {
   "collapsed_sections": [],
   "name": "HA1.ipynb",
   "provenance": [],
   "version": "0.3.2"
  },
  "kernelspec": {
   "display_name": "Python 3",
   "language": "python",
   "name": "python3"
  },
  "language_info": {
   "codemirror_mode": {
    "name": "ipython",
    "version": 3
   },
   "file_extension": ".py",
   "mimetype": "text/x-python",
   "name": "python",
   "nbconvert_exporter": "python",
   "pygments_lexer": "ipython3",
   "version": "3.6.5"
  }
 },
 "nbformat": 4,
 "nbformat_minor": 1
}
